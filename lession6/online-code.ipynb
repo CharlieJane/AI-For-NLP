{
 "cells": [
  {
   "cell_type": "code",
   "execution_count": 20,
   "metadata": {
    "collapsed": true
   },
   "outputs": [],
   "source": [
    "csv_path = 'C:/Users/User/mywork/project01/sqlResult_1558435.csv'"
   ]
  },
  {
   "cell_type": "code",
   "execution_count": 21,
   "metadata": {
    "collapsed": true
   },
   "outputs": [],
   "source": [
    "import pandas as pd"
   ]
  },
  {
   "cell_type": "code",
   "execution_count": 22,
   "metadata": {
    "collapsed": true
   },
   "outputs": [],
   "source": [
    "content = pd.read_csv(csv_path, encoding='gb18030')"
   ]
  },
  {
   "cell_type": "code",
   "execution_count": 23,
   "metadata": {
    "collapsed": true
   },
   "outputs": [],
   "source": [
    "content = content.fillna('')"
   ]
  },
  {
   "cell_type": "code",
   "execution_count": 24,
   "metadata": {
    "collapsed": true
   },
   "outputs": [],
   "source": [
    "news_content = content['content'].tolist()"
   ]
  },
  {
   "cell_type": "code",
   "execution_count": 6,
   "metadata": {
    "collapsed": true
   },
   "outputs": [],
   "source": [
    "import jieba"
   ]
  },
  {
   "cell_type": "code",
   "execution_count": 7,
   "metadata": {
    "collapsed": true
   },
   "outputs": [],
   "source": [
    "def cut(string): return ' '.join(jieba.cut(string))"
   ]
  },
  {
   "cell_type": "code",
   "execution_count": 8,
   "metadata": {},
   "outputs": [
    {
     "name": "stderr",
     "output_type": "stream",
     "text": [
      "Building prefix dict from the default dictionary ...\n",
      "Loading model from cache C:\\Users\\ADMINI~1\\AppData\\Local\\Temp\\jieba.cache\n",
      "Loading model cost 3.122 seconds.\n",
      "Prefix dict has been built succesfully.\n"
     ]
    },
    {
     "data": {
      "text/plain": [
       "'这是 一个 测试'"
      ]
     },
     "execution_count": 8,
     "metadata": {},
     "output_type": "execute_result"
    }
   ],
   "source": [
    "cut('这是一个测试')"
   ]
  },
  {
   "cell_type": "code",
   "execution_count": 8,
   "metadata": {
    "collapsed": true
   },
   "outputs": [],
   "source": [
    "import re"
   ]
  },
  {
   "cell_type": "code",
   "execution_count": 9,
   "metadata": {
    "collapsed": true
   },
   "outputs": [],
   "source": [
    "def token(string):\n",
    "    return re.findall(r'[\\d|\\w]+', string)"
   ]
  },
  {
   "cell_type": "code",
   "execution_count": 11,
   "metadata": {},
   "outputs": [
    {
     "data": {
      "text/plain": [
       "['这是一个测试']"
      ]
     },
     "execution_count": 11,
     "metadata": {},
     "output_type": "execute_result"
    }
   ],
   "source": [
    "token('这是一个测试\\n\\n\\n')"
   ]
  },
  {
   "cell_type": "code",
   "execution_count": 10,
   "metadata": {
    "collapsed": true
   },
   "outputs": [],
   "source": [
    "news_content = [token(n) for n in news_content]"
   ]
  },
  {
   "cell_type": "code",
   "execution_count": 11,
   "metadata": {
    "collapsed": true
   },
   "outputs": [],
   "source": [
    "news_content = [' '.join(n) for n in news_content]"
   ]
  },
  {
   "cell_type": "code",
   "execution_count": 12,
   "metadata": {},
   "outputs": [
    {
     "name": "stderr",
     "output_type": "stream",
     "text": [
      "Building prefix dict from the default dictionary ...\n",
      "Loading model from cache C:\\Users\\ADMINI~1\\AppData\\Local\\Temp\\jieba.cache\n",
      "Loading model cost 3.037 seconds.\n",
      "Prefix dict has been built succesfully.\n"
     ]
    },
    {
     "ename": "KeyboardInterrupt",
     "evalue": "",
     "output_type": "error",
     "traceback": [
      "\u001b[1;31m---------------------------------------------------------------------------\u001b[0m",
      "\u001b[1;31mKeyboardInterrupt\u001b[0m                         Traceback (most recent call last)",
      "\u001b[1;32m<ipython-input-12-f34c13cf2260>\u001b[0m in \u001b[0;36m<module>\u001b[1;34m()\u001b[0m\n\u001b[1;32m----> 1\u001b[1;33m \u001b[0mnews_content\u001b[0m \u001b[1;33m=\u001b[0m \u001b[1;33m[\u001b[0m\u001b[0mcut\u001b[0m\u001b[1;33m(\u001b[0m\u001b[0mn\u001b[0m\u001b[1;33m)\u001b[0m \u001b[1;32mfor\u001b[0m \u001b[0mn\u001b[0m \u001b[1;32min\u001b[0m \u001b[0mnews_content\u001b[0m\u001b[1;33m]\u001b[0m\u001b[1;33m\u001b[0m\u001b[0m\n\u001b[0m",
      "\u001b[1;32m<ipython-input-12-f34c13cf2260>\u001b[0m in \u001b[0;36m<listcomp>\u001b[1;34m(.0)\u001b[0m\n\u001b[1;32m----> 1\u001b[1;33m \u001b[0mnews_content\u001b[0m \u001b[1;33m=\u001b[0m \u001b[1;33m[\u001b[0m\u001b[0mcut\u001b[0m\u001b[1;33m(\u001b[0m\u001b[0mn\u001b[0m\u001b[1;33m)\u001b[0m \u001b[1;32mfor\u001b[0m \u001b[0mn\u001b[0m \u001b[1;32min\u001b[0m \u001b[0mnews_content\u001b[0m\u001b[1;33m]\u001b[0m\u001b[1;33m\u001b[0m\u001b[0m\n\u001b[0m",
      "\u001b[1;32m<ipython-input-7-cd9ff530663f>\u001b[0m in \u001b[0;36mcut\u001b[1;34m(string)\u001b[0m\n\u001b[1;32m----> 1\u001b[1;33m \u001b[1;32mdef\u001b[0m \u001b[0mcut\u001b[0m\u001b[1;33m(\u001b[0m\u001b[0mstring\u001b[0m\u001b[1;33m)\u001b[0m\u001b[1;33m:\u001b[0m \u001b[1;32mreturn\u001b[0m \u001b[1;34m' '\u001b[0m\u001b[1;33m.\u001b[0m\u001b[0mjoin\u001b[0m\u001b[1;33m(\u001b[0m\u001b[0mjieba\u001b[0m\u001b[1;33m.\u001b[0m\u001b[0mcut\u001b[0m\u001b[1;33m(\u001b[0m\u001b[0mstring\u001b[0m\u001b[1;33m)\u001b[0m\u001b[1;33m)\u001b[0m\u001b[1;33m\u001b[0m\u001b[0m\n\u001b[0m",
      "\u001b[1;32mH:\\Anaconda3\\lib\\site-packages\\jieba\\__init__.py\u001b[0m in \u001b[0;36mcut\u001b[1;34m(self, sentence, cut_all, HMM)\u001b[0m\n\u001b[0;32m    299\u001b[0m                 \u001b[1;32mcontinue\u001b[0m\u001b[1;33m\u001b[0m\u001b[0m\n\u001b[0;32m    300\u001b[0m             \u001b[1;32mif\u001b[0m \u001b[0mre_han\u001b[0m\u001b[1;33m.\u001b[0m\u001b[0mmatch\u001b[0m\u001b[1;33m(\u001b[0m\u001b[0mblk\u001b[0m\u001b[1;33m)\u001b[0m\u001b[1;33m:\u001b[0m\u001b[1;33m\u001b[0m\u001b[0m\n\u001b[1;32m--> 301\u001b[1;33m                 \u001b[1;32mfor\u001b[0m \u001b[0mword\u001b[0m \u001b[1;32min\u001b[0m \u001b[0mcut_block\u001b[0m\u001b[1;33m(\u001b[0m\u001b[0mblk\u001b[0m\u001b[1;33m)\u001b[0m\u001b[1;33m:\u001b[0m\u001b[1;33m\u001b[0m\u001b[0m\n\u001b[0m\u001b[0;32m    302\u001b[0m                     \u001b[1;32myield\u001b[0m \u001b[0mword\u001b[0m\u001b[1;33m\u001b[0m\u001b[0m\n\u001b[0;32m    303\u001b[0m             \u001b[1;32melse\u001b[0m\u001b[1;33m:\u001b[0m\u001b[1;33m\u001b[0m\u001b[0m\n",
      "\u001b[1;32mH:\\Anaconda3\\lib\\site-packages\\jieba\\__init__.py\u001b[0m in \u001b[0;36m__cut_DAG\u001b[1;34m(self, sentence)\u001b[0m\n\u001b[0;32m    233\u001b[0m         \u001b[0mDAG\u001b[0m \u001b[1;33m=\u001b[0m \u001b[0mself\u001b[0m\u001b[1;33m.\u001b[0m\u001b[0mget_DAG\u001b[0m\u001b[1;33m(\u001b[0m\u001b[0msentence\u001b[0m\u001b[1;33m)\u001b[0m\u001b[1;33m\u001b[0m\u001b[0m\n\u001b[0;32m    234\u001b[0m         \u001b[0mroute\u001b[0m \u001b[1;33m=\u001b[0m \u001b[1;33m{\u001b[0m\u001b[1;33m}\u001b[0m\u001b[1;33m\u001b[0m\u001b[0m\n\u001b[1;32m--> 235\u001b[1;33m         \u001b[0mself\u001b[0m\u001b[1;33m.\u001b[0m\u001b[0mcalc\u001b[0m\u001b[1;33m(\u001b[0m\u001b[0msentence\u001b[0m\u001b[1;33m,\u001b[0m \u001b[0mDAG\u001b[0m\u001b[1;33m,\u001b[0m \u001b[0mroute\u001b[0m\u001b[1;33m)\u001b[0m\u001b[1;33m\u001b[0m\u001b[0m\n\u001b[0m\u001b[0;32m    236\u001b[0m         \u001b[0mx\u001b[0m \u001b[1;33m=\u001b[0m \u001b[1;36m0\u001b[0m\u001b[1;33m\u001b[0m\u001b[0m\n\u001b[0;32m    237\u001b[0m         \u001b[0mbuf\u001b[0m \u001b[1;33m=\u001b[0m \u001b[1;34m''\u001b[0m\u001b[1;33m\u001b[0m\u001b[0m\n",
      "\u001b[1;32mH:\\Anaconda3\\lib\\site-packages\\jieba\\__init__.py\u001b[0m in \u001b[0;36mcalc\u001b[1;34m(self, sentence, DAG, route)\u001b[0m\n\u001b[0;32m    174\u001b[0m         \u001b[1;32mfor\u001b[0m \u001b[0midx\u001b[0m \u001b[1;32min\u001b[0m \u001b[0mxrange\u001b[0m\u001b[1;33m(\u001b[0m\u001b[0mN\u001b[0m \u001b[1;33m-\u001b[0m \u001b[1;36m1\u001b[0m\u001b[1;33m,\u001b[0m \u001b[1;33m-\u001b[0m\u001b[1;36m1\u001b[0m\u001b[1;33m,\u001b[0m \u001b[1;33m-\u001b[0m\u001b[1;36m1\u001b[0m\u001b[1;33m)\u001b[0m\u001b[1;33m:\u001b[0m\u001b[1;33m\u001b[0m\u001b[0m\n\u001b[0;32m    175\u001b[0m             route[idx] = max((log(self.FREQ.get(sentence[idx:x + 1]) or 1) -\n\u001b[1;32m--> 176\u001b[1;33m                               logtotal + route[x + 1][0], x) for x in DAG[idx])\n\u001b[0m\u001b[0;32m    177\u001b[0m \u001b[1;33m\u001b[0m\u001b[0m\n\u001b[0;32m    178\u001b[0m     \u001b[1;32mdef\u001b[0m \u001b[0mget_DAG\u001b[0m\u001b[1;33m(\u001b[0m\u001b[0mself\u001b[0m\u001b[1;33m,\u001b[0m \u001b[0msentence\u001b[0m\u001b[1;33m)\u001b[0m\u001b[1;33m:\u001b[0m\u001b[1;33m\u001b[0m\u001b[0m\n",
      "\u001b[1;32mH:\\Anaconda3\\lib\\site-packages\\jieba\\__init__.py\u001b[0m in \u001b[0;36m<genexpr>\u001b[1;34m(.0)\u001b[0m\n\u001b[0;32m    174\u001b[0m         \u001b[1;32mfor\u001b[0m \u001b[0midx\u001b[0m \u001b[1;32min\u001b[0m \u001b[0mxrange\u001b[0m\u001b[1;33m(\u001b[0m\u001b[0mN\u001b[0m \u001b[1;33m-\u001b[0m \u001b[1;36m1\u001b[0m\u001b[1;33m,\u001b[0m \u001b[1;33m-\u001b[0m\u001b[1;36m1\u001b[0m\u001b[1;33m,\u001b[0m \u001b[1;33m-\u001b[0m\u001b[1;36m1\u001b[0m\u001b[1;33m)\u001b[0m\u001b[1;33m:\u001b[0m\u001b[1;33m\u001b[0m\u001b[0m\n\u001b[0;32m    175\u001b[0m             route[idx] = max((log(self.FREQ.get(sentence[idx:x + 1]) or 1) -\n\u001b[1;32m--> 176\u001b[1;33m                               logtotal + route[x + 1][0], x) for x in DAG[idx])\n\u001b[0m\u001b[0;32m    177\u001b[0m \u001b[1;33m\u001b[0m\u001b[0m\n\u001b[0;32m    178\u001b[0m     \u001b[1;32mdef\u001b[0m \u001b[0mget_DAG\u001b[0m\u001b[1;33m(\u001b[0m\u001b[0mself\u001b[0m\u001b[1;33m,\u001b[0m \u001b[0msentence\u001b[0m\u001b[1;33m)\u001b[0m\u001b[1;33m:\u001b[0m\u001b[1;33m\u001b[0m\u001b[0m\n",
      "\u001b[1;31mKeyboardInterrupt\u001b[0m: "
     ]
    }
   ],
   "source": [
    "news_content = [cut(n) for n in news_content]"
   ]
  },
  {
   "cell_type": "code",
   "execution_count": 15,
   "metadata": {},
   "outputs": [
    {
     "data": {
      "text/plain": [
       "'骁龙 835 作为 唯一 通过 Windows   10 桌面 平台 认证 的 ARM 处理器   高通 强调   不会 因为 只 考虑 性能 而 去 屏蔽掉 小 核心   相反   他们 正 联手 微软   找到 一种 适合 桌面 平台 的   兼顾 性能 和 功耗 的 完美 方案   报道 称   微软 已经 拿到 了 一些 新 的 源码   以便 Windows   10 更好 地 理解 big   little 架构   资料 显示   骁龙 835 作为 一款 集成 了 CPU   GPU   基带   蓝牙   Wi   Fi 的 SoC   比 传统 的 Wintel 方案 可以 节省 至少 30   的 PCB 空间   按计划   今年 Q4   华硕   惠普   联想 将 首发 骁龙 835   Win10 电脑   预计 均 是 二合一 形态 的 产品   当然   高通 骁龙 只是 个 开始   未来 也许 还 能 见到 三星 Exynos   联发科   华为 麒麟   小米 澎湃 等 进入 Windows   10 桌面 平台'"
      ]
     },
     "execution_count": 15,
     "metadata": {},
     "output_type": "execute_result"
    }
   ],
   "source": [
    "news_content[1]"
   ]
  },
  {
   "cell_type": "code",
   "execution_count": 16,
   "metadata": {
    "collapsed": true
   },
   "outputs": [],
   "source": [
    "with open('news-sentences-cut.txt', 'w') as f:\n",
    "    for n in news_content:\n",
    "        f.write(n + '\\n')"
   ]
  },
  {
   "cell_type": "code",
   "execution_count": 1,
   "metadata": {
    "collapsed": true
   },
   "outputs": [],
   "source": [
    "from gensim.models import Word2Vec"
   ]
  },
  {
   "cell_type": "code",
   "execution_count": 2,
   "metadata": {
    "collapsed": true
   },
   "outputs": [],
   "source": [
    "from gensim.models.word2vec import LineSentence"
   ]
  },
  {
   "cell_type": "code",
   "execution_count": 4,
   "metadata": {},
   "outputs": [
    {
     "name": "stderr",
     "output_type": "stream",
     "text": [
      "D:\\tobeabetterman\\tools\\anaconda3\\lib\\site-packages\\gensim\\models\\base_any2vec.py:743: UserWarning: C extension not loaded, training will be slow. Install a C compiler and reinstall gensim for fast training.\n",
      "  \"C extension not loaded, training will be slow. \"\n"
     ]
    },
    {
     "ename": "KeyboardInterrupt",
     "evalue": "",
     "output_type": "error",
     "traceback": [
      "\u001b[1;31m---------------------------------------------------------------------------\u001b[0m",
      "\u001b[1;31mKeyboardInterrupt\u001b[0m                         Traceback (most recent call last)",
      "\u001b[1;32m<ipython-input-4-8a79b9e2986e>\u001b[0m in \u001b[0;36m<module>\u001b[1;34m()\u001b[0m\n\u001b[1;32m----> 1\u001b[1;33m \u001b[0mnews_word2ve\u001b[0m\u001b[1;33m=\u001b[0m \u001b[0mWord2Vec\u001b[0m\u001b[1;33m(\u001b[0m\u001b[0mLineSentence\u001b[0m\u001b[1;33m(\u001b[0m\u001b[0mopen\u001b[0m\u001b[1;33m(\u001b[0m\u001b[1;34m'news-sentences-cut.txt'\u001b[0m\u001b[1;33m,\u001b[0m\u001b[1;34m'r'\u001b[0m\u001b[1;33m,\u001b[0m\u001b[0mencoding\u001b[0m \u001b[1;33m=\u001b[0m \u001b[1;34m'gb18030'\u001b[0m\u001b[1;33m,\u001b[0m\u001b[0merrors\u001b[0m\u001b[1;33m=\u001b[0m\u001b[1;34m'ignore'\u001b[0m\u001b[1;33m)\u001b[0m\u001b[1;33m)\u001b[0m\u001b[1;33m,\u001b[0m \u001b[0msize\u001b[0m\u001b[1;33m=\u001b[0m\u001b[1;36m35\u001b[0m\u001b[1;33m,\u001b[0m \u001b[0mworkers\u001b[0m\u001b[1;33m=\u001b[0m\u001b[1;36m8\u001b[0m\u001b[1;33m)\u001b[0m\u001b[1;33m\u001b[0m\u001b[0m\n\u001b[0m",
      "\u001b[1;32mD:\\tobeabetterman\\tools\\anaconda3\\lib\\site-packages\\gensim\\models\\word2vec.py\u001b[0m in \u001b[0;36m__init__\u001b[1;34m(self, sentences, corpus_file, size, alpha, window, min_count, max_vocab_size, sample, seed, workers, min_alpha, sg, hs, negative, ns_exponent, cbow_mean, hashfxn, iter, null_word, trim_rule, sorted_vocab, batch_words, compute_loss, callbacks, max_final_vocab)\u001b[0m\n\u001b[0;32m    781\u001b[0m             \u001b[0mcallbacks\u001b[0m\u001b[1;33m=\u001b[0m\u001b[0mcallbacks\u001b[0m\u001b[1;33m,\u001b[0m \u001b[0mbatch_words\u001b[0m\u001b[1;33m=\u001b[0m\u001b[0mbatch_words\u001b[0m\u001b[1;33m,\u001b[0m \u001b[0mtrim_rule\u001b[0m\u001b[1;33m=\u001b[0m\u001b[0mtrim_rule\u001b[0m\u001b[1;33m,\u001b[0m \u001b[0msg\u001b[0m\u001b[1;33m=\u001b[0m\u001b[0msg\u001b[0m\u001b[1;33m,\u001b[0m \u001b[0malpha\u001b[0m\u001b[1;33m=\u001b[0m\u001b[0malpha\u001b[0m\u001b[1;33m,\u001b[0m \u001b[0mwindow\u001b[0m\u001b[1;33m=\u001b[0m\u001b[0mwindow\u001b[0m\u001b[1;33m,\u001b[0m\u001b[1;33m\u001b[0m\u001b[0m\n\u001b[0;32m    782\u001b[0m             \u001b[0mseed\u001b[0m\u001b[1;33m=\u001b[0m\u001b[0mseed\u001b[0m\u001b[1;33m,\u001b[0m \u001b[0mhs\u001b[0m\u001b[1;33m=\u001b[0m\u001b[0mhs\u001b[0m\u001b[1;33m,\u001b[0m \u001b[0mnegative\u001b[0m\u001b[1;33m=\u001b[0m\u001b[0mnegative\u001b[0m\u001b[1;33m,\u001b[0m \u001b[0mcbow_mean\u001b[0m\u001b[1;33m=\u001b[0m\u001b[0mcbow_mean\u001b[0m\u001b[1;33m,\u001b[0m \u001b[0mmin_alpha\u001b[0m\u001b[1;33m=\u001b[0m\u001b[0mmin_alpha\u001b[0m\u001b[1;33m,\u001b[0m \u001b[0mcompute_loss\u001b[0m\u001b[1;33m=\u001b[0m\u001b[0mcompute_loss\u001b[0m\u001b[1;33m,\u001b[0m\u001b[1;33m\u001b[0m\u001b[0m\n\u001b[1;32m--> 783\u001b[1;33m             fast_version=FAST_VERSION)\n\u001b[0m\u001b[0;32m    784\u001b[0m \u001b[1;33m\u001b[0m\u001b[0m\n\u001b[0;32m    785\u001b[0m     def _do_train_epoch(self, corpus_file, thread_id, offset, cython_vocab, thread_private_mem, cur_epoch,\n",
      "\u001b[1;32mD:\\tobeabetterman\\tools\\anaconda3\\lib\\site-packages\\gensim\\models\\base_any2vec.py\u001b[0m in \u001b[0;36m__init__\u001b[1;34m(self, sentences, corpus_file, workers, vector_size, epochs, callbacks, batch_words, trim_rule, sg, alpha, window, seed, hs, negative, ns_exponent, cbow_mean, min_alpha, compute_loss, fast_version, **kwargs)\u001b[0m\n\u001b[0;32m    761\u001b[0m                 \u001b[0msentences\u001b[0m\u001b[1;33m=\u001b[0m\u001b[0msentences\u001b[0m\u001b[1;33m,\u001b[0m \u001b[0mcorpus_file\u001b[0m\u001b[1;33m=\u001b[0m\u001b[0mcorpus_file\u001b[0m\u001b[1;33m,\u001b[0m \u001b[0mtotal_examples\u001b[0m\u001b[1;33m=\u001b[0m\u001b[0mself\u001b[0m\u001b[1;33m.\u001b[0m\u001b[0mcorpus_count\u001b[0m\u001b[1;33m,\u001b[0m\u001b[1;33m\u001b[0m\u001b[0m\n\u001b[0;32m    762\u001b[0m                 \u001b[0mtotal_words\u001b[0m\u001b[1;33m=\u001b[0m\u001b[0mself\u001b[0m\u001b[1;33m.\u001b[0m\u001b[0mcorpus_total_words\u001b[0m\u001b[1;33m,\u001b[0m \u001b[0mepochs\u001b[0m\u001b[1;33m=\u001b[0m\u001b[0mself\u001b[0m\u001b[1;33m.\u001b[0m\u001b[0mepochs\u001b[0m\u001b[1;33m,\u001b[0m \u001b[0mstart_alpha\u001b[0m\u001b[1;33m=\u001b[0m\u001b[0mself\u001b[0m\u001b[1;33m.\u001b[0m\u001b[0malpha\u001b[0m\u001b[1;33m,\u001b[0m\u001b[1;33m\u001b[0m\u001b[0m\n\u001b[1;32m--> 763\u001b[1;33m                 end_alpha=self.min_alpha, compute_loss=compute_loss)\n\u001b[0m\u001b[0;32m    764\u001b[0m         \u001b[1;32melse\u001b[0m\u001b[1;33m:\u001b[0m\u001b[1;33m\u001b[0m\u001b[0m\n\u001b[0;32m    765\u001b[0m             \u001b[1;32mif\u001b[0m \u001b[0mtrim_rule\u001b[0m \u001b[1;32mis\u001b[0m \u001b[1;32mnot\u001b[0m \u001b[1;32mNone\u001b[0m\u001b[1;33m:\u001b[0m\u001b[1;33m\u001b[0m\u001b[0m\n",
      "\u001b[1;32mD:\\tobeabetterman\\tools\\anaconda3\\lib\\site-packages\\gensim\\models\\word2vec.py\u001b[0m in \u001b[0;36mtrain\u001b[1;34m(self, sentences, corpus_file, total_examples, total_words, epochs, start_alpha, end_alpha, word_count, queue_factor, report_delay, compute_loss, callbacks)\u001b[0m\n\u001b[0;32m    908\u001b[0m             \u001b[0msentences\u001b[0m\u001b[1;33m=\u001b[0m\u001b[0msentences\u001b[0m\u001b[1;33m,\u001b[0m \u001b[0mcorpus_file\u001b[0m\u001b[1;33m=\u001b[0m\u001b[0mcorpus_file\u001b[0m\u001b[1;33m,\u001b[0m \u001b[0mtotal_examples\u001b[0m\u001b[1;33m=\u001b[0m\u001b[0mtotal_examples\u001b[0m\u001b[1;33m,\u001b[0m \u001b[0mtotal_words\u001b[0m\u001b[1;33m=\u001b[0m\u001b[0mtotal_words\u001b[0m\u001b[1;33m,\u001b[0m\u001b[1;33m\u001b[0m\u001b[0m\n\u001b[0;32m    909\u001b[0m             \u001b[0mepochs\u001b[0m\u001b[1;33m=\u001b[0m\u001b[0mepochs\u001b[0m\u001b[1;33m,\u001b[0m \u001b[0mstart_alpha\u001b[0m\u001b[1;33m=\u001b[0m\u001b[0mstart_alpha\u001b[0m\u001b[1;33m,\u001b[0m \u001b[0mend_alpha\u001b[0m\u001b[1;33m=\u001b[0m\u001b[0mend_alpha\u001b[0m\u001b[1;33m,\u001b[0m \u001b[0mword_count\u001b[0m\u001b[1;33m=\u001b[0m\u001b[0mword_count\u001b[0m\u001b[1;33m,\u001b[0m\u001b[1;33m\u001b[0m\u001b[0m\n\u001b[1;32m--> 910\u001b[1;33m             queue_factor=queue_factor, report_delay=report_delay, compute_loss=compute_loss, callbacks=callbacks)\n\u001b[0m\u001b[0;32m    911\u001b[0m \u001b[1;33m\u001b[0m\u001b[0m\n\u001b[0;32m    912\u001b[0m     \u001b[1;32mdef\u001b[0m \u001b[0mscore\u001b[0m\u001b[1;33m(\u001b[0m\u001b[0mself\u001b[0m\u001b[1;33m,\u001b[0m \u001b[0msentences\u001b[0m\u001b[1;33m,\u001b[0m \u001b[0mtotal_sentences\u001b[0m\u001b[1;33m=\u001b[0m\u001b[0mint\u001b[0m\u001b[1;33m(\u001b[0m\u001b[1;36m1e6\u001b[0m\u001b[1;33m)\u001b[0m\u001b[1;33m,\u001b[0m \u001b[0mchunksize\u001b[0m\u001b[1;33m=\u001b[0m\u001b[1;36m100\u001b[0m\u001b[1;33m,\u001b[0m \u001b[0mqueue_factor\u001b[0m\u001b[1;33m=\u001b[0m\u001b[1;36m2\u001b[0m\u001b[1;33m,\u001b[0m \u001b[0mreport_delay\u001b[0m\u001b[1;33m=\u001b[0m\u001b[1;36m1\u001b[0m\u001b[1;33m)\u001b[0m\u001b[1;33m:\u001b[0m\u001b[1;33m\u001b[0m\u001b[0m\n",
      "\u001b[1;32mD:\\tobeabetterman\\tools\\anaconda3\\lib\\site-packages\\gensim\\models\\base_any2vec.py\u001b[0m in \u001b[0;36mtrain\u001b[1;34m(self, sentences, corpus_file, total_examples, total_words, epochs, start_alpha, end_alpha, word_count, queue_factor, report_delay, compute_loss, callbacks, **kwargs)\u001b[0m\n\u001b[0;32m   1079\u001b[0m             \u001b[0mtotal_words\u001b[0m\u001b[1;33m=\u001b[0m\u001b[0mtotal_words\u001b[0m\u001b[1;33m,\u001b[0m \u001b[0mepochs\u001b[0m\u001b[1;33m=\u001b[0m\u001b[0mepochs\u001b[0m\u001b[1;33m,\u001b[0m \u001b[0mstart_alpha\u001b[0m\u001b[1;33m=\u001b[0m\u001b[0mstart_alpha\u001b[0m\u001b[1;33m,\u001b[0m \u001b[0mend_alpha\u001b[0m\u001b[1;33m=\u001b[0m\u001b[0mend_alpha\u001b[0m\u001b[1;33m,\u001b[0m \u001b[0mword_count\u001b[0m\u001b[1;33m=\u001b[0m\u001b[0mword_count\u001b[0m\u001b[1;33m,\u001b[0m\u001b[1;33m\u001b[0m\u001b[0m\n\u001b[0;32m   1080\u001b[0m             \u001b[0mqueue_factor\u001b[0m\u001b[1;33m=\u001b[0m\u001b[0mqueue_factor\u001b[0m\u001b[1;33m,\u001b[0m \u001b[0mreport_delay\u001b[0m\u001b[1;33m=\u001b[0m\u001b[0mreport_delay\u001b[0m\u001b[1;33m,\u001b[0m \u001b[0mcompute_loss\u001b[0m\u001b[1;33m=\u001b[0m\u001b[0mcompute_loss\u001b[0m\u001b[1;33m,\u001b[0m \u001b[0mcallbacks\u001b[0m\u001b[1;33m=\u001b[0m\u001b[0mcallbacks\u001b[0m\u001b[1;33m,\u001b[0m\u001b[1;33m\u001b[0m\u001b[0m\n\u001b[1;32m-> 1081\u001b[1;33m             **kwargs)\n\u001b[0m\u001b[0;32m   1082\u001b[0m \u001b[1;33m\u001b[0m\u001b[0m\n\u001b[0;32m   1083\u001b[0m     \u001b[1;32mdef\u001b[0m \u001b[0m_get_job_params\u001b[0m\u001b[1;33m(\u001b[0m\u001b[0mself\u001b[0m\u001b[1;33m,\u001b[0m \u001b[0mcur_epoch\u001b[0m\u001b[1;33m)\u001b[0m\u001b[1;33m:\u001b[0m\u001b[1;33m\u001b[0m\u001b[0m\n",
      "\u001b[1;32mD:\\tobeabetterman\\tools\\anaconda3\\lib\\site-packages\\gensim\\models\\base_any2vec.py\u001b[0m in \u001b[0;36mtrain\u001b[1;34m(self, data_iterable, corpus_file, epochs, total_examples, total_words, queue_factor, report_delay, callbacks, **kwargs)\u001b[0m\n\u001b[0;32m    551\u001b[0m                 trained_word_count_epoch, raw_word_count_epoch, job_tally_epoch = self._train_epoch(\n\u001b[0;32m    552\u001b[0m                     \u001b[0mdata_iterable\u001b[0m\u001b[1;33m,\u001b[0m \u001b[0mcur_epoch\u001b[0m\u001b[1;33m=\u001b[0m\u001b[0mcur_epoch\u001b[0m\u001b[1;33m,\u001b[0m \u001b[0mtotal_examples\u001b[0m\u001b[1;33m=\u001b[0m\u001b[0mtotal_examples\u001b[0m\u001b[1;33m,\u001b[0m\u001b[1;33m\u001b[0m\u001b[0m\n\u001b[1;32m--> 553\u001b[1;33m                     total_words=total_words, queue_factor=queue_factor, report_delay=report_delay)\n\u001b[0m\u001b[0;32m    554\u001b[0m             \u001b[1;32melse\u001b[0m\u001b[1;33m:\u001b[0m\u001b[1;33m\u001b[0m\u001b[0m\n\u001b[0;32m    555\u001b[0m                 trained_word_count_epoch, raw_word_count_epoch, job_tally_epoch = self._train_epoch_corpusfile(\n",
      "\u001b[1;32mD:\\tobeabetterman\\tools\\anaconda3\\lib\\site-packages\\gensim\\models\\base_any2vec.py\u001b[0m in \u001b[0;36m_train_epoch\u001b[1;34m(self, data_iterable, cur_epoch, total_examples, total_words, queue_factor, report_delay)\u001b[0m\n\u001b[0;32m    487\u001b[0m         trained_word_count, raw_word_count, job_tally = self._log_epoch_progress(\n\u001b[0;32m    488\u001b[0m             \u001b[0mprogress_queue\u001b[0m\u001b[1;33m,\u001b[0m \u001b[0mjob_queue\u001b[0m\u001b[1;33m,\u001b[0m \u001b[0mcur_epoch\u001b[0m\u001b[1;33m=\u001b[0m\u001b[0mcur_epoch\u001b[0m\u001b[1;33m,\u001b[0m \u001b[0mtotal_examples\u001b[0m\u001b[1;33m=\u001b[0m\u001b[0mtotal_examples\u001b[0m\u001b[1;33m,\u001b[0m \u001b[0mtotal_words\u001b[0m\u001b[1;33m=\u001b[0m\u001b[0mtotal_words\u001b[0m\u001b[1;33m,\u001b[0m\u001b[1;33m\u001b[0m\u001b[0m\n\u001b[1;32m--> 489\u001b[1;33m             report_delay=report_delay, is_corpus_file_mode=False)\n\u001b[0m\u001b[0;32m    490\u001b[0m \u001b[1;33m\u001b[0m\u001b[0m\n\u001b[0;32m    491\u001b[0m         \u001b[1;32mreturn\u001b[0m \u001b[0mtrained_word_count\u001b[0m\u001b[1;33m,\u001b[0m \u001b[0mraw_word_count\u001b[0m\u001b[1;33m,\u001b[0m \u001b[0mjob_tally\u001b[0m\u001b[1;33m\u001b[0m\u001b[0m\n",
      "\u001b[1;32mD:\\tobeabetterman\\tools\\anaconda3\\lib\\site-packages\\gensim\\models\\base_any2vec.py\u001b[0m in \u001b[0;36m_log_epoch_progress\u001b[1;34m(self, progress_queue, job_queue, cur_epoch, total_examples, total_words, report_delay, is_corpus_file_mode)\u001b[0m\n\u001b[0;32m    344\u001b[0m \u001b[1;33m\u001b[0m\u001b[0m\n\u001b[0;32m    345\u001b[0m         \u001b[1;32mwhile\u001b[0m \u001b[0munfinished_worker_count\u001b[0m \u001b[1;33m>\u001b[0m \u001b[1;36m0\u001b[0m\u001b[1;33m:\u001b[0m\u001b[1;33m\u001b[0m\u001b[0m\n\u001b[1;32m--> 346\u001b[1;33m             \u001b[0mreport\u001b[0m \u001b[1;33m=\u001b[0m \u001b[0mprogress_queue\u001b[0m\u001b[1;33m.\u001b[0m\u001b[0mget\u001b[0m\u001b[1;33m(\u001b[0m\u001b[1;33m)\u001b[0m  \u001b[1;31m# blocks if workers too slow\u001b[0m\u001b[1;33m\u001b[0m\u001b[0m\n\u001b[0m\u001b[0;32m    347\u001b[0m             \u001b[1;32mif\u001b[0m \u001b[0mreport\u001b[0m \u001b[1;32mis\u001b[0m \u001b[1;32mNone\u001b[0m\u001b[1;33m:\u001b[0m  \u001b[1;31m# a thread reporting that it finished\u001b[0m\u001b[1;33m\u001b[0m\u001b[0m\n\u001b[0;32m    348\u001b[0m                 \u001b[0munfinished_worker_count\u001b[0m \u001b[1;33m-=\u001b[0m \u001b[1;36m1\u001b[0m\u001b[1;33m\u001b[0m\u001b[0m\n",
      "\u001b[1;32mD:\\tobeabetterman\\tools\\anaconda3\\lib\\queue.py\u001b[0m in \u001b[0;36mget\u001b[1;34m(self, block, timeout)\u001b[0m\n\u001b[0;32m    162\u001b[0m             \u001b[1;32melif\u001b[0m \u001b[0mtimeout\u001b[0m \u001b[1;32mis\u001b[0m \u001b[1;32mNone\u001b[0m\u001b[1;33m:\u001b[0m\u001b[1;33m\u001b[0m\u001b[0m\n\u001b[0;32m    163\u001b[0m                 \u001b[1;32mwhile\u001b[0m \u001b[1;32mnot\u001b[0m \u001b[0mself\u001b[0m\u001b[1;33m.\u001b[0m\u001b[0m_qsize\u001b[0m\u001b[1;33m(\u001b[0m\u001b[1;33m)\u001b[0m\u001b[1;33m:\u001b[0m\u001b[1;33m\u001b[0m\u001b[0m\n\u001b[1;32m--> 164\u001b[1;33m                     \u001b[0mself\u001b[0m\u001b[1;33m.\u001b[0m\u001b[0mnot_empty\u001b[0m\u001b[1;33m.\u001b[0m\u001b[0mwait\u001b[0m\u001b[1;33m(\u001b[0m\u001b[1;33m)\u001b[0m\u001b[1;33m\u001b[0m\u001b[0m\n\u001b[0m\u001b[0;32m    165\u001b[0m             \u001b[1;32melif\u001b[0m \u001b[0mtimeout\u001b[0m \u001b[1;33m<\u001b[0m \u001b[1;36m0\u001b[0m\u001b[1;33m:\u001b[0m\u001b[1;33m\u001b[0m\u001b[0m\n\u001b[0;32m    166\u001b[0m                 \u001b[1;32mraise\u001b[0m \u001b[0mValueError\u001b[0m\u001b[1;33m(\u001b[0m\u001b[1;34m\"'timeout' must be a non-negative number\"\u001b[0m\u001b[1;33m)\u001b[0m\u001b[1;33m\u001b[0m\u001b[0m\n",
      "\u001b[1;32mD:\\tobeabetterman\\tools\\anaconda3\\lib\\threading.py\u001b[0m in \u001b[0;36mwait\u001b[1;34m(self, timeout)\u001b[0m\n\u001b[0;32m    293\u001b[0m         \u001b[1;32mtry\u001b[0m\u001b[1;33m:\u001b[0m    \u001b[1;31m# restore state no matter what (e.g., KeyboardInterrupt)\u001b[0m\u001b[1;33m\u001b[0m\u001b[0m\n\u001b[0;32m    294\u001b[0m             \u001b[1;32mif\u001b[0m \u001b[0mtimeout\u001b[0m \u001b[1;32mis\u001b[0m \u001b[1;32mNone\u001b[0m\u001b[1;33m:\u001b[0m\u001b[1;33m\u001b[0m\u001b[0m\n\u001b[1;32m--> 295\u001b[1;33m                 \u001b[0mwaiter\u001b[0m\u001b[1;33m.\u001b[0m\u001b[0macquire\u001b[0m\u001b[1;33m(\u001b[0m\u001b[1;33m)\u001b[0m\u001b[1;33m\u001b[0m\u001b[0m\n\u001b[0m\u001b[0;32m    296\u001b[0m                 \u001b[0mgotit\u001b[0m \u001b[1;33m=\u001b[0m \u001b[1;32mTrue\u001b[0m\u001b[1;33m\u001b[0m\u001b[0m\n\u001b[0;32m    297\u001b[0m             \u001b[1;32melse\u001b[0m\u001b[1;33m:\u001b[0m\u001b[1;33m\u001b[0m\u001b[0m\n",
      "\u001b[1;31mKeyboardInterrupt\u001b[0m: "
     ]
    }
   ],
   "source": [
    "news_word2ve= Word2Vec(LineSentence(open('news-sentences-cut.txt','r',encoding = 'gb18030',errors='ignore')), size=35, workers=8)"
   ]
  },
  {
   "cell_type": "code",
   "execution_count": 8,
   "metadata": {},
   "outputs": [],
   "source": [
    "import gensim\n",
    "news_word2ve = gensim.models.word2vec.Word2Vec.load(\"Word2vec.w2v\").wv"
   ]
  },
  {
   "cell_type": "code",
   "execution_count": 9,
   "metadata": {},
   "outputs": [
    {
     "data": {
      "text/plain": [
       "[('表示', 0.9002997875213623),\n",
       " ('认为', 0.8447468876838684),\n",
       " ('指出', 0.8427241444587708),\n",
       " ('看来', 0.8052114248275757),\n",
       " ('明说', 0.7910041809082031),\n",
       " ('称', 0.7672169804573059),\n",
       " ('坦言', 0.7502412796020508),\n",
       " ('文说', 0.7366256713867188),\n",
       " ('介绍', 0.7300548553466797),\n",
       " ('告诉', 0.7265288829803467),\n",
       " ('特别强调', 0.7194773554801941),\n",
       " ('透露', 0.7071252465248108),\n",
       " ('强调', 0.6941632032394409),\n",
       " ('中说', 0.6786888837814331),\n",
       " ('称赞', 0.6766875982284546),\n",
       " ('所说', 0.6691125631332397),\n",
       " ('提到', 0.6321943998336792),\n",
       " ('深有体会', 0.6026611328125),\n",
       " ('建议', 0.600321352481842),\n",
       " ('写道', 0.6002739667892456),\n",
       " ('纳说', 0.583228349685669),\n",
       " ('时说', 0.5790384411811829),\n",
       " ('说道', 0.5758864879608154),\n",
       " ('如是说', 0.5736161470413208),\n",
       " ('的话', 0.5685911178588867),\n",
       " ('地说', 0.5515662431716919),\n",
       " ('镐', 0.549983024597168),\n",
       " ('颇深', 0.5493456125259399),\n",
       " ('直言', 0.5475574135780334),\n",
       " ('曼说', 0.5465236902236938)]"
      ]
     },
     "execution_count": 9,
     "metadata": {},
     "output_type": "execute_result"
    }
   ],
   "source": [
    "news_word2ve.most_similar('说', topn=30)"
   ]
  },
  {
   "cell_type": "code",
   "execution_count": 10,
   "metadata": {},
   "outputs": [
    {
     "data": {
      "text/plain": [
       "[('指出', 0.9182546138763428),\n",
       " ('表示', 0.8814195394515991),\n",
       " ('说', 0.8447469472885132),\n",
       " ('看来', 0.833301305770874),\n",
       " ('称', 0.8172537088394165),\n",
       " ('坦言', 0.7660394310951233),\n",
       " ('建议', 0.7492708563804626),\n",
       " ('普遍认为', 0.7379234433174133),\n",
       " ('强调', 0.7315503358840942),\n",
       " ('透露', 0.7249681949615479),\n",
       " ('特别强调', 0.7018728852272034),\n",
       " ('所说', 0.6948210000991821),\n",
       " ('观点', 0.638931155204773),\n",
       " ('表明', 0.6373517513275146),\n",
       " ('对此', 0.6349701881408691),\n",
       " ('看法', 0.631763756275177),\n",
       " ('告诉', 0.6301299333572388),\n",
       " ('称赞', 0.6265140771865845),\n",
       " ('声称', 0.6225423812866211),\n",
       " ('相信', 0.6150899529457092),\n",
       " ('提到', 0.6120508313179016),\n",
       " ('电影界', 0.6117475628852844),\n",
       " ('呼吁', 0.6113141775131226),\n",
       " ('明说', 0.6108672618865967),\n",
       " ('及其', 0.6083630919456482),\n",
       " ('中称', 0.6058492660522461),\n",
       " ('猜测', 0.6044807434082031),\n",
       " ('介绍', 0.6028688549995422),\n",
       " ('中说', 0.6003395318984985),\n",
       " ('做法', 0.6002458333969116)]"
      ]
     },
     "execution_count": 10,
     "metadata": {},
     "output_type": "execute_result"
    }
   ],
   "source": [
    "news_word2ve.most_similar('认为', topn=30)"
   ]
  },
  {
   "cell_type": "code",
   "execution_count": 11,
   "metadata": {},
   "outputs": [
    {
     "data": {
      "text/plain": [
       "[('认为', 0.7492708563804626),\n",
       " ('要求', 0.7255094647407532),\n",
       " ('指出', 0.710199773311615),\n",
       " ('表示', 0.6895305514335632),\n",
       " ('强调', 0.6760668158531189),\n",
       " ('意见建议', 0.6596482396125793),\n",
       " ('鼓励', 0.6401159167289734),\n",
       " ('解释', 0.6401046514511108),\n",
       " ('提醒', 0.6368593573570251),\n",
       " ('慎重', 0.6367899179458618)]"
      ]
     },
     "execution_count": 11,
     "metadata": {},
     "output_type": "execute_result"
    }
   ],
   "source": [
    "news_word2ve.most_similar('建议', topn=10)"
   ]
  },
  {
   "cell_type": "code",
   "execution_count": null,
   "metadata": {
    "collapsed": true
   },
   "outputs": [],
   "source": []
  },
  {
   "cell_type": "code",
   "execution_count": null,
   "metadata": {
    "collapsed": true
   },
   "outputs": [],
   "source": []
  },
  {
   "cell_type": "code",
   "execution_count": 12,
   "metadata": {
    "collapsed": true
   },
   "outputs": [],
   "source": [
    "from collections import defaultdict"
   ]
  },
  {
   "cell_type": "code",
   "execution_count": 13,
   "metadata": {
    "collapsed": true
   },
   "outputs": [],
   "source": [
    "def get_related_words(initial_words, model):\n",
    "    \"\"\"\n",
    "    @initial_words are initial words we already know\n",
    "    @model is the word2vec model\n",
    "    \"\"\"\n",
    "    \n",
    "    unseen = initial_words\n",
    "    \n",
    "    seen = defaultdict(int)\n",
    "    \n",
    "    max_size = 500  # could be greater\n",
    "    \n",
    "    while unseen and len(seen) < max_size:\n",
    "        if len(seen) % 50 == 0: \n",
    "            print('seen length : {}'.format(len(seen)))\n",
    "            \n",
    "        node = unseen.pop(0)\n",
    "        \n",
    "        new_expanding = [w for w, s in model.most_similar(node, topn=20)]\n",
    "        \n",
    "        unseen += new_expanding\n",
    "        \n",
    "        seen[node] += 1\n",
    "        \n",
    "        # optimal: 1. score function could be revised\n",
    "        # optimal: 2. using dymanic programming to reduce computing time\n",
    "    \n",
    "    return seen"
   ]
  },
  {
   "cell_type": "code",
   "execution_count": 14,
   "metadata": {},
   "outputs": [
    {
     "name": "stderr",
     "output_type": "stream",
     "text": [
      "D:\\tobeabetterman\\tools\\anaconda3\\lib\\site-packages\\ipykernel_launcher.py:1: DeprecationWarning: Call to deprecated `wv` (Attribute will be removed in 4.0.0, use self instead).\n",
      "  \"\"\"Entry point for launching an IPython kernel.\n"
     ]
    },
    {
     "data": {
      "text/plain": [
       "97928"
      ]
     },
     "execution_count": 14,
     "metadata": {},
     "output_type": "execute_result"
    }
   ],
   "source": [
    "len(news_word2ve.wv.vocab)"
   ]
  },
  {
   "cell_type": "code",
   "execution_count": 15,
   "metadata": {},
   "outputs": [
    {
     "name": "stdout",
     "output_type": "stream",
     "text": [
      "seen length : 0\n",
      "seen length : 50\n",
      "seen length : 50\n",
      "seen length : 100\n",
      "seen length : 150\n",
      "seen length : 150\n",
      "seen length : 200\n",
      "seen length : 200\n",
      "seen length : 200\n",
      "seen length : 250\n",
      "seen length : 300\n",
      "seen length : 350\n",
      "seen length : 400\n",
      "seen length : 450\n"
     ]
    }
   ],
   "source": [
    "related_words = get_related_words(['说', '表示'], news_word2ve)"
   ]
  },
  {
   "cell_type": "code",
   "execution_count": 16,
   "metadata": {},
   "outputs": [
    {
     "data": {
      "text/plain": [
       "[('指出', 81),\n",
       " ('表示', 80),\n",
       " ('说', 74),\n",
       " ('认为', 72),\n",
       " ('所说', 69),\n",
       " ('特别强调', 59),\n",
       " ('透露', 59),\n",
       " ('看来', 58),\n",
       " ('坦言', 58),\n",
       " ('提到', 57),\n",
       " ('明说', 49),\n",
       " ('称', 49),\n",
       " ('文说', 38),\n",
       " ('中说', 37),\n",
       " ('强调', 35),\n",
       " ('称赞', 34),\n",
       " ('告诉', 33),\n",
       " ('直言', 28),\n",
       " ('介绍', 27),\n",
       " ('建议', 27),\n",
       " ('中称', 27),\n",
       " ('提及', 23),\n",
       " ('写道', 22),\n",
       " ('普遍认为', 21),\n",
       " ('声称', 17),\n",
       " ('说法', 17),\n",
       " ('证实', 17),\n",
       " ('解释', 17),\n",
       " ('如是说', 16),\n",
       " ('张伟', 14),\n",
       " ('确信', 13),\n",
       " ('宣称', 13),\n",
       " ('说道', 13),\n",
       " ('所指', 13),\n",
       " ('形容', 13),\n",
       " ('深有体会', 12),\n",
       " ('直言不讳', 12),\n",
       " ('相信', 11),\n",
       " ('颇深', 11),\n",
       " ('引用', 11),\n",
       " ('描述', 11),\n",
       " ('表明', 10),\n",
       " ('提出', 10),\n",
       " ('眼中', 10),\n",
       " ('还称', 10),\n",
       " ('阐述', 10),\n",
       " ('呼吁', 10),\n",
       " ('谈论', 9),\n",
       " ('披露', 9),\n",
       " ('知情', 9),\n",
       " ('想法', 9),\n",
       " ('感叹', 8),\n",
       " ('承认', 8),\n",
       " ('抛出', 8),\n",
       " ('现阶段', 8),\n",
       " ('看法', 7),\n",
       " ('东升', 7),\n",
       " ('福海', 7),\n",
       " ('地说', 7),\n",
       " ('谈及', 7),\n",
       " ('建中', 7),\n",
       " ('远远不够', 7),\n",
       " ('毫不客气', 7),\n",
       " ('不在意', 7),\n",
       " ('追究责任', 7),\n",
       " ('特别感谢', 7),\n",
       " ('惠阳', 7),\n",
       " ('公道', 7),\n",
       " ('问过', 7),\n",
       " ('感谢', 7),\n",
       " ('反驳', 7),\n",
       " ('给出', 7),\n",
       " ('做法', 7),\n",
       " ('质疑', 7),\n",
       " ('批评', 7),\n",
       " ('观点', 6),\n",
       " ('来说', 6),\n",
       " ('而言', 6),\n",
       " ('武说', 6),\n",
       " ('彩霞', 6),\n",
       " ('农艺师', 6),\n",
       " ('郭', 6),\n",
       " ('深有感触', 6),\n",
       " ('援引', 6),\n",
       " ('假新闻', 6),\n",
       " ('据称', 6),\n",
       " ('曾称', 6),\n",
       " ('张晓明', 6),\n",
       " ('部副', 6),\n",
       " ('简短', 6),\n",
       " ('感激', 6),\n",
       " ('薰', 6),\n",
       " ('的话', 6),\n",
       " ('意思', 6),\n",
       " ('此行', 6),\n",
       " ('正如', 6),\n",
       " ('清楚', 6),\n",
       " ('对此', 5),\n",
       " ('功不可没', 5),\n",
       " ('肖凤祥', 5),\n",
       " ('王长', 5),\n",
       " ('倩女', 5),\n",
       " ('国利', 5),\n",
       " ('鹏飞', 5),\n",
       " ('镐', 5),\n",
       " ('副', 5),\n",
       " ('坦说', 5),\n",
       " ('领事部', 5),\n",
       " ('韩长', 5),\n",
       " ('因斯', 5),\n",
       " ('联合国人口基金', 5),\n",
       " ('海峡两岸关系协会', 5),\n",
       " ('全国人大常委会法制工作委员会', 5),\n",
       " ('钟山', 5),\n",
       " ('建国', 5),\n",
       " ('常务副', 5),\n",
       " ('重申', 5),\n",
       " ('一贯', 5),\n",
       " ('高度重视', 5),\n",
       " ('敦促', 5),\n",
       " ('恪守', 5),\n",
       " ('所作', 5),\n",
       " ('反复强调', 5),\n",
       " ('本着', 5),\n",
       " ('上称', 5),\n",
       " ('时说', 5),\n",
       " ('努钦称', 5),\n",
       " ('申明', 5),\n",
       " ('公开批评', 5),\n",
       " ('时称', 5),\n",
       " ('里亚布', 5),\n",
       " ('景仰', 5),\n",
       " ('赞美', 5),\n",
       " ('自豪', 5),\n",
       " ('同性恋', 5),\n",
       " ('赞为', 5),\n",
       " ('高度赞扬', 5),\n",
       " ('盛赞', 5),\n",
       " ('非常高兴', 5),\n",
       " ('惋惜', 5),\n",
       " ('荣幸', 5),\n",
       " ('要求', 5),\n",
       " ('意见建议', 5),\n",
       " ('鼓励', 5),\n",
       " ('提醒', 5),\n",
       " ('慎重', 5),\n",
       " ('相应', 5),\n",
       " ('评价', 5),\n",
       " ('对策', 5),\n",
       " ('此外', 5),\n",
       " ('适当', 5),\n",
       " ('必要', 5),\n",
       " ('程序性', 5),\n",
       " ('为此', 5),\n",
       " ('暗示', 5),\n",
       " ('电影界', 5),\n",
       " ('动向', 5),\n",
       " ('获悉', 4),\n",
       " ('援外', 4),\n",
       " ('供图', 4),\n",
       " ('了解', 4),\n",
       " ('李其林', 4),\n",
       " ('常务', 4),\n",
       " ('林元庆', 4),\n",
       " ('可研', 4),\n",
       " ('问', 4),\n",
       " ('看到', 4),\n",
       " ('留意到', 4),\n",
       " ('见到', 4),\n",
       " ('冯武', 4),\n",
       " ('鲁金博', 4),\n",
       " ('一位', 4),\n",
       " ('勇对', 4),\n",
       " ('邵杰', 4),\n",
       " ('郭爽', 4),\n",
       " ('武巍摄', 4),\n",
       " ('北青报', 4),\n",
       " ('现场采访', 4),\n",
       " ('列举', 4),\n",
       " ('回答', 4),\n",
       " ('撰写', 4),\n",
       " ('知道', 4),\n",
       " ('印证', 4),\n",
       " ('澄清', 4),\n",
       " ('抨击', 4),\n",
       " ('猜测', 4),\n",
       " ('愈演愈烈', 4),\n",
       " ('关注', 4),\n",
       " ('推波助澜', 4),\n",
       " ('一强', 4),\n",
       " ('热议', 4),\n",
       " ('警惕', 4),\n",
       " ('哄抢', 4),\n",
       " ('促使', 4),\n",
       " ('预料', 4),\n",
       " ('针对', 4),\n",
       " ('事实上', 4),\n",
       " ('当然', 4),\n",
       " ('置评', 3),\n",
       " ('初裁', 3),\n",
       " ('哈里斯', 3),\n",
       " ('FOMC', 3),\n",
       " ('同一天', 3),\n",
       " ('驳斥', 3),\n",
       " ('推特上', 3),\n",
       " ('早些时候', 3),\n",
       " ('答辩书', 3),\n",
       " ('非常感谢', 3),\n",
       " ('也许', 3),\n",
       " ('或许', 3),\n",
       " ('觉得', 3),\n",
       " ('某亮', 2),\n",
       " ('怼', 2),\n",
       " ('表述', 2),\n",
       " ('评论', 2),\n",
       " ('措辞', 2),\n",
       " ('表态', 2),\n",
       " ('态度', 2),\n",
       " ('言论', 2),\n",
       " ('说明', 2),\n",
       " ('迄今为止', 2),\n",
       " ('释放', 2),\n",
       " ('令人担忧', 2),\n",
       " ('然而', 2),\n",
       " ('显示', 2),\n",
       " ('回避', 2),\n",
       " ('结论', 2),\n",
       " ('但是', 2),\n",
       " ('尽管', 2),\n",
       " ('但', 2),\n",
       " ('潜在', 2),\n",
       " ('不容忽视', 2),\n",
       " ('反映', 2),\n",
       " ('赞同', 2),\n",
       " ('希望', 2),\n",
       " ('坚信', 2),\n",
       " ('期望', 2),\n",
       " ('期待', 2),\n",
       " ('肯定', 2),\n",
       " ('将来', 2),\n",
       " ('前途', 2),\n",
       " ('促成', 2),\n",
       " ('理解', 2),\n",
       " ('让', 2),\n",
       " ('指望', 2),\n",
       " ('来讲', 2),\n",
       " ('感兴趣', 2),\n",
       " ('来看', 2),\n",
       " ('本身', 2),\n",
       " ('其实', 2),\n",
       " ('实际上', 2),\n",
       " ('角度看', 2),\n",
       " ('感慨', 2),\n",
       " ('说起', 2),\n",
       " ('连生', 2),\n",
       " ('玉龙', 2),\n",
       " ('斌', 2),\n",
       " ('洪涛', 2),\n",
       " ('王平', 2),\n",
       " ('王菊明', 1),\n",
       " ('高佑思', 1),\n",
       " ('德文', 1),\n",
       " ('潇潇', 1),\n",
       " ('当过', 1),\n",
       " ('豪说', 1),\n",
       " ('许臻', 1),\n",
       " ('底气十足', 1),\n",
       " ('黄进', 1),\n",
       " ('永康', 1),\n",
       " ('李丽丽', 1),\n",
       " ('伯克霍', 1),\n",
       " ('太郎', 1),\n",
       " ('某元', 1),\n",
       " ('一篇', 1),\n",
       " ('博客', 1),\n",
       " ('演说', 1),\n",
       " ('大发雷霆', 1),\n",
       " ('说出', 1),\n",
       " ('外交界', 1),\n",
       " ('惹', 1),\n",
       " ('怒斥', 1),\n",
       " ('评述', 1),\n",
       " ('正面', 1),\n",
       " ('逻辑', 1),\n",
       " ('考量', 1),\n",
       " ('立场', 1),\n",
       " ('文章', 1),\n",
       " ('策略', 1),\n",
       " ('解读', 1),\n",
       " ('众所周知', 1),\n",
       " ('深表', 1),\n",
       " ('回应', 1),\n",
       " ('请问', 1),\n",
       " ('公关', 1),\n",
       " ('对于', 1),\n",
       " ('赞赏', 1),\n",
       " ('中国外交部', 1),\n",
       " ('陆委会', 1),\n",
       " ('有何', 1),\n",
       " ('张晓军', 1),\n",
       " ('刁', 1),\n",
       " ('就此', 1),\n",
       " ('举动', 1),\n",
       " ('礼节', 1),\n",
       " ('疑虑', 1),\n",
       " ('争议', 1),\n",
       " ('台湾当局', 1),\n",
       " ('疑问', 1),\n",
       " ('认同', 1),\n",
       " ('否认', 1),\n",
       " ('指责', 1),\n",
       " ('坚称', 1),\n",
       " ('并称', 1),\n",
       " ('指认', 1),\n",
       " ('拒绝', 1),\n",
       " ('干涉', 1),\n",
       " ('推翻', 1),\n",
       " ('出面', 1),\n",
       " ('动用', 1),\n",
       " ('无权', 1),\n",
       " ('知晓', 1),\n",
       " ('所提', 1),\n",
       " ('制定', 1),\n",
       " ('明确', 1),\n",
       " ('明确提出', 1),\n",
       " ('出台', 1),\n",
       " ('起草', 1),\n",
       " ('明确指出', 1),\n",
       " ('制订', 1),\n",
       " ('立法', 1),\n",
       " ('实施', 1),\n",
       " ('确立', 1),\n",
       " ('写入', 1),\n",
       " ('修订', 1),\n",
       " ('确定', 1),\n",
       " ('明确要求', 1),\n",
       " ('不断完善', 1),\n",
       " ('作出', 1),\n",
       " ('提交', 1),\n",
       " ('推行', 1),\n",
       " ('深感', 1),\n",
       " ('解雇', 1),\n",
       " ('意料', 1),\n",
       " ('反观', 1),\n",
       " ('很棒', 1),\n",
       " ('坦承', 1),\n",
       " ('想必', 1),\n",
       " ('周琦说', 1),\n",
       " ('震惊', 1),\n",
       " ('有失', 1),\n",
       " ('调侃', 1),\n",
       " ('人尽皆知', 1),\n",
       " ('没错', 1),\n",
       " ('还是', 1),\n",
       " ('之外', 1),\n",
       " ('毕竟', 1),\n",
       " ('这样', 1),\n",
       " ('这', 1),\n",
       " ('一部分', 1),\n",
       " ('无论', 1),\n",
       " ('所以', 1),\n",
       " ('看重', 1),\n",
       " ('眼里', 1),\n",
       " ('常说', 1),\n",
       " ('深知', 1),\n",
       " ('老一辈', 1),\n",
       " ('口中', 1),\n",
       " ('钟爱', 1),\n",
       " ('了不起', 1),\n",
       " ('追忆', 1),\n",
       " ('爱上', 1),\n",
       " ('津津乐道', 1),\n",
       " ('留给', 1),\n",
       " ('打动', 1),\n",
       " ('无不', 1),\n",
       " ('几代', 1),\n",
       " ('滔滔不绝', 1),\n",
       " ('出身', 1),\n",
       " ('充满信心', 1),\n",
       " ('棋后', 1),\n",
       " ('不弱', 1),\n",
       " ('排坛', 1),\n",
       " ('可圈可点', 1),\n",
       " ('喜忧参半', 1),\n",
       " ('雄心勃勃', 1),\n",
       " ('预言', 1),\n",
       " ('民间文学', 1),\n",
       " ('近平', 1),\n",
       " ('学派', 1),\n",
       " ('智业', 1),\n",
       " ('蓝港', 1),\n",
       " ('棋坛', 1),\n",
       " ('称霸', 1),\n",
       " ('并驾齐驱', 1),\n",
       " ('女诗人', 1),\n",
       " ('寄予厚望', 1),\n",
       " ('一流大学', 1),\n",
       " ('很深', 1),\n",
       " ('感触', 1),\n",
       " ('赞不绝口', 1),\n",
       " ('赵连甲', 1),\n",
       " ('这些年来', 1),\n",
       " ('由衷', 1),\n",
       " ('很感兴趣', 1),\n",
       " ('周锡玮', 1),\n",
       " ('谈起', 1),\n",
       " ('少年时代', 1),\n",
       " ('薛仁明', 1),\n",
       " ('很想', 1),\n",
       " ('倾囊相授', 1),\n",
       " ('放不下', 1),\n",
       " ('小时候', 1),\n",
       " ('另一方面', 1),\n",
       " ('这方面', 1),\n",
       " ('至关重要', 1),\n",
       " ('显而易见', 1),\n",
       " ('并非', 1),\n",
       " ('有利', 1),\n",
       " ('不应', 1),\n",
       " ('吸引力', 1),\n",
       " ('衡量', 1),\n",
       " ('庆幸', 1),\n",
       " ('冲着', 1),\n",
       " ('一票', 1),\n",
       " ('强项', 1),\n",
       " ('想过', 1),\n",
       " ('终究', 1),\n",
       " ('功成', 1),\n",
       " ('低调', 1),\n",
       " ('激动人心', 1),\n",
       " ('底气', 1),\n",
       " ('开端', 1),\n",
       " ('注定', 1),\n",
       " ('毛病', 1),\n",
       " ('何尝', 1),\n",
       " ('三益村', 1),\n",
       " ('官庄镇', 1),\n",
       " ('兰西县', 1),\n",
       " ('支部书记', 1),\n",
       " ('西万', 1),\n",
       " ('综合处', 1),\n",
       " ('赣州市', 1),\n",
       " ('上司', 1),\n",
       " ('温泉镇', 1),\n",
       " ('农牧局', 1),\n",
       " ('太石镇', 1),\n",
       " ('党委书记', 1),\n",
       " ('供电所', 1),\n",
       " ('荥阳', 1),\n",
       " ('爱华', 1),\n",
       " ('文武', 1),\n",
       " ('宁宁', 1),\n",
       " ('英德市', 1),\n",
       " ('姜', 1),\n",
       " ('永年', 1),\n",
       " ('陈刚', 1),\n",
       " ('王颂', 1),\n",
       " ('孙家', 1),\n",
       " ('红运', 1),\n",
       " ('肖民', 1),\n",
       " ('递过来', 1),\n",
       " ('村主任', 1),\n",
       " ('文广', 1),\n",
       " ('春晖', 1),\n",
       " ('张侨', 1),\n",
       " ('张文', 1),\n",
       " ('殷家', 1),\n",
       " ('杨静', 1),\n",
       " ('海权', 1),\n",
       " ('雅格', 1),\n",
       " ('林园', 1),\n",
       " ('韩曦乐', 1),\n",
       " ('宏业', 1),\n",
       " ('萧永航', 1),\n",
       " ('红霞', 1),\n",
       " ('邹', 1),\n",
       " ('苗苗', 1),\n",
       " ('曹凯', 1),\n",
       " ('张骄', 1),\n",
       " ('观海', 1),\n",
       " ('林斯', 1),\n",
       " ('杨菁', 1),\n",
       " ('张连起', 1),\n",
       " ('海峰', 1),\n",
       " ('刘卫东', 1),\n",
       " ('在发言中', 1),\n",
       " ('王伟光', 1),\n",
       " ('人力资源部', 1),\n",
       " ('马岩', 1),\n",
       " ('靳', 1),\n",
       " ('王卫', 1),\n",
       " ('举例', 1),\n",
       " ('杨建华', 1),\n",
       " ('张小平', 1),\n",
       " ('赵萍', 1),\n",
       " ('潘功胜', 1),\n",
       " ('政研室', 1),\n",
       " ('杨勇', 1),\n",
       " ('英民', 1),\n",
       " ('张峰', 1)]"
      ]
     },
     "execution_count": 16,
     "metadata": {},
     "output_type": "execute_result"
    }
   ],
   "source": [
    "sorted(related_words.items(), key=lambda x: x[1], reverse=True)"
   ]
  },
  {
   "cell_type": "markdown",
   "metadata": {},
   "source": []
  },
  {
   "cell_type": "code",
   "execution_count": 25,
   "metadata": {},
   "outputs": [
    {
     "data": {
      "text/plain": [
       "'此外，自本周（6月12日）起，除小米手机6等15款机型外，其余机型已暂停更新发布（含开发版/体验版内测，稳定版暂不受影响），以确保工程师可以集中全部精力进行系统优化工作。有人猜测这也是将精力主要用到MIUI 9的研发之中。\\r\\nMIUI 8去年5月发布，距今已有一年有余，也是时候更新换代了。\\r\\n当然，关于MIUI 9的确切信息，我们还是等待官方消息。\\r\\n'"
      ]
     },
     "execution_count": 25,
     "metadata": {},
     "output_type": "execute_result"
    }
   ],
   "source": [
    "news_content[0]"
   ]
  },
  {
   "cell_type": "code",
   "execution_count": 26,
   "metadata": {
    "collapsed": true
   },
   "outputs": [],
   "source": [
    "def document_frequency(word): \n",
    "    return sum(1 for n in news_content if word in n)"
   ]
  },
  {
   "cell_type": "code",
   "execution_count": 27,
   "metadata": {},
   "outputs": [
    {
     "data": {
      "text/plain": [
       "70342"
      ]
     },
     "execution_count": 27,
     "metadata": {},
     "output_type": "execute_result"
    }
   ],
   "source": [
    "document_frequency('的')"
   ]
  },
  {
   "cell_type": "code",
   "execution_count": 28,
   "metadata": {
    "collapsed": true
   },
   "outputs": [],
   "source": [
    "import math"
   ]
  },
  {
   "cell_type": "code",
   "execution_count": 29,
   "metadata": {
    "collapsed": true
   },
   "outputs": [],
   "source": [
    "def idf(word):\n",
    "    \"\"\"Gets the inversed document frequency\"\"\"\n",
    "    return math.log10(len(news_content) / document_frequency(word))"
   ]
  },
  {
   "cell_type": "code",
   "execution_count": 30,
   "metadata": {},
   "outputs": [
    {
     "data": {
      "text/plain": [
       "True"
      ]
     },
     "execution_count": 30,
     "metadata": {},
     "output_type": "execute_result"
    }
   ],
   "source": [
    "idf('的') < idf('小米')"
   ]
  },
  {
   "cell_type": "code",
   "execution_count": 31,
   "metadata": {
    "collapsed": true
   },
   "outputs": [],
   "source": [
    "def tf(word, document):\n",
    "    \"\"\"\n",
    "    Gets the term frequemcy of a @word in a @document.\n",
    "    \"\"\"\n",
    "    words = document.split()\n",
    "    \n",
    "    return sum(1 for w in words if w == word)"
   ]
  },
  {
   "cell_type": "code",
   "execution_count": 32,
   "metadata": {},
   "outputs": [
    {
     "data": {
      "text/plain": [
       "'?\\r\\n\\u3000\\u3000巨丰早评：市场将再次探底\\r\\n\\u3000\\u3000【巨丰观点】\\r\\n\\u3000\\u3000周四大盘冲高回落，2500余只个股下跌。上证50、沪深300指数顽强收红。早盘大盘低开高走，展开反弹，沪指冲破120日均线压力位；午后大盘跳水，个股普跌。盘面上，保险、电力、银行、民航机场、券商、房地产、人工智能、迪士尼、网络安全等板块涨幅居前。雄安新区、福州新区、医疗器械、丝绸之路等跌幅居前。\\r\\n\\u3000\\u3000金融股全线大涨：保险板块涨3%：新华保险、中国太保、中国人寿涨4%，中国平安涨2%；西水股份、天茂集团盘中大涨7%以上。银行板块涨2%：招商银行大涨8%，贵阳银行、兴业银行、浦发银行、兴业银行等涨幅居前。金融股是A股纳入MSCI指数的受益者，后市可以逢低关注。\\r\\n\\u3000\\u3000盘中万达电影、复星医药等白马股闪崩，导致午后市场出现大幅跳水。盘后消息，银监会于6月中旬要求各家银行排查包括万达、海航集团、复星、浙江罗森内里在内数家企业的授信及风险分析，排查对象多是近年来海外投资比较凶猛、在银行业敞口较大的民营企业集团。\\r\\n\\u3000\\u3000巨丰投顾认为自5月以来，大盘已经走出了3重底的走势，并开启中级反弹行情。沪指在上证50及白马股推动下率先反弹，但遭遇60日、120日均线强压力而出现调整。MSCI纳入A股后，沪深300指数创17个月新高，但2500余股下跌，市场分化明显。随着6月末市场流动性紧张的可能出现，市场将再次出现探底。建议投资者重点关注半年报大幅预增的错杀股和具备估值优势的大蓝筹。\\r\\n\\u3000\\u3000天信投资：尾盘跳水原因揭秘 伏击的品种曝光\\r\\n\\u3000\\u3000周四市场点评：\\r\\n\\u3000\\u3000沪深两市早盘纷纷低开，但是开盘之后权重板块崛起，其中保险和银行表现尤其明显，低矮动股指快速拉升，并顺势突破了60日均线和半年线的束缚；在主板拉升的过程中，市场的分化格局也较明显，题材板块和创业板表现相对较弱。不过虽然市场在早盘的上攻，但是成交量萎缩明教明显，所以这种上涨比较虚。果不其然，午后个股再度纷纷杀跌，同时股指也是顺势回落，沪市的半年线得而复失，形成长长的上影线；而创业板股指在回落的过程中失守5日均线的支撑。整体上周四市场全天保持宽幅震荡走势，尤其是沪市冲高回落。保险、银行、中字头、举牌等品种涨幅居前；钛金属、区块链、雄安新区、民营医院等品种领跌。\\r\\n\\u3000\\u3000今日市场预测：\\r\\n\\u3000\\u3000在周三收市的评论中，我们指出周四市场会出现阶段性的普涨行情，而周四早盘三大股指齐齐上涨，即使创业板股指涨幅较小，但是市场确实也给我们呈现的普涨格局。但是午后的跳水，包括创业板股指先下跌，随后沪指尾盘的快速下杀，使得市场从普涨瞬间到普跌，市场的大起大落来的非常刺激。从三大股指周四呈现给大家的K线组合来看，预计今日市场齐跌的概率较大，不过创业板合格题材板块或具备一定的抗跌性。\\r\\n\\u3000\\u3000短期行情判断：\\r\\n\\u3000\\u3000从大的环境上来看，市场目前本身不具备大面积和大空间的反弹基础，因为目前无论是从宏观面、货币基本面或者从国际经济和政治的角度来看，都不具备这样的条件，所以反应到市场中来，只能是结构性、局部性的投机性机会。而最近半个月以来，市场的走势也确实符合局部性、结构性投机的走势。\\r\\n\\u3000\\u3000周四市场沪指形成带长长上影线的倒锤阴线；创业板股指形成的是跌破5日和10日均线的中阴线，这种类型的K线形态，几乎都是市场开始调整的先兆，所以短期市场而言，悲观的情绪或升温。\\r\\n\\u3000\\u3000后市投资建议：\\r\\n\\u3000\\u3000短期建议投资者一定要控制好自身的仓位。中期继续看好题材板块的崛起，特别是次新股、高送转、重组股等等可以不断的去伏击，依旧具备超跌反弹的性质。\\r\\n'"
      ]
     },
     "execution_count": 32,
     "metadata": {},
     "output_type": "execute_result"
    }
   ],
   "source": [
    "content['content'][11]"
   ]
  },
  {
   "cell_type": "code",
   "execution_count": 33,
   "metadata": {},
   "outputs": [
    {
     "data": {
      "text/plain": [
       "0"
      ]
     },
     "execution_count": 33,
     "metadata": {},
     "output_type": "execute_result"
    }
   ],
   "source": [
    "tf('银行', news_content[11])"
   ]
  },
  {
   "cell_type": "code",
   "execution_count": 34,
   "metadata": {},
   "outputs": [
    {
     "data": {
      "text/plain": [
       "0"
      ]
     },
     "execution_count": 34,
     "metadata": {},
     "output_type": "execute_result"
    }
   ],
   "source": [
    "tf('创业板', news_content[11])"
   ]
  },
  {
   "cell_type": "code",
   "execution_count": 35,
   "metadata": {},
   "outputs": [
    {
     "data": {
      "text/plain": [
       "2.5052032924502545"
      ]
     },
     "execution_count": 35,
     "metadata": {},
     "output_type": "execute_result"
    }
   ],
   "source": [
    "idf('创业板')"
   ]
  },
  {
   "cell_type": "code",
   "execution_count": 36,
   "metadata": {},
   "outputs": [
    {
     "data": {
      "text/plain": [
       "1.4550169427748936"
      ]
     },
     "execution_count": 36,
     "metadata": {},
     "output_type": "execute_result"
    }
   ],
   "source": [
    "idf('银行')"
   ]
  },
  {
   "cell_type": "code",
   "execution_count": 37,
   "metadata": {},
   "outputs": [
    {
     "data": {
      "text/plain": [
       "1.9899919881224526"
      ]
     },
     "execution_count": 37,
     "metadata": {},
     "output_type": "execute_result"
    }
   ],
   "source": [
    "idf('短期')"
   ]
  },
  {
   "cell_type": "code",
   "execution_count": 38,
   "metadata": {},
   "outputs": [
    {
     "data": {
      "text/plain": [
       "0"
      ]
     },
     "execution_count": 38,
     "metadata": {},
     "output_type": "execute_result"
    }
   ],
   "source": [
    "tf('短期', news_content[11])"
   ]
  },
  {
   "cell_type": "code",
   "execution_count": 39,
   "metadata": {
    "collapsed": true
   },
   "outputs": [],
   "source": [
    "def get_keywords_of_a_ducment(document):\n",
    "    words = set(document.split())\n",
    "    \n",
    "    tfidf = [\n",
    "        (w, tf(w, document) * idf(w)) for w in words\n",
    "    ]\n",
    "    \n",
    "    tfidf = sorted(tfidf, key=lambda x: x[1], reverse=True)\n",
    "    \n",
    "    return tfidf"
   ]
  },
  {
   "cell_type": "code",
   "execution_count": 40,
   "metadata": {},
   "outputs": [
    {
     "data": {
      "text/plain": [
       "'此外，自本周（6月12日）起，除小米手机6等15款机型外，其余机型已暂停更新发布（含开发版/体验版内测，稳定版暂不受影响），以确保工程师可以集中全部精力进行系统优化工作。有人猜测这也是将精力主要用到MIUI 9的研发之中。\\r\\nMIUI 8去年5月发布，距今已有一年有余，也是时候更新换代了。\\r\\n当然，关于MIUI 9的确切信息，我们还是等待官方消息。\\r\\n'"
      ]
     },
     "execution_count": 40,
     "metadata": {},
     "output_type": "execute_result"
    }
   ],
   "source": [
    "news_content[0]"
   ]
  },
  {
   "cell_type": "code",
   "execution_count": 41,
   "metadata": {},
   "outputs": [
    {
     "data": {
      "text/plain": [
       "'?\\r\\n\\u3000\\u3000巨丰早评：市场将再次探底\\r\\n\\u3000\\u3000【巨丰观点】\\r\\n\\u3000\\u3000周四大盘冲高回落，2500余只个股下跌。上证50、沪深300指数顽强收红。早盘大盘低开高走，展开反弹，沪指冲破120日均线压力位；午后大盘跳水，个股普跌。盘面上，保险、电力、银行、民航机场、券商、房地产、人工智能、迪士尼、网络安全等板块涨幅居前。雄安新区、福州新区、医疗器械、丝绸之路等跌幅居前。\\r\\n\\u3000\\u3000金融股全线大涨：保险板块涨3%：新华保险、中国太保、中国人寿涨4%，中国平安涨2%；西水股份、天茂集团盘中大涨7%以上。银行板块涨2%：招商银行大涨8%，贵阳银行、兴业银行、浦发银行、兴业银行等涨幅居前。金融股是A股纳入MSCI指数的受益者，后市可以逢低关注。\\r\\n\\u3000\\u3000盘中万达电影、复星医药等白马股闪崩，导致午后市场出现大幅跳水。盘后消息，银监会于6月中旬要求各家银行排查包括万达、海航集团、复星、浙江罗森内里在内数家企业的授信及风险分析，排查对象多是近年来海外投资比较凶猛、在银行业敞口较大的民营企业集团。\\r\\n\\u3000\\u3000巨丰投顾认为自5月以来，大盘已经走出了3重底的走势，并开启中级反弹行情。沪指在上证50及白马股推动下率先反弹，但遭遇60日、120日均线强压力而出现调整。MSCI纳入A股后，沪深300指数创17个月新高，但2500余股下跌，市场分化明显。随着6月末市场流动性紧张的可能出现，市场将再次出现探底。建议投资者重点关注半年报大幅预增的错杀股和具备估值优势的大蓝筹。\\r\\n\\u3000\\u3000天信投资：尾盘跳水原因揭秘 伏击的品种曝光\\r\\n\\u3000\\u3000周四市场点评：\\r\\n\\u3000\\u3000沪深两市早盘纷纷低开，但是开盘之后权重板块崛起，其中保险和银行表现尤其明显，低矮动股指快速拉升，并顺势突破了60日均线和半年线的束缚；在主板拉升的过程中，市场的分化格局也较明显，题材板块和创业板表现相对较弱。不过虽然市场在早盘的上攻，但是成交量萎缩明教明显，所以这种上涨比较虚。果不其然，午后个股再度纷纷杀跌，同时股指也是顺势回落，沪市的半年线得而复失，形成长长的上影线；而创业板股指在回落的过程中失守5日均线的支撑。整体上周四市场全天保持宽幅震荡走势，尤其是沪市冲高回落。保险、银行、中字头、举牌等品种涨幅居前；钛金属、区块链、雄安新区、民营医院等品种领跌。\\r\\n\\u3000\\u3000今日市场预测：\\r\\n\\u3000\\u3000在周三收市的评论中，我们指出周四市场会出现阶段性的普涨行情，而周四早盘三大股指齐齐上涨，即使创业板股指涨幅较小，但是市场确实也给我们呈现的普涨格局。但是午后的跳水，包括创业板股指先下跌，随后沪指尾盘的快速下杀，使得市场从普涨瞬间到普跌，市场的大起大落来的非常刺激。从三大股指周四呈现给大家的K线组合来看，预计今日市场齐跌的概率较大，不过创业板合格题材板块或具备一定的抗跌性。\\r\\n\\u3000\\u3000短期行情判断：\\r\\n\\u3000\\u3000从大的环境上来看，市场目前本身不具备大面积和大空间的反弹基础，因为目前无论是从宏观面、货币基本面或者从国际经济和政治的角度来看，都不具备这样的条件，所以反应到市场中来，只能是结构性、局部性的投机性机会。而最近半个月以来，市场的走势也确实符合局部性、结构性投机的走势。\\r\\n\\u3000\\u3000周四市场沪指形成带长长上影线的倒锤阴线；创业板股指形成的是跌破5日和10日均线的中阴线，这种类型的K线形态，几乎都是市场开始调整的先兆，所以短期市场而言，悲观的情绪或升温。\\r\\n\\u3000\\u3000后市投资建议：\\r\\n\\u3000\\u3000短期建议投资者一定要控制好自身的仓位。中期继续看好题材板块的崛起，特别是次新股、高送转、重组股等等可以不断的去伏击，依旧具备超跌反弹的性质。\\r\\n'"
      ]
     },
     "execution_count": 41,
     "metadata": {},
     "output_type": "execute_result"
    }
   ],
   "source": [
    "news_content[11]"
   ]
  },
  {
   "cell_type": "code",
   "execution_count": 42,
   "metadata": {},
   "outputs": [
    {
     "name": "stdout",
     "output_type": "stream",
     "text": [
      " "
     ]
    }
   ],
   "source": [
    "%prun get_keywords_of_a_ducment(news_content[0])"
   ]
  },
  {
   "cell_type": "code",
   "execution_count": 43,
   "metadata": {
    "collapsed": true
   },
   "outputs": [],
   "source": [
    "machine_new_keywords = get_keywords_of_a_ducment(news_content[101])"
   ]
  },
  {
   "cell_type": "code",
   "execution_count": 44,
   "metadata": {},
   "outputs": [
    {
     "data": {
      "text/plain": [
       "'中国经济网6月23日讯（记者刘瑾）日前，中国机械工业百强企业、汽车三十强企业名单出炉。在由中国机械工业联合会、中国汽车工业协会主办的“中国机械工业百强企业、汽车工业三十强企业信息发布会”上，中国机械工业联合会会长王瑞祥指出，入围企业总体呈现了持续增长态势，2016年总规模、平均规模均创新高，我国机械工业总体上呈现稳中向好的发展态势，主要经济指标出现恢复性增长。\\r\\n同时，王瑞祥也表示，机械工业长期积累的结构性矛盾还没有根本性改变，新的发展业态、发展模式远未形成，保持平稳健康发展的基础还不牢固，产业升级、新旧动能转换、实现由大变强任重道远。\\r\\n相关数据显示，2016年机械百强入围企业规模是15.4亿元，比上年略高。总规模达到16992亿元，平均规模169.92亿元，两项均创新高。相比前两年的前十强排名，名单基本没有什么变化，只是工程机械行业的徐工、三一和中联重科由于之前市场环境等原因，整体排位后移了一两位，但仍全部在十强之列。但考虑到工程机械行业最近以来的强烈增长态势，明年该行业整体恢复性可能较大。\\r\\n中机联执行副会长陈斌表示，机械百强的年换位率2005年曾高达32%，此后逐年下降，2012年降至6%，不过近几年又在上升，2016年升至22%，说明市场动荡，不确定因素增加。\\r\\n根据中机联公布的数据，2017年1至5月机械增加值增速好于去年但呈现逐月回落的态势，比如1至5月增速为10.7，比1至4月回落0.2点。此外利润总额也出现了同样的走势。专家分析，这是由于钢铁等原材料价格近期出现较大增幅，使得工业企业成本压力增大。\\r\\n“产量同比增长表现抢眼的是工程机械类产品，已经有8个月保持高速增长。”同时，陈斌也表示了担忧，比如价格指数缓慢回升但远低于工业、原材料指数，固定资产投资增速仍较低迷，增速在多年回落之后继续在低位震荡徘徊。他表示，行业经济运行仍面临一定的下行压力，机械行业主要服务的钢铁、煤炭、电力及石油、化工等行业普遍处于产业结构深度调整期，其装备需求短期难以大幅增长。还有经过多年的高速发展，各类机械产品的社会保有量均达到了相当规模，对现役设备的更新改造维护已成为需求中的重要部分，这增加了增量回升的难度。\\r\\n'"
      ]
     },
     "execution_count": 44,
     "metadata": {},
     "output_type": "execute_result"
    }
   ],
   "source": [
    "news_content[101]"
   ]
  },
  {
   "cell_type": "code",
   "execution_count": 45,
   "metadata": {},
   "outputs": [
    {
     "data": {
      "text/plain": [
       "[('同时，王瑞祥也表示，机械工业长期积累的结构性矛盾还没有根本性改变，新的发展业态、发展模式远未形成，保持平稳健康发展的基础还不牢固，产业升级、新旧动能转换、实现由大变强任重道远。',\n",
       "  4.9523613237924735),\n",
       " ('中机联执行副会长陈斌表示，机械百强的年换位率2005年曾高达32%，此后逐年下降，2012年降至6%，不过近几年又在上升，2016年升至22%，说明市场动荡，不确定因素增加。',\n",
       "  4.9523613237924735),\n",
       " ('相关数据显示，2016年机械百强入围企业规模是15.4亿元，比上年略高。总规模达到16992亿元，平均规模169.92亿元，两项均创新高。相比前两年的前十强排名，名单基本没有什么变化，只是工程机械行业的徐工、三一和中联重科由于之前市场环境等原因，整体排位后移了一两位，但仍全部在十强之列。但考虑到工程机械行业最近以来的强烈增长态势，明年该行业整体恢复性可能较大。',\n",
       "  4.9523613237924735),\n",
       " ('“产量同比增长表现抢眼的是工程机械类产品，已经有8个月保持高速增长。”同时，陈斌也表示了担忧，比如价格指数缓慢回升但远低于工业、原材料指数，固定资产投资增速仍较低迷，增速在多年回落之后继续在低位震荡徘徊。他表示，行业经济运行仍面临一定的下行压力，机械行业主要服务的钢铁、煤炭、电力及石油、化工等行业普遍处于产业结构深度调整期，其装备需求短期难以大幅增长。还有经过多年的高速发展，各类机械产品的社会保有量均达到了相当规模，对现役设备的更新改造维护已成为需求中的重要部分，这增加了增量回升的难度。',\n",
       "  4.9523613237924735),\n",
       " ('根据中机联公布的数据，2017年1至5月机械增加值增速好于去年但呈现逐月回落的态势，比如1至5月增速为10.7，比1至4月回落0.2点。此外利润总额也出现了同样的走势。专家分析，这是由于钢铁等原材料价格近期出现较大增幅，使得工业企业成本压力增大。',\n",
       "  4.9523613237924735),\n",
       " ('中国经济网6月23日讯（记者刘瑾）日前，中国机械工业百强企业、汽车三十强企业名单出炉。在由中国机械工业联合会、中国汽车工业协会主办的“中国机械工业百强企业、汽车工业三十强企业信息发布会”上，中国机械工业联合会会长王瑞祥指出，入围企业总体呈现了持续增长态势，2016年总规模、平均规模均创新高，我国机械工业总体上呈现稳中向好的发展态势，主要经济指标出现恢复性增长。',\n",
       "  4.9523613237924735)]"
      ]
     },
     "execution_count": 45,
     "metadata": {},
     "output_type": "execute_result"
    }
   ],
   "source": [
    "get_keywords_of_a_ducment(news_content[101])"
   ]
  },
  {
   "cell_type": "markdown",
   "metadata": {},
   "source": []
  },
  {
   "cell_type": "code",
   "execution_count": 47,
   "metadata": {},
   "outputs": [],
   "source": [
    "import wordcloud"
   ]
  },
  {
   "cell_type": "code",
   "execution_count": 48,
   "metadata": {
    "collapsed": true
   },
   "outputs": [],
   "source": [
    "wc = wordcloud.WordCloud('C:/Users/User\\mywork/lession6/SourceHanSerifSC-Regular.otf')\n",
    "# we could download the font from https://github.com/Computing-Intelligence/datasource"
   ]
  },
  {
   "cell_type": "code",
   "execution_count": 49,
   "metadata": {},
   "outputs": [
    {
     "data": {
      "text/plain": [
       "'（原标题：44岁女子跑深圳约会网友被拒，暴雨中裸身奔走……）\\r\\n@深圳交警微博称：昨日清晨交警发现有一女子赤裸上身，行走在南坪快速上，期间还起了轻生年头，一辅警发现后赶紧为其披上黄衣，并一路劝说她。\\r\\n那么事发时\\r\\n到底都发生了些什么呢？\\r\\n南都记者带您一起还原现场\\r\\n南都记者在龙岗大队坂田中队见到了辅警刘青（发现女生的辅警），一位外表高大帅气，说话略带些腼腆的90后青年。\\r\\n刘青介绍，6月16日早上7时36分，他正在环城南路附近值勤，接到中队关于一位女子裸身进入机动车可能有危险的警情，随后骑着小铁骑开始沿路寻找，大概花了十多分钟在南坪大道坂田出口往龙岗方向的逆行辅道上发现该女子。\\r\\n女子身上一丝不挂地逆车流而行，时走时停，时坐时躺，险象环生。刘青停好小铁骑，和另外一名巡防员追了上去，发现女子的情绪很低落，话不多，刘青尝试和女子交流，劝说女子离开，可女子并不愿意接受，继续缓慢地往南坪快速路的主干道上走去。\\r\\n此时路边上已经聚集了很市民围观，为了不刺激女子的情绪，刘青和巡防员一边盯着女子一边驱赶着围观的群众。\\r\\n现场还原\\r\\n从警方提供的一份视频了解到，16日早上7时25分，女子出现在坂雪岗大道与环城南路的监控视频中，此时女子还穿着白色的内裤，正沿着坂雪岗大道往南坪快速的方向缓慢地走着。\\r\\n当时正值上班高峰期，十字路口的车流已经排起了长队。当女子出现时，路上的市民纷纷驻足观望，不少车辆也放慢了速度，但女子并不为市民观望停下脚步，依然缓慢走着。当女子行进到十字路口中间时，一辆大货车挡住了镜头，但是当女子再次出现镜头时，可以发现女子已经没穿内裤了，全身裸露继续朝着南坪快速方向走去。记者发现，视频中女子周围并没有人尾随或者上前劝止的市民。\\r\\n一大清早路上看到这样的情况\\r\\n恐怕大家都没办法淡定\\r\\n面对这一情况\\r\\n刘青表示，“一开始根本不敢看她，心里挺别扭，感觉很尴尬”，但当刘青跟随女子上了南坪快速路主干道时，女子作出了让人意想不到的举动，她突然靠近护栏要从上面跳下去，刘青赶忙冲上去拉住了女子的手，将其控制住并远离护栏。碍于女子没有穿衣服，刘青递上衣服，女子没接受还把衣服扔到排水沟里，继续往前走，没办法刘青只能紧紧拉着她的一只手跟在后面。\\r\\n刘青一路上耐心地开导安慰她，但只听到她不断地重复着一句话“要是你也遭遇我的事，你也会这样的”，期间她还不时试图挣脱刘青的手要冲向护栏往下跳。\\r\\n就这样，我被牵着走了大概十多分钟，天突然下起了大暴雨，雨大的连眼睛都睁不开”刘青继续说着，瞬间他们就被雨透了，但女子依然不愿意接受刘青的帮助，就继续冒着大雨往前走。\\r\\n大概走了有四十分钟吧，女子突然停下来说“我想回家了”，然后女子也接受了刘青递过来的小黄衣，就出现了深圳微博上的照片，女子披着小黄衣，刘青小心翼翼地在旁边走着的场景。从南平快速下来后，刘青和巡防员将女子带到了附近的坂田派出所。\\r\\n那姑娘到底是遭遇了什么样的事情\\r\\n才会说\\r\\n“要是你也遭遇我的事，你也会这样”\\r\\n据警方透露，该女子姓陈，系湖北人，今年44岁，据家属反映其有精神病史。三天前，陈某从老家来深圳约会网友，但约会受挫导致情绪异常，女子遂产生轻生念头。\\r\\n目前\\r\\n陈某已经被送往深圳某精神病医院进行治疗\\r\\n大大君只希望姑娘能早点康复\\r\\n其实真爱的到来并不存在年龄的限制\\r\\n你们说呢？\\r\\n因善良的原因\\r\\n一众网友纷纷为\\r\\n交警暖男点ZAN\\r\\n@弓常yan桦：就想问这个小哥哥有女票吗\\r\\n@原谅我这一辈子浪荡不羁爱萨摩耶：有什么过不去的要轻生嘛？ 想想自己的家人。同时也感谢交警蜀黍\\r\\n@火心聆听心灵：点赞交警\\r\\n@中華云盾：警察……警察就是群众最需时申出援手\\r\\n@Tomchlee：蜀黍帅！\\r\\n@SJ-李赫海i：这个交警很暖有木有！\\r\\n男子迷奸网友拍418个视频 女方从20岁到50岁不等\\r\\n去年6月7号上午，淮安市涟水县公安局刑警大队突然接到了一个奇怪的报警电话，一名女子言语不清，声称自己遭到了侵害。女子、被侵害、言语不清，几个关键词令接到电话的民警瞬间紧张起来。\\r\\n'"
      ]
     },
     "execution_count": 49,
     "metadata": {},
     "output_type": "execute_result"
    }
   ],
   "source": [
    "news_content[4]"
   ]
  },
  {
   "cell_type": "code",
   "execution_count": 50,
   "metadata": {
    "collapsed": true
   },
   "outputs": [],
   "source": [
    "import matplotlib.pyplot as plt"
   ]
  },
  {
   "cell_type": "code",
   "execution_count": 51,
   "metadata": {
    "collapsed": true
   },
   "outputs": [],
   "source": [
    "%matplotlib inline"
   ]
  },
  {
   "cell_type": "code",
   "execution_count": 52,
   "metadata": {},
   "outputs": [
    {
     "name": "stdout",
     "output_type": "stream",
     "text": [
      "Help on method generate_from_frequencies in module wordcloud.wordcloud:\n",
      "\n",
      "generate_from_frequencies(frequencies, max_font_size=None) method of wordcloud.wordcloud.WordCloud instance\n",
      "    Create a word_cloud from words and frequencies.\n",
      "    \n",
      "    Parameters\n",
      "    ----------\n",
      "    frequencies : dict from string to float\n",
      "        A contains words and associated frequency.\n",
      "    \n",
      "    max_font_size : int\n",
      "        Use this font-size instead of self.max_font_size\n",
      "    \n",
      "    Returns\n",
      "    -------\n",
      "    self\n",
      "\n"
     ]
    }
   ],
   "source": [
    "help(wc.generate_from_frequencies)"
   ]
  },
  {
   "cell_type": "code",
   "execution_count": 53,
   "metadata": {
    "collapsed": true
   },
   "outputs": [],
   "source": [
    "machine_new_keywords_dict = {w: score for w, score in machine_new_keywords}"
   ]
  },
  {
   "cell_type": "code",
   "execution_count": 57,
   "metadata": {},
   "outputs": [
    {
     "data": {
      "text/plain": [
       "<matplotlib.image.AxesImage at 0x26a359754e0>"
      ]
     },
     "execution_count": 57,
     "metadata": {},
     "output_type": "execute_result"
    },
    {
     "data": {
      "image/png": "[encoded data removed]",
      "text/plain": [
       "<matplotlib.figure.Figure at 0x26a335333c8>"
      ]
     },
     "metadata": {},
     "output_type": "display_data"
    }
   ],
   "source": [
    "plt.imshow(wc.generate_from_frequencies(machine_new_keywords_dict))"
   ]
  },
  {
   "cell_type": "code",
   "execution_count": 58,
   "metadata": {
    "collapsed": true
   },
   "outputs": [],
   "source": [
    "shenzhen_social_news = get_keywords_of_a_ducment(news_content[4])"
   ]
  },
  {
   "cell_type": "code",
   "execution_count": 59,
   "metadata": {},
   "outputs": [
    {
     "data": {
      "text/plain": [
       "[('其实真爱的到来并不存在年龄的限制', 4.9523613237924735),\n",
       " ('南都记者带您一起还原现场', 4.9523613237924735),\n",
       " ('@深圳交警微博称：昨日清晨交警发现有一女子赤裸上身，行走在南坪快速上，期间还起了轻生年头，一辅警发现后赶紧为其披上黄衣，并一路劝说她。',\n",
       "  4.9523613237924735),\n",
       " ('去年6月7号上午，淮安市涟水县公安局刑警大队突然接到了一个奇怪的报警电话，一名女子言语不清，声称自己遭到了侵害。女子、被侵害、言语不清，几个关键词令接到电话的民警瞬间紧张起来。',\n",
       "  4.9523613237924735),\n",
       " ('大大君只希望姑娘能早点康复', 4.9523613237924735),\n",
       " ('男子迷奸网友拍418个视频', 4.9523613237924735),\n",
       " ('女方从20岁到50岁不等', 4.9523613237924735),\n",
       " ('就这样，我被牵着走了大概十多分钟，天突然下起了大暴雨，雨大的连眼睛都睁不开”刘青继续说着，瞬间他们就被雨透了，但女子依然不愿意接受刘青的帮助，就继续冒着大雨往前走。',\n",
       "  4.9523613237924735),\n",
       " ('南都记者在龙岗大队坂田中队见到了辅警刘青（发现女生的辅警），一位外表高大帅气，说话略带些腼腆的90后青年。', 4.9523613237924735),\n",
       " ('你们说呢？', 4.9523613237924735),\n",
       " ('到底都发生了些什么呢？', 4.9523613237924735),\n",
       " ('（原标题：44岁女子跑深圳约会网友被拒，暴雨中裸身奔走……）', 4.9523613237924735),\n",
       " ('因善良的原因', 4.9523613237924735),\n",
       " ('那么事发时', 4.9523613237924735),\n",
       " ('大概走了有四十分钟吧，女子突然停下来说“我想回家了”，然后女子也接受了刘青递过来的小黄衣，就出现了深圳微博上的照片，女子披着小黄衣，刘青小心翼翼地在旁边走着的场景。从南平快速下来后，刘青和巡防员将女子带到了附近的坂田派出所。',\n",
       "  4.651331328128492),\n",
       " ('一众网友纷纷为', 4.651331328128492),\n",
       " ('恐怕大家都没办法淡定', 4.651331328128492),\n",
       " ('一大清早路上看到这样的情况', 4.651331328128492),\n",
       " ('交警暖男点ZAN', 4.651331328128492),\n",
       " ('“要是你也遭遇我的事，你也会这样”', 4.651331328128492),\n",
       " ('当时正值上班高峰期，十字路口的车流已经排起了长队。当女子出现时，路上的市民纷纷驻足观望，不少车辆也放慢了速度，但女子并不为市民观望停下脚步，依然缓慢走着。当女子行进到十字路口中间时，一辆大货车挡住了镜头，但是当女子再次出现镜头时，可以发现女子已经没穿内裤了，全身裸露继续朝着南坪快速方向走去。记者发现，视频中女子周围并没有人尾随或者上前劝止的市民。',\n",
       "  4.651331328128492),\n",
       " ('@弓常yan桦：就想问这个小哥哥有女票吗', 4.651331328128492),\n",
       " ('@火心聆听心灵：点赞交警', 4.651331328128492),\n",
       " ('@SJ-李赫海i：这个交警很暖有木有！', 4.651331328128492),\n",
       " ('@中華云盾：警察……警察就是群众最需时申出援手', 4.651331328128492),\n",
       " ('@Tomchlee：蜀黍帅！', 4.651331328128492),\n",
       " ('那姑娘到底是遭遇了什么样的事情', 4.651331328128492),\n",
       " ('面对这一情况', 4.651331328128492),\n",
       " ('从警方提供的一份视频了解到，16日早上7时25分，女子出现在坂雪岗大道与环城南路的监控视频中，此时女子还穿着白色的内裤，正沿着坂雪岗大道往南坪快速的方向缓慢地走着。',\n",
       "  4.651331328128492),\n",
       " ('女子身上一丝不挂地逆车流而行，时走时停，时坐时躺，险象环生。刘青停好小铁骑，和另外一名巡防员追了上去，发现女子的情绪很低落，话不多，刘青尝试和女子交流，劝说女子离开，可女子并不愿意接受，继续缓慢地往南坪快速路的主干道上走去。',\n",
       "  4.651331328128492),\n",
       " ('想想自己的家人。同时也感谢交警蜀黍', 4.651331328128492),\n",
       " ('刘青介绍，6月16日早上7时36分，他正在环城南路附近值勤，接到中队关于一位女子裸身进入机动车可能有危险的警情，随后骑着小铁骑开始沿路寻找，大概花了十多分钟在南坪大道坂田出口往龙岗方向的逆行辅道上发现该女子。',\n",
       "  4.651331328128492),\n",
       " ('此时路边上已经聚集了很市民围观，为了不刺激女子的情绪，刘青和巡防员一边盯着女子一边驱赶着围观的群众。', 4.651331328128492),\n",
       " ('据警方透露，该女子姓陈，系湖北人，今年44岁，据家属反映其有精神病史。三天前，陈某从老家来深圳约会网友，但约会受挫导致情绪异常，女子遂产生轻生念头。',\n",
       "  4.651331328128492),\n",
       " ('陈某已经被送往深圳某精神病医院进行治疗', 4.651331328128492),\n",
       " ('刘青表示，“一开始根本不敢看她，心里挺别扭，感觉很尴尬”，但当刘青跟随女子上了南坪快速路主干道时，女子作出了让人意想不到的举动，她突然靠近护栏要从上面跳下去，刘青赶忙冲上去拉住了女子的手，将其控制住并远离护栏。碍于女子没有穿衣服，刘青递上衣服，女子没接受还把衣服扔到排水沟里，继续往前走，没办法刘青只能紧紧拉着她的一只手跟在后面。',\n",
       "  4.651331328128492),\n",
       " ('@原谅我这一辈子浪荡不羁爱萨摩耶：有什么过不去的要轻生嘛？', 4.651331328128492),\n",
       " ('刘青一路上耐心地开导安慰她，但只听到她不断地重复着一句话“要是你也遭遇我的事，你也会这样的”，期间她还不时试图挣脱刘青的手要冲向护栏往下跳。',\n",
       "  4.651331328128492),\n",
       " ('现场还原', 4.475240069072811),\n",
       " ('才会说', 4.475240069072811),\n",
       " ('目前', 0.8929115112845127)]"
      ]
     },
     "execution_count": 59,
     "metadata": {},
     "output_type": "execute_result"
    }
   ],
   "source": [
    "shenzhen_social_news"
   ]
  },
  {
   "cell_type": "code",
   "execution_count": 60,
   "metadata": {
    "collapsed": true
   },
   "outputs": [],
   "source": [
    "from PIL import Image"
   ]
  },
  {
   "cell_type": "code",
   "execution_count": 61,
   "metadata": {
    "collapsed": true
   },
   "outputs": [],
   "source": [
    "import numpy as np"
   ]
  },
  {
   "cell_type": "code",
   "execution_count": 62,
   "metadata": {
    "collapsed": true
   },
   "outputs": [],
   "source": [
    "police_mask = np.array(Image.open('C:/Users/User/mywork/lession6/pikachao.jpg'))"
   ]
  },
  {
   "cell_type": "code",
   "execution_count": 63,
   "metadata": {
    "collapsed": true
   },
   "outputs": [],
   "source": [
    "wordcloud_with_mask = wordcloud.WordCloud(\n",
    "font_path='C:/Users/User\\mywork/lession6/SourceHanSerifSC-Regular.otf', \n",
    "mask=police_mask\n",
    ")"
   ]
  },
  {
   "cell_type": "code",
   "execution_count": 65,
   "metadata": {},
   "outputs": [
    {
     "data": {
      "text/plain": [
       "<matplotlib.image.AxesImage at 0x26a35a096a0>"
      ]
     },
     "execution_count": 65,
     "metadata": {},
     "output_type": "execute_result"
    },
    {
     "data": {
      "image/png": "[encoded data removed]",
      "text/plain": [
       "<matplotlib.figure.Figure at 0x26a3354bef0>"
      ]
     },
     "metadata": {},
     "output_type": "display_data"
    }
   ],
   "source": [
    "plt.imshow(wc.generate_from_frequencies({w:s for w, s in shenzhen_social_news[:20]}))"
   ]
  },
  {
   "cell_type": "code",
   "execution_count": 66,
   "metadata": {},
   "outputs": [
    {
     "data": {
      "text/plain": [
       "<matplotlib.image.AxesImage at 0x26a35c165f8>"
      ]
     },
     "execution_count": 66,
     "metadata": {},
     "output_type": "execute_result"
    },
    {
     "data": {
      "image/png": "[encoded data removed]",
      "text/plain": [
       "<matplotlib.figure.Figure at 0x26a35a904a8>"
      ]
     },
     "metadata": {},
     "output_type": "display_data"
    }
   ],
   "source": [
    "plt.imshow(wordcloud_with_mask.generate_from_frequencies({w:s for w, s in shenzhen_social_news[:20]}))"
   ]
  },
  {
   "cell_type": "markdown",
   "metadata": {},
   "source": []
  },
  {
   "cell_type": "code",
   "execution_count": 67,
   "metadata": {
    "collapsed": true
   },
   "outputs": [],
   "source": [
    "from sklearn.feature_extraction.text import TfidfVectorizer"
   ]
  },
  {
   "cell_type": "code",
   "execution_count": 68,
   "metadata": {
    "collapsed": true
   },
   "outputs": [],
   "source": [
    "vectorized = TfidfVectorizer(max_features=10000)"
   ]
  },
  {
   "cell_type": "code",
   "execution_count": 69,
   "metadata": {
    "collapsed": true
   },
   "outputs": [],
   "source": [
    "sample_num = 10000\n",
    "sub_samples = news_content[:sample_num]"
   ]
  },
  {
   "cell_type": "code",
   "execution_count": 70,
   "metadata": {
    "collapsed": true
   },
   "outputs": [],
   "source": [
    "X = vectorized.fit_transform(sub_samples)"
   ]
  },
  {
   "cell_type": "code",
   "execution_count": 71,
   "metadata": {},
   "outputs": [
    {
     "data": {
      "text/plain": [
       "(10000, 10000)"
      ]
     },
     "execution_count": 71,
     "metadata": {},
     "output_type": "execute_result"
    }
   ],
   "source": [
    "X.shape"
   ]
  },
  {
   "cell_type": "code",
   "execution_count": null,
   "metadata": {
    "collapsed": true
   },
   "outputs": [],
   "source": []
  },
  {
   "cell_type": "code",
   "execution_count": 72,
   "metadata": {},
   "outputs": [
    {
     "data": {
      "text/plain": [
       "{'此外': 6935,\n",
       " '6月12日': 779,\n",
       " '当然': 5399,\n",
       " '相反': 7770,\n",
       " '报道称': 5841,\n",
       " '资料显示': 9057,\n",
       " 'wi': 1340,\n",
       " '按计划': 5900,\n",
       " '128gb': 103,\n",
       " '原标题': 3593,\n",
       " '记者发现': 8853,\n",
       " '就这样': 5015,\n",
       " '据警方透露': 5980,\n",
       " '目前': 7736,\n",
       " '警察': 8800,\n",
       " '女子': 4675,\n",
       " '分析人士认为': 3234,\n",
       " '一九': 1366,\n",
       " '再现': 3144,\n",
       " '周四': 3961,\n",
       " '29个中信一级行业中': 434,\n",
       " '80': 900,\n",
       " '和0': 3972,\n",
       " '20': 238,\n",
       " '22': 395,\n",
       " '82': 911,\n",
       " '64': 736,\n",
       " '34': 481,\n",
       " '06': 33,\n",
       " '其中': 3066,\n",
       " '66': 742,\n",
       " '65': 740,\n",
       " '上海银行': 1584,\n",
       " '华夏银行': 3504,\n",
       " '50': 611,\n",
       " '57': 637,\n",
       " '和3': 3976,\n",
       " '04': 24,\n",
       " '华安证券': 3505,\n",
       " '相对而言': 7771,\n",
       " '近期': 9212,\n",
       " '73': 858,\n",
       " '11': 78,\n",
       " '26': 420,\n",
       " '2013': 268,\n",
       " '那么': 9428,\n",
       " '近日': 9208,\n",
       " '660': 743,\n",
       " '配备有': 9482,\n",
       " '4gb': 576,\n",
       " '采用': 9494,\n",
       " '14': 120,\n",
       " 'oppo': 1260,\n",
       " '不过': 1670,\n",
       " '由于': 7559,\n",
       " '至今': 8527,\n",
       " '28': 426,\n",
       " '12': 92,\n",
       " '沙漠雄鹰': 7052,\n",
       " '但在': 2650,\n",
       " '黑天鹅': 9974,\n",
       " '短期蓝筹股上演的指数行情令市场承压': 7834,\n",
       " '短期利好带动的蓝筹股行情或将告一段落': 7829,\n",
       " '债券通': 2866,\n",
       " '显示': 6424,\n",
       " '6月26日': 828,\n",
       " '十三五': 3468,\n",
       " '45点': 561,\n",
       " '76点': 870,\n",
       " '跌幅为0': 9115,\n",
       " '深成指报10265': 7214,\n",
       " '20点': 381,\n",
       " '97点': 974,\n",
       " '98': 975,\n",
       " '38点': 499,\n",
       " '44': 552,\n",
       " '数据显示': 6139,\n",
       " '57亿元': 639,\n",
       " '27': 422,\n",
       " '69亿元': 754,\n",
       " '技术分析': 5797,\n",
       " '综合分析': 8242,\n",
       " '热点凌乱': 7325,\n",
       " '首先': 9879,\n",
       " '但该板块群众基础弱': 2694,\n",
       " '弹性小制约绝对涨幅': 5359,\n",
       " '与此同时': 1681,\n",
       " '其次': 3111,\n",
       " '所以': 5736,\n",
       " '另外': 3759,\n",
       " '闪崩': 9638,\n",
       " '投资建议': 5815,\n",
       " '金融板块大涨促使沪指上摸3180点压力位区间': 9571,\n",
       " '还需要观察几日': 9231,\n",
       " '王者荣耀': 7456,\n",
       " '一日游': 1423,\n",
       " '实际上': 4858,\n",
       " '因此': 4117,\n",
       " '技术上': 5795,\n",
       " '央行': 4634,\n",
       " '发改委': 3717,\n",
       " '消息面上': 7168,\n",
       " '技术上看': 5796,\n",
       " '在这样的情况下': 4377,\n",
       " '6月9日': 837,\n",
       " '今年4月': 2386,\n",
       " '2015年以来': 302,\n",
       " '微信群': 5441,\n",
       " '期货': 6593,\n",
       " '黑名单': 9973,\n",
       " '保险': 2833,\n",
       " '银行': 9606,\n",
       " 'the': 1314,\n",
       " '俗话说': 2824,\n",
       " '识骗方法': 8942,\n",
       " '链接': 9608,\n",
       " '同时': 3867,\n",
       " '据悉': 5945,\n",
       " '6月21日': 814,\n",
       " '22日': 401,\n",
       " '分析人士指出': 3231,\n",
       " '从国际经验来看': 2443,\n",
       " '6月22日': 819,\n",
       " '19': 172,\n",
       " '32': 476,\n",
       " '30': 462,\n",
       " '75': 864,\n",
       " '和6': 3979,\n",
       " '24': 411,\n",
       " '流动性强': 7130,\n",
       " '证券时报网': 8929,\n",
       " 'www': 1347,\n",
       " 'stcn': 1303,\n",
       " 'com': 1084,\n",
       " '巨丰观点': 5111,\n",
       " '展开反弹': 5045,\n",
       " '盘面上': 7731,\n",
       " '电力': 7573,\n",
       " '民航机场': 6994,\n",
       " '券商': 3326,\n",
       " '房地产': 5728,\n",
       " '人工智能': 2333,\n",
       " '迪士尼': 9355,\n",
       " '雄安新区': 9755,\n",
       " '医疗器械': 3461,\n",
       " '丝绸之路等跌幅居前': 1753,\n",
       " '新华保险': 6200,\n",
       " '中国太保': 1869,\n",
       " '以上': 2525,\n",
       " '贵阳银行': 9046,\n",
       " '兴业银行': 3060,\n",
       " '浦发银行': 7138,\n",
       " '银监会于6月中旬要求各家银行排查包括万达': 9605,\n",
       " '海航集团': 7158,\n",
       " '复星': 4496,\n",
       " '浙江罗森内里在内数家企业的授信及风险分析': 7135,\n",
       " '排查对象多是近年来海外投资比较凶猛': 5994,\n",
       " '在银行业敞口较大的民营企业集团': 4386,\n",
       " '巨丰投顾认为自5月以来': 5110,\n",
       " '大盘已经走出了3重底的走势': 4563,\n",
       " '并开启中级反弹行情': 5212,\n",
       " '沪指在上证50及白马股推动下率先反弹': 7067,\n",
       " '但遭遇60日': 2704,\n",
       " '120日均线强压力而出现调整': 94,\n",
       " '果不其然': 6778,\n",
       " '区块链': 3452,\n",
       " '高送转': 9936,\n",
       " '中新网6月19日电': 1980,\n",
       " '据外媒报道': 5937,\n",
       " '他说': 2512,\n",
       " '免责声明': 2930,\n",
       " '本文仅代表作者个人观点': 6620,\n",
       " '与环球网无关': 1683,\n",
       " '其原创性以及文中陈述文字和内容未经本站证实': 3096,\n",
       " '对本文以及其中全部或者部分内容': 4938,\n",
       " '文字的真实性': 6160,\n",
       " '完整性': 4815,\n",
       " '及时性本站不作任何保证或承诺': 3655,\n",
       " '请读者仅作参考': 8982,\n",
       " '并请自行核实相关内容': 5224,\n",
       " '石墨烯': 7840,\n",
       " '可燃冰': 3794,\n",
       " '机场': 6670,\n",
       " 'acwi全球指数': 998,\n",
       " '今年3月': 2383,\n",
       " '入摩': 2942,\n",
       " 'index': 1186,\n",
       " '37': 493,\n",
       " '的权重': 7674,\n",
       " '另一方面': 3757,\n",
       " '这种情况下': 9314,\n",
       " '中国证券网讯': 1917,\n",
       " '记者': 8837,\n",
       " '23点': 410,\n",
       " '下跌0': 1606,\n",
       " '74': 861,\n",
       " '41点': 539,\n",
       " '45': 556,\n",
       " '下跌1': 1607,\n",
       " '01': 9,\n",
       " '58': 641,\n",
       " '39': 500,\n",
       " '跌幅方面': 9118,\n",
       " '90': 952,\n",
       " '49': 569,\n",
       " '25': 414,\n",
       " '59': 644,\n",
       " '18': 161,\n",
       " '10': 53,\n",
       " '点击图片进入下一页': 7314,\n",
       " '新闻': 6253,\n",
       " '草案对应当奏唱国歌的场合': 8614,\n",
       " '国歌标准曲谱的审定': 4246,\n",
       " '发布和使用': 3715,\n",
       " '奏唱礼仪规范以及不得奏唱': 4653,\n",
       " '播放国歌的场合等做出规范': 6059,\n",
       " '草案规定': 8617,\n",
       " '在公共场合': 4306,\n",
       " '恶意修改国歌歌词或者故意以歪曲': 5504,\n",
       " '贬损方式奏唱国歌': 9032,\n",
       " '损害国歌庄严形象的': 5910,\n",
       " '由公安机关处以十五日以下拘留': 7564,\n",
       " '新闻来源': 6255,\n",
       " '新华社': 6202,\n",
       " '点评': 7317,\n",
       " '有时写作': 6551,\n",
       " '老专家': 8365,\n",
       " '健康医药': 2895,\n",
       " '节目中': 8557,\n",
       " '有时是苗医传人': 6552,\n",
       " '有时是蒙医传人': 6553,\n",
       " '偶尔还会客串一下北大专家和医院退休的老院长': 2897,\n",
       " '由于刘洪滨出现在电视画面中的身份完全不同': 7562,\n",
       " '也被网友戏称为': 2178,\n",
       " '虚假医药广告表演艺术家': 8684,\n",
       " '北京青年报': 3441,\n",
       " '中证网讯': 2039,\n",
       " '本报记者': 6618,\n",
       " '张怡': 5348,\n",
       " '今日': 2410,\n",
       " '三板做市指数继续低开下行': 1540,\n",
       " '中午收盘时下跌0': 1817,\n",
       " '环比小幅放量': 7472,\n",
       " '成交方面': 5554,\n",
       " '65亿元': 741,\n",
       " '涨跌幅方面': 7193,\n",
       " '提示声明': 6037,\n",
       " '本文涉及的行业及个股分析来源于券商研究报告': 6623,\n",
       " '仅为分析人士对该行业及个股的个人观点': 2365,\n",
       " '不代表中证网观点': 1618,\n",
       " '不作为投资者买卖股票的依据': 1624,\n",
       " '股市有风险': 8454,\n",
       " '投资须谨慎': 5817,\n",
       " '119': 88,\n",
       " '61': 728,\n",
       " '2017年1': 333,\n",
       " '同比增长12': 3883,\n",
       " '上汽集团': 1573,\n",
       " '拓普集团': 5859,\n",
       " '风险提示': 9861,\n",
       " '天风证券': 4615,\n",
       " '袭机': 8737,\n",
       " '当地时间6月19日': 5382,\n",
       " '公告称': 2990,\n",
       " '声明称': 4487,\n",
       " '此次': 6938,\n",
       " '事件': 2198,\n",
       " '美军': 8326,\n",
       " '据报道': 5947,\n",
       " '俄罗斯': 2820,\n",
       " '美国': 8328,\n",
       " '叙利亚': 3750,\n",
       " '毫无疑问': 6986,\n",
       " '我们认为有必要尊重叙利亚的主权和领土完整': 5622,\n",
       " '编译': 8259,\n",
       " '海外网': 7147,\n",
       " '纳入msci指数': 8122,\n",
       " '买入': 2193,\n",
       " '最高': 6506,\n",
       " '46': 562,\n",
       " '76': 868,\n",
       " '55': 629,\n",
       " '左右': 5105,\n",
       " '90后': 955,\n",
       " '餐饮': 9878,\n",
       " '67': 746,\n",
       " '01元': 11,\n",
       " '维持': 8235,\n",
       " '评级': 8937,\n",
       " '89亿元': 933,\n",
       " '97': 972,\n",
       " '99': 978,\n",
       " '52亿元': 622,\n",
       " '31': 471,\n",
       " '17': 152,\n",
       " '21': 385,\n",
       " '89': 932,\n",
       " '46亿元': 563,\n",
       " '同比增长41': 3897,\n",
       " '33': 479,\n",
       " '42': 540,\n",
       " '78': 873,\n",
       " '中泰证券': 2009,\n",
       " '芯片': 8566,\n",
       " '大道至简': 4575,\n",
       " '对此': 4939,\n",
       " 'corp': 1088,\n",
       " '但是': 2666,\n",
       " '这一点': 9236,\n",
       " '周五': 3956,\n",
       " '至中午收盘': 8525,\n",
       " '16亿元': 148,\n",
       " '行业方面': 8707,\n",
       " '上涨0': 1586,\n",
       " '53': 623,\n",
       " '家电': 4895,\n",
       " '食品饮料': 9872,\n",
       " '传媒': 2612,\n",
       " '计算机': 8819,\n",
       " '概念方面': 6886,\n",
       " '83': 915,\n",
       " '特斯拉': 7406,\n",
       " '总体来看': 5485,\n",
       " '北京时间6月20日': 3435,\n",
       " '35': 485,\n",
       " '的主题': 7613,\n",
       " '来源': 6739,\n",
       " '新华网': 6218,\n",
       " '今年3月份': 2384,\n",
       " '2015年10月': 291,\n",
       " '2011': 261,\n",
       " '2012': 264,\n",
       " '脱欧': 8474,\n",
       " '英国首相特雷莎': 8598,\n",
       " '格伦费尔塔': 6846,\n",
       " '18日': 166,\n",
       " '英国': 8593,\n",
       " '每日电讯报': 6957,\n",
       " '路透社称': 9135,\n",
       " '等口号': 8042,\n",
       " '每日镜报': 6960,\n",
       " '然而': 7345,\n",
       " '独立报': 7433,\n",
       " '17日下午': 159,\n",
       " '现在': 7492,\n",
       " '星期日泰晤士报': 6376,\n",
       " '硬脱欧': 7864,\n",
       " '计划': 8812,\n",
       " '的做法': 7621,\n",
       " '中国经济周刊': 1906,\n",
       " '北京报道': 3429,\n",
       " '责编': 9024,\n",
       " '周琦': 3966,\n",
       " 'all': 1012,\n",
       " 'in': 1184,\n",
       " '如今': 4696,\n",
       " '手机': 5751,\n",
       " '汽车': 7049,\n",
       " '金融': 9557,\n",
       " '体育': 2741,\n",
       " '当日下午': 5394,\n",
       " '分析': 3230,\n",
       " '对于': 4915,\n",
       " '的问题': 7714,\n",
       " '显然': 6422,\n",
       " '43': 544,\n",
       " '引入战略投资者': 5334,\n",
       " '41亿元': 538,\n",
       " '据媒体报道': 5938,\n",
       " '71亿元': 854,\n",
       " '从那时起': 2463,\n",
       " '的消息': 7682,\n",
       " '不仅如此': 1616,\n",
       " '此前': 6929,\n",
       " '记者表示': 8880,\n",
       " '有消息称': 6556,\n",
       " '公开资料显示': 3008,\n",
       " '5万人': 653,\n",
       " '2016年5月': 314,\n",
       " '股权': 8455,\n",
       " '72亿元': 857,\n",
       " '2016年11月': 307,\n",
       " '据中国之声': 5919,\n",
       " '新闻纵横': 6257,\n",
       " '报道': 5836,\n",
       " '一事': 1367,\n",
       " '国家战略特区': 4212,\n",
       " '朝日新闻': 6583,\n",
       " '今年1月': 2376,\n",
       " '3月': 525,\n",
       " '16日': 150,\n",
       " '说到底': 8969,\n",
       " '值得一提的是': 2867,\n",
       " 'up': 1329,\n",
       " '4分': 592,\n",
       " '哈哈哈': 4001,\n",
       " 'legion': 1215,\n",
       " '2016': 304,\n",
       " '60': 725,\n",
       " 'qq': 1282,\n",
       " '据了解': 5924,\n",
       " '机器人': 6668,\n",
       " 'gps': 1154,\n",
       " '清华大学': 7227,\n",
       " '事实上': 2206,\n",
       " '因地制宜': 4115,\n",
       " '阿里巴巴': 9670,\n",
       " '访问': 8920,\n",
       " '6月14日': 784,\n",
       " '譬如': 8811,\n",
       " '接下来': 6000,\n",
       " '第一': 8006,\n",
       " '如此': 4722,\n",
       " '第二': 8019,\n",
       " '输血': 9163,\n",
       " '造血': 9410,\n",
       " '的同时': 7638,\n",
       " '毕竟': 6984,\n",
       " '为例': 2066,\n",
       " '两大第三方电商平台': 1765,\n",
       " '仍强行通过优惠券': 2418,\n",
       " '满额返现等方式进行价格补贴': 7288,\n",
       " '并且这些补贴多数成本仍强迫我们买单': 5201,\n",
       " '远远超出了我们的承受能力': 9348,\n",
       " '当下的价格不仅远远击穿了我们的成本': 5370,\n",
       " '也导致此次电商节可能成为众多黄牛的提货节': 2161,\n",
       " '大量产品由线上串货至线下': 4579,\n",
       " '严重扰乱超级电视的价格体系': 1795,\n",
       " '乐视在声明中称': 2145,\n",
       " '为保障用户利益和保障企业的长久发展': 2068,\n",
       " '我们正积极与两大电商平台沟通': 5610,\n",
       " '对于部分疑似黄牛订单进行限制发货或取消订单': 4922,\n",
       " '电商平台强行降价': 7575,\n",
       " '已经引发恶性竞争': 5122,\n",
       " '我们看到': 5617,\n",
       " '一些企业面对成本压力': 1372,\n",
       " '甚至采用低配': 7538,\n",
       " '低质的产品参加电商节': 2720,\n",
       " '损害用户利益': 5911,\n",
       " '关于第三方电商平台强行降价的声明': 3046,\n",
       " '今年618期间': 2392,\n",
       " '超4': 9090,\n",
       " '我们认为': 5621,\n",
       " '一个靠绑架企业杀价格战': 1364,\n",
       " '是竭泽而渔': 6415,\n",
       " '杀鸡取卵的短视行为': 6683,\n",
       " '看似让用户受益的背后': 7796,\n",
       " '实际上是在损害企业利益': 4860,\n",
       " '2017年6月18日': 348,\n",
       " '而且': 8391,\n",
       " '此役': 6936,\n",
       " '在这种情况下': 4379,\n",
       " 'watch': 1337,\n",
       " '苹果在线商店': 8610,\n",
       " '中国': 1834,\n",
       " '6月8日': 836,\n",
       " '38': 496,\n",
       " '当日': 5393,\n",
       " '29': 433,\n",
       " '天猫': 4610,\n",
       " '变脸': 3748,\n",
       " '2017年一季度': 357,\n",
       " '京东': 2308,\n",
       " '供应商': 2789,\n",
       " '过去': 9172,\n",
       " '6月1日': 807,\n",
       " '6月13日': 781,\n",
       " '物流': 7391,\n",
       " 'andrew': 1018,\n",
       " '众所周知': 2586,\n",
       " '值得注意的是': 2870,\n",
       " '总体而言': 5490,\n",
       " 'ihs': 1181,\n",
       " '去年3月': 3611,\n",
       " 'vr': 1333,\n",
       " '上周': 1562,\n",
       " '微信': 5436,\n",
       " '功夫不负有心人': 3357,\n",
       " '2014年9月': 284,\n",
       " '2016年': 305,\n",
       " '2017年': 332,\n",
       " '访惠聚': 8918,\n",
       " '我想': 5650,\n",
       " '现在看来': 7495,\n",
       " '暴徒': 6454,\n",
       " '标签': 6793,\n",
       " '三股势力': 1548,\n",
       " '欺骗': 6912,\n",
       " '成为': 5543,\n",
       " '青年朋友们': 9783,\n",
       " '2015年4月': 297,\n",
       " '参加': 3630,\n",
       " '近几年': 9203,\n",
       " '这正是': 9312,\n",
       " '我相信': 5659,\n",
       " '新疆': 6239,\n",
       " '我爱你': 5657,\n",
       " '要知道': 8764,\n",
       " '起步': 9088,\n",
       " 'whole': 1339,\n",
       " 'foods': 1130,\n",
       " 'amazon': 1014,\n",
       " '例如': 2781,\n",
       " 'david': 1098,\n",
       " '指出': 5883,\n",
       " '认为': 8821,\n",
       " '他说道': 2513,\n",
       " '办法': 3356,\n",
       " '明确': 6364,\n",
       " '规定': 8778,\n",
       " '道路交通安全法': 9417,\n",
       " '刚开始': 3270,\n",
       " '随后': 9730,\n",
       " '事后': 2204,\n",
       " '5月22日': 693,\n",
       " '5月23日': 694,\n",
       " '5月24日': 695,\n",
       " '此刻': 6928,\n",
       " '3万人': 506,\n",
       " '1万人': 221,\n",
       " '6万人': 756,\n",
       " '专科': 1700,\n",
       " '高职': 9934,\n",
       " '很快': 5428,\n",
       " '令人惊讶的是': 2524,\n",
       " '记者邓文辉': 8889,\n",
       " '6月18日上午': 799,\n",
       " '亿元': 2362,\n",
       " '湖南': 7275,\n",
       " '旅游': 6270,\n",
       " '的思路': 7655,\n",
       " '文化': 6149,\n",
       " '健康': 2893,\n",
       " '2008': 253,\n",
       " '三无': 1528,\n",
       " '产品': 2297,\n",
       " '6月20日下午': 811,\n",
       " '环球网综合报道': 7486,\n",
       " '环球时报': 7473,\n",
       " '破解': 7860,\n",
       " '可以看到': 3783,\n",
       " '日前': 6306,\n",
       " '制作': 3308,\n",
       " '第三': 8014,\n",
       " '中新网6月23日电': 1984,\n",
       " '魔法门之英雄无敌': 9944,\n",
       " '战争纪元': 5677,\n",
       " '同期': 3872,\n",
       " '他表示': 2509,\n",
       " '可以说': 3785,\n",
       " '一带一路': 1401,\n",
       " '正因如此': 6918,\n",
       " '主题': 2117,\n",
       " '市场': 5148,\n",
       " '去年': 3606,\n",
       " '倡议': 2861,\n",
       " '匈牙利': 3410,\n",
       " '希腊': 5176,\n",
       " '埃及': 4423,\n",
       " '走出去': 9078,\n",
       " '丝绸之路': 1752,\n",
       " '据统计': 5972,\n",
       " 'group': 1156,\n",
       " '95': 967,\n",
       " '下一步': 1597,\n",
       " '高考': 9930,\n",
       " 'app': 1021,\n",
       " '北京': 3419,\n",
       " '理科': 7516,\n",
       " '一对一': 1397,\n",
       " '比如': 6973,\n",
       " '高考派': 9932,\n",
       " '二是': 2220,\n",
       " '高校': 9925,\n",
       " '性格': 5479,\n",
       " '互联网': 2244,\n",
       " '业内认为': 1724,\n",
       " '成都': 5571,\n",
       " '18日晚': 170,\n",
       " 'you': 1351,\n",
       " 'are': 1025,\n",
       " 'one': 1258,\n",
       " '再到': 3137,\n",
       " '福布斯': 7901,\n",
       " '70': 847,\n",
       " '功能': 3359,\n",
       " '智能家居': 6445,\n",
       " '大数据': 4559,\n",
       " '会上': 2595,\n",
       " '爆款': 7363,\n",
       " '去年12月': 3609,\n",
       " '搜索': 6047,\n",
       " '他还表示': 2517,\n",
       " '北京时间6月20日消息': 3436,\n",
       " '2014年': 277,\n",
       " 'for': 1131,\n",
       " '那一年': 9426,\n",
       " '发现': 3718,\n",
       " '共享单车': 3025,\n",
       " '这些': 9260,\n",
       " '6月13日下午': 782,\n",
       " 'go': 1151,\n",
       " '她表示': 4686,\n",
       " '她称': 4685,\n",
       " '中新网6月18日电': 1979,\n",
       " '中国石化光明号': 1896,\n",
       " '幸运的是': 5231,\n",
       " '这次': 9311,\n",
       " '5月8日': 703,\n",
       " '随着': 9738,\n",
       " '近年来': 9207,\n",
       " '十多年来': 3478,\n",
       " '4亿元': 589,\n",
       " '青海': 9785,\n",
       " '宁夏': 4778,\n",
       " '西藏': 8754,\n",
       " '记者雷恺': 8897,\n",
       " '据介绍': 5926,\n",
       " '建筑': 5295,\n",
       " '2015年': 290,\n",
       " '除此之外': 9719,\n",
       " '江苏': 7031,\n",
       " '浙江': 7133,\n",
       " '安徽': 4800,\n",
       " '福建': 7902,\n",
       " '江西': 7033,\n",
       " '山东': 5052,\n",
       " '河南': 7074,\n",
       " '后勤': 3912,\n",
       " '装备': 8740,\n",
       " 'home': 1164,\n",
       " 'google': 1152,\n",
       " '新疆日报讯': 6240,\n",
       " '其实': 3101,\n",
       " '从此': 2453,\n",
       " '今后': 2369,\n",
       " 'dao': 1096,\n",
       " '万美元': 1498,\n",
       " 'fbi': 1122,\n",
       " '15': 132,\n",
       " '最强大脑': 6495,\n",
       " '昨日上午': 6384,\n",
       " '资料图': 9055,\n",
       " '经调查': 8177,\n",
       " '至此': 8529,\n",
       " '此时': 6937,\n",
       " '中国网财经6月23日讯': 1914,\n",
       " '中国保监会副主席黄洪在国务院政策例行吹风会上表示': 1842,\n",
       " '2009年': 257,\n",
       " '国发': 4181,\n",
       " '2009': 256,\n",
       " '党中央': 2931,\n",
       " '中央': 1928,\n",
       " '也就是说': 2163,\n",
       " '这几年': 9278,\n",
       " '比如说': 6974,\n",
       " '截至发稿': 5716,\n",
       " '东旭蓝天': 1737,\n",
       " '集团': 9763,\n",
       " '截至2016年底': 5694,\n",
       " '今年一季度': 2395,\n",
       " '企业': 2573,\n",
       " '具体而言': 3122,\n",
       " '融资贵问题': 8701,\n",
       " '今年以来': 2398,\n",
       " '个百分点': 1805,\n",
       " 'vivo': 1332,\n",
       " '小米': 4979,\n",
       " '目前来看': 7746,\n",
       " '00': 0,\n",
       " '23日': 408,\n",
       " '昨天下午': 6382,\n",
       " '2017': 330,\n",
       " '300': 463,\n",
       " '发布会上': 3712,\n",
       " '他指出': 2504,\n",
       " '医疗': 3459,\n",
       " '战略布局': 5682,\n",
       " '2014': 276,\n",
       " '新华社记者': 6216,\n",
       " '透明': 9377,\n",
       " '截至目前': 5722,\n",
       " '印度尼西亚': 3564,\n",
       " '缅甸': 8255,\n",
       " '印度': 3561,\n",
       " '巴黎协定': 5143,\n",
       " '稳定': 7961,\n",
       " '负责': 9010,\n",
       " '未来': 6600,\n",
       " 'national': 1243,\n",
       " 'geographic': 1147,\n",
       " 'eric': 1112,\n",
       " 'martin': 1228,\n",
       " '夜幕降临': 4533,\n",
       " '疯狂': 7598,\n",
       " 'and': 1017,\n",
       " 'nasa': 1242,\n",
       " '机制': 6666,\n",
       " 'ice': 1175,\n",
       " 'data': 1097,\n",
       " 'of': 1254,\n",
       " '去年11月': 3608,\n",
       " 'tim': 1318,\n",
       " '飞机': 9865,\n",
       " '今年1月份': 2378,\n",
       " '2015年1月': 294,\n",
       " '纽约': 8126,\n",
       " '出品': 3215,\n",
       " '51': 619,\n",
       " '的股份': 7699,\n",
       " '吉利': 3854,\n",
       " '中新网成都6月23日电': 1992,\n",
       " '生活': 7546,\n",
       " '产业升级': 2291,\n",
       " '相关数据显示': 7766,\n",
       " '2点': 460,\n",
       " '专家分析': 1691,\n",
       " '煤炭': 7350,\n",
       " '采取': 9490,\n",
       " '技能': 5798,\n",
       " '培训': 4434,\n",
       " '等方式': 8046,\n",
       " '恒基达鑫': 5502,\n",
       " '北京时间6月16日': 3433,\n",
       " '浮生': 7139,\n",
       " '最近': 6502,\n",
       " '相关报道': 7765,\n",
       " '邱越': 9452,\n",
       " '军事专家尹卓在接受央视采访时表示': 3148,\n",
       " '小型护卫舰': 4967,\n",
       " '门槛': 9635,\n",
       " '日本经济新闻': 6316,\n",
       " '报道还指出': 5844,\n",
       " '6亿美元': 767,\n",
       " '宙斯盾': 4823,\n",
       " '在此背景下': 4340,\n",
       " '尹卓表示': 5017,\n",
       " '91': 957,\n",
       " '29亿元': 435,\n",
       " '27万元': 423,\n",
       " '34万元': 482,\n",
       " '我们知道': 5618,\n",
       " '今年': 2374,\n",
       " '真的': 7808,\n",
       " '月光': 6510,\n",
       " '聊天': 8431,\n",
       " '6月15日': 787,\n",
       " '谢谢': 9003,\n",
       " '于是': 2232,\n",
       " '面子': 9797,\n",
       " '一方面': 1421,\n",
       " '6月23日': 824,\n",
       " '简称': 8066,\n",
       " '实现了': 4847,\n",
       " 'msci': 1236,\n",
       " '2016年4月': 313,\n",
       " '业内人士表示': 1722,\n",
       " '韩国': 9806,\n",
       " '43次': 550,\n",
       " '宝能系': 4835,\n",
       " '去年5月': 3614,\n",
       " '中国经济网北京6月23日讯': 1908,\n",
       " '上海': 1574,\n",
       " '广州': 5244,\n",
       " '深圳': 7208,\n",
       " '武汉': 6945,\n",
       " '到目前为止': 3306,\n",
       " '全覆盖': 2967,\n",
       " '距离': 9121,\n",
       " '观点': 8774,\n",
       " '我们': 5588,\n",
       " '库里': 5260,\n",
       " '詹姆斯': 8798,\n",
       " '兄弟': 2908,\n",
       " '毋庸置疑': 6951,\n",
       " '87': 926,\n",
       " '54': 627,\n",
       " '09': 46,\n",
       " '16': 143,\n",
       " '13': 108,\n",
       " 'qdii': 1279,\n",
       " '人民币': 2337,\n",
       " '63': 734,\n",
       " '美元': 8325,\n",
       " 'fof': 1129,\n",
       " '85': 921,\n",
       " '62': 731,\n",
       " '子女入学': 4749,\n",
       " '这是': 9287,\n",
       " '创新发展': 3284,\n",
       " '聚焦': 8444,\n",
       " '松绑': 6757,\n",
       " '培养': 4431,\n",
       " '效应': 6115,\n",
       " '有关情况': 6529,\n",
       " '黄洪表示': 9961,\n",
       " '从目前来看': 2457,\n",
       " '07元': 42,\n",
       " '轨道': 9147,\n",
       " '物业': 7388,\n",
       " '模式': 6893,\n",
       " '专车': 1702,\n",
       " '顺风车': 9835,\n",
       " '公交': 2975,\n",
       " '被誉为': 8735,\n",
       " '绿色': 8249,\n",
       " '当年': 5390,\n",
       " '掌门人': 5993,\n",
       " '中新社记者': 1972,\n",
       " '被称为': 8733,\n",
       " '2013年': 269,\n",
       " '专栏': 1699,\n",
       " '消息称': 7166,\n",
       " '去年夏天': 3620,\n",
       " '本赛季': 6650,\n",
       " '2015': 289,\n",
       " '连日来': 9352,\n",
       " '勇于担当': 3394,\n",
       " '面对': 9798,\n",
       " '卡塔尔': 3546,\n",
       " '穆罕默德': 7964,\n",
       " '巴林': 5135,\n",
       " '沙特阿拉伯': 7055,\n",
       " '并表示': 5222,\n",
       " '据法新社报道': 5962,\n",
       " '阿联酋': 9667,\n",
       " '经济日报': 8163,\n",
       " '房屋': 5731,\n",
       " '扶贫': 5784,\n",
       " '一国两制': 1390,\n",
       " '梁振英': 6857,\n",
       " '基本法': 4440,\n",
       " '落实': 8659,\n",
       " '1990年': 197,\n",
       " '回归20年来': 4095,\n",
       " '香港': 9888,\n",
       " '不变': 1632,\n",
       " '的原因': 7632,\n",
       " '一是': 1426,\n",
       " '过程中': 9182,\n",
       " '通过': 9396,\n",
       " '参与': 3626,\n",
       " '建设': 5301,\n",
       " '的地方': 7640,\n",
       " '一国': 1389,\n",
       " '两制': 1763,\n",
       " '之便': 2128,\n",
       " '的双重优势': 7633,\n",
       " '超级联系人': 9095,\n",
       " '最近几年': 6504,\n",
       " '做到': 2881,\n",
       " '国家所需': 4213,\n",
       " '香港所长': 9890,\n",
       " '英语': 8604,\n",
       " '5年来': 687,\n",
       " '根据数据': 6830,\n",
       " '金融服务': 9565,\n",
       " '珠三角': 7510,\n",
       " '当时': 5395,\n",
       " '并船出海': 5221,\n",
       " '建设中': 5302,\n",
       " '码头': 7846,\n",
       " '公路': 3018,\n",
       " '总之': 5482,\n",
       " '如果一切顺利': 4702,\n",
       " '最后一公里': 6488,\n",
       " 'id': 1177,\n",
       " '通讯员': 9393,\n",
       " '有一次': 6515,\n",
       " '做游戏': 2888,\n",
       " '02': 13,\n",
       " '彼时': 5416,\n",
       " '渐渐地': 7240,\n",
       " '老师': 8371,\n",
       " '再见': 3147,\n",
       " '就是': 4999,\n",
       " '随着时间的推移': 9742,\n",
       " '03': 21,\n",
       " '有人认为': 6525,\n",
       " '她说': 4688,\n",
       " '参考消息网': 3633,\n",
       " '华尔街日报': 3506,\n",
       " '6月19日': 802,\n",
       " '21日': 390,\n",
       " '连接世界': 9351,\n",
       " 'gateway': 1140,\n",
       " '6月20日': 809,\n",
       " '交通': 2284,\n",
       " '1亿元': 228,\n",
       " '的美誉': 7698,\n",
       " '5万吨': 658,\n",
       " '6月16日': 791,\n",
       " '组合拳': 8130,\n",
       " '活动': 7125,\n",
       " '中新网重庆6月23日电': 1999,\n",
       " '以下简称': 2529,\n",
       " '牵手': 7394,\n",
       " '大连': 4572,\n",
       " '2011年': 262,\n",
       " '双创': 3667,\n",
       " '孵化器': 4776,\n",
       " '辽宁': 9168,\n",
       " '6月': 775,\n",
       " '老爸': 8377,\n",
       " '否则': 3932,\n",
       " '老大难': 8370,\n",
       " '曾几何时': 6477,\n",
       " '清晨': 7229,\n",
       " '截图': 5683,\n",
       " '好吧': 4693,\n",
       " '或者': 5673,\n",
       " '6月17日': 796,\n",
       " '德国': 5451,\n",
       " '这就意味着': 9281,\n",
       " '孤城': 4763,\n",
       " '成长': 5581,\n",
       " '我们拭目以待': 5607,\n",
       " '发动机': 3697,\n",
       " '运动': 9186,\n",
       " '40': 531,\n",
       " '环球网报道': 7484,\n",
       " '实习记者': 4839,\n",
       " 'road': 1284,\n",
       " '造成多人受伤': 9408,\n",
       " '伦敦医疗救护部门称他们已经向现场派出大批人员进行救援': 2620,\n",
       " '跨界歌王': 9127,\n",
       " '王珞丹': 7453,\n",
       " '最终': 6498,\n",
       " '歌剧魅影': 6913,\n",
       " '陈赫': 9685,\n",
       " '6月24日': 826,\n",
       " '来吧兄弟团': 6735,\n",
       " '大哥': 4547,\n",
       " '作为': 2756,\n",
       " '家长': 4898,\n",
       " '挑衅': 5904,\n",
       " '形象': 5406,\n",
       " '18日报道称': 169,\n",
       " '截至记者发稿时': 5723,\n",
       " '有分析认为': 6531,\n",
       " '从2014年起': 2423,\n",
       " '法国': 7085,\n",
       " '在此基础上': 4337,\n",
       " '实习编译': 4837,\n",
       " '审稿': 4873,\n",
       " '赵怡蓁': 9084,\n",
       " '旅途的花样': 6273,\n",
       " '花样团': 8570,\n",
       " '吃货': 3835,\n",
       " '担当': 5850,\n",
       " '亮相': 2320,\n",
       " '黑飞': 9981,\n",
       " '问题': 9641,\n",
       " '5月16日': 690,\n",
       " '下称': 1604,\n",
       " '何为': 2745,\n",
       " '的规定': 7705,\n",
       " '公开数据显示': 3007,\n",
       " '从2013年开始': 2422,\n",
       " '生产和销售': 7541,\n",
       " '100': 54,\n",
       " '2017年以来': 359,\n",
       " '草案': 8612,\n",
       " '紧箍咒': 8099,\n",
       " '高效': 9919,\n",
       " '5月': 688,\n",
       " '一刀切': 1380,\n",
       " '监管': 7727,\n",
       " '6月18日': 798,\n",
       " '中邪': 2043,\n",
       " '电影': 7584,\n",
       " '凤凰体育讯': 3198,\n",
       " '赛后': 9073,\n",
       " '上半场': 1560,\n",
       " '是的': 6414,\n",
       " '本场比赛': 6615,\n",
       " '多年来': 4524,\n",
       " 'colleen': 1083,\n",
       " '新零售': 6260,\n",
       " '唯品会': 4024,\n",
       " '甚至': 7534,\n",
       " '紧接着': 8097,\n",
       " '二选一': 2231,\n",
       " '多年以来': 4523,\n",
       " '从去年开始': 2441,\n",
       " '但即便如此': 2645,\n",
       " '无人机': 6283,\n",
       " '之前': 2129,\n",
       " '的关系': 7623,\n",
       " '星期五': 6375,\n",
       " '举行': 2121,\n",
       " 'mike': 1231,\n",
       " '全新': 2960,\n",
       " '导演': 4950,\n",
       " '近年': 9206,\n",
       " '经验丰富': 8185,\n",
       " '为此': 2085,\n",
       " '000': 1,\n",
       " '演员': 7294,\n",
       " '新技术': 6229,\n",
       " ...}"
      ]
     },
     "execution_count": 72,
     "metadata": {},
     "output_type": "execute_result"
    }
   ],
   "source": [
    "vectorized.vocabulary_"
   ]
  },
  {
   "cell_type": "code",
   "execution_count": 73,
   "metadata": {},
   "outputs": [
    {
     "data": {
      "text/plain": [
       "(array([0, 0, 0], dtype=int64), array([ 779, 5399, 6935], dtype=int64))"
      ]
     },
     "execution_count": 73,
     "metadata": {},
     "output_type": "execute_result"
    }
   ],
   "source": [
    "np.where(X[0].toarray()) # get the positions which values are not zero"
   ]
  },
  {
   "cell_type": "code",
   "execution_count": 74,
   "metadata": {},
   "outputs": [
    {
     "data": {
      "text/plain": [
       "'此外，自本周（6月12日）起，除小米手机6等15款机型外，其余机型已暂停更新发布（含开发版/体验版内测，稳定版暂不受影响），以确保工程师可以集中全部精力进行系统优化工作。有人猜测这也是将精力主要用到MIUI 9的研发之中。\\r\\nMIUI 8去年5月发布，距今已有一年有余，也是时候更新换代了。\\r\\n当然，关于MIUI 9的确切信息，我们还是等待官方消息。\\r\\n'"
      ]
     },
     "execution_count": 74,
     "metadata": {},
     "output_type": "execute_result"
    }
   ],
   "source": [
    "news_content[0]"
   ]
  },
  {
   "cell_type": "code",
   "execution_count": 75,
   "metadata": {},
   "outputs": [
    {
     "data": {
      "text/plain": [
       "{'此外': 6935,\n",
       " '6月12日': 779,\n",
       " '当然': 5399,\n",
       " '相反': 7770,\n",
       " '报道称': 5841,\n",
       " '资料显示': 9057,\n",
       " 'wi': 1340,\n",
       " '按计划': 5900,\n",
       " '128gb': 103,\n",
       " '原标题': 3593,\n",
       " '记者发现': 8853,\n",
       " '就这样': 5015,\n",
       " '据警方透露': 5980,\n",
       " '目前': 7736,\n",
       " '警察': 8800,\n",
       " '女子': 4675,\n",
       " '分析人士认为': 3234,\n",
       " '一九': 1366,\n",
       " '再现': 3144,\n",
       " '周四': 3961,\n",
       " '29个中信一级行业中': 434,\n",
       " '80': 900,\n",
       " '和0': 3972,\n",
       " '20': 238,\n",
       " '22': 395,\n",
       " '82': 911,\n",
       " '64': 736,\n",
       " '34': 481,\n",
       " '06': 33,\n",
       " '其中': 3066,\n",
       " '66': 742,\n",
       " '65': 740,\n",
       " '上海银行': 1584,\n",
       " '华夏银行': 3504,\n",
       " '50': 611,\n",
       " '57': 637,\n",
       " '和3': 3976,\n",
       " '04': 24,\n",
       " '华安证券': 3505,\n",
       " '相对而言': 7771,\n",
       " '近期': 9212,\n",
       " '73': 858,\n",
       " '11': 78,\n",
       " '26': 420,\n",
       " '2013': 268,\n",
       " '那么': 9428,\n",
       " '近日': 9208,\n",
       " '660': 743,\n",
       " '配备有': 9482,\n",
       " '4gb': 576,\n",
       " '采用': 9494,\n",
       " '14': 120,\n",
       " 'oppo': 1260,\n",
       " '不过': 1670,\n",
       " '由于': 7559,\n",
       " '至今': 8527,\n",
       " '28': 426,\n",
       " '12': 92,\n",
       " '沙漠雄鹰': 7052,\n",
       " '但在': 2650,\n",
       " '黑天鹅': 9974,\n",
       " '短期蓝筹股上演的指数行情令市场承压': 7834,\n",
       " '短期利好带动的蓝筹股行情或将告一段落': 7829,\n",
       " '债券通': 2866,\n",
       " '显示': 6424,\n",
       " '6月26日': 828,\n",
       " '十三五': 3468,\n",
       " '45点': 561,\n",
       " '76点': 870,\n",
       " '跌幅为0': 9115,\n",
       " '深成指报10265': 7214,\n",
       " '20点': 381,\n",
       " '97点': 974,\n",
       " '98': 975,\n",
       " '38点': 499,\n",
       " '44': 552,\n",
       " '数据显示': 6139,\n",
       " '57亿元': 639,\n",
       " '27': 422,\n",
       " '69亿元': 754,\n",
       " '技术分析': 5797,\n",
       " '综合分析': 8242,\n",
       " '热点凌乱': 7325,\n",
       " '首先': 9879,\n",
       " '但该板块群众基础弱': 2694,\n",
       " '弹性小制约绝对涨幅': 5359,\n",
       " '与此同时': 1681,\n",
       " '其次': 3111,\n",
       " '所以': 5736,\n",
       " '另外': 3759,\n",
       " '闪崩': 9638,\n",
       " '投资建议': 5815,\n",
       " '金融板块大涨促使沪指上摸3180点压力位区间': 9571,\n",
       " '还需要观察几日': 9231,\n",
       " '王者荣耀': 7456,\n",
       " '一日游': 1423,\n",
       " '实际上': 4858,\n",
       " '因此': 4117,\n",
       " '技术上': 5795,\n",
       " '央行': 4634,\n",
       " '发改委': 3717,\n",
       " '消息面上': 7168,\n",
       " '技术上看': 5796,\n",
       " '在这样的情况下': 4377,\n",
       " '6月9日': 837,\n",
       " '今年4月': 2386,\n",
       " '2015年以来': 302,\n",
       " '微信群': 5441,\n",
       " '期货': 6593,\n",
       " '黑名单': 9973,\n",
       " '保险': 2833,\n",
       " '银行': 9606,\n",
       " 'the': 1314,\n",
       " '俗话说': 2824,\n",
       " '识骗方法': 8942,\n",
       " '链接': 9608,\n",
       " '同时': 3867,\n",
       " '据悉': 5945,\n",
       " '6月21日': 814,\n",
       " '22日': 401,\n",
       " '分析人士指出': 3231,\n",
       " '从国际经验来看': 2443,\n",
       " '6月22日': 819,\n",
       " '19': 172,\n",
       " '32': 476,\n",
       " '30': 462,\n",
       " '75': 864,\n",
       " '和6': 3979,\n",
       " '24': 411,\n",
       " '流动性强': 7130,\n",
       " '证券时报网': 8929,\n",
       " 'www': 1347,\n",
       " 'stcn': 1303,\n",
       " 'com': 1084,\n",
       " '巨丰观点': 5111,\n",
       " '展开反弹': 5045,\n",
       " '盘面上': 7731,\n",
       " '电力': 7573,\n",
       " '民航机场': 6994,\n",
       " '券商': 3326,\n",
       " '房地产': 5728,\n",
       " '人工智能': 2333,\n",
       " '迪士尼': 9355,\n",
       " '雄安新区': 9755,\n",
       " '医疗器械': 3461,\n",
       " '丝绸之路等跌幅居前': 1753,\n",
       " '新华保险': 6200,\n",
       " '中国太保': 1869,\n",
       " '以上': 2525,\n",
       " '贵阳银行': 9046,\n",
       " '兴业银行': 3060,\n",
       " '浦发银行': 7138,\n",
       " '银监会于6月中旬要求各家银行排查包括万达': 9605,\n",
       " '海航集团': 7158,\n",
       " '复星': 4496,\n",
       " '浙江罗森内里在内数家企业的授信及风险分析': 7135,\n",
       " '排查对象多是近年来海外投资比较凶猛': 5994,\n",
       " '在银行业敞口较大的民营企业集团': 4386,\n",
       " '巨丰投顾认为自5月以来': 5110,\n",
       " '大盘已经走出了3重底的走势': 4563,\n",
       " '并开启中级反弹行情': 5212,\n",
       " '沪指在上证50及白马股推动下率先反弹': 7067,\n",
       " '但遭遇60日': 2704,\n",
       " '120日均线强压力而出现调整': 94,\n",
       " '果不其然': 6778,\n",
       " '区块链': 3452,\n",
       " '高送转': 9936,\n",
       " '中新网6月19日电': 1980,\n",
       " '据外媒报道': 5937,\n",
       " '他说': 2512,\n",
       " '免责声明': 2930,\n",
       " '本文仅代表作者个人观点': 6620,\n",
       " '与环球网无关': 1683,\n",
       " '其原创性以及文中陈述文字和内容未经本站证实': 3096,\n",
       " '对本文以及其中全部或者部分内容': 4938,\n",
       " '文字的真实性': 6160,\n",
       " '完整性': 4815,\n",
       " '及时性本站不作任何保证或承诺': 3655,\n",
       " '请读者仅作参考': 8982,\n",
       " '并请自行核实相关内容': 5224,\n",
       " '石墨烯': 7840,\n",
       " '可燃冰': 3794,\n",
       " '机场': 6670,\n",
       " 'acwi全球指数': 998,\n",
       " '今年3月': 2383,\n",
       " '入摩': 2942,\n",
       " 'index': 1186,\n",
       " '37': 493,\n",
       " '的权重': 7674,\n",
       " '另一方面': 3757,\n",
       " '这种情况下': 9314,\n",
       " '中国证券网讯': 1917,\n",
       " '记者': 8837,\n",
       " '23点': 410,\n",
       " '下跌0': 1606,\n",
       " '74': 861,\n",
       " '41点': 539,\n",
       " '45': 556,\n",
       " '下跌1': 1607,\n",
       " '01': 9,\n",
       " '58': 641,\n",
       " '39': 500,\n",
       " '跌幅方面': 9118,\n",
       " '90': 952,\n",
       " '49': 569,\n",
       " '25': 414,\n",
       " '59': 644,\n",
       " '18': 161,\n",
       " '10': 53,\n",
       " '点击图片进入下一页': 7314,\n",
       " '新闻': 6253,\n",
       " '草案对应当奏唱国歌的场合': 8614,\n",
       " '国歌标准曲谱的审定': 4246,\n",
       " '发布和使用': 3715,\n",
       " '奏唱礼仪规范以及不得奏唱': 4653,\n",
       " '播放国歌的场合等做出规范': 6059,\n",
       " '草案规定': 8617,\n",
       " '在公共场合': 4306,\n",
       " '恶意修改国歌歌词或者故意以歪曲': 5504,\n",
       " '贬损方式奏唱国歌': 9032,\n",
       " '损害国歌庄严形象的': 5910,\n",
       " '由公安机关处以十五日以下拘留': 7564,\n",
       " '新闻来源': 6255,\n",
       " '新华社': 6202,\n",
       " '点评': 7317,\n",
       " '有时写作': 6551,\n",
       " '老专家': 8365,\n",
       " '健康医药': 2895,\n",
       " '节目中': 8557,\n",
       " '有时是苗医传人': 6552,\n",
       " '有时是蒙医传人': 6553,\n",
       " '偶尔还会客串一下北大专家和医院退休的老院长': 2897,\n",
       " '由于刘洪滨出现在电视画面中的身份完全不同': 7562,\n",
       " '也被网友戏称为': 2178,\n",
       " '虚假医药广告表演艺术家': 8684,\n",
       " '北京青年报': 3441,\n",
       " '中证网讯': 2039,\n",
       " '本报记者': 6618,\n",
       " '张怡': 5348,\n",
       " '今日': 2410,\n",
       " '三板做市指数继续低开下行': 1540,\n",
       " '中午收盘时下跌0': 1817,\n",
       " '环比小幅放量': 7472,\n",
       " '成交方面': 5554,\n",
       " '65亿元': 741,\n",
       " '涨跌幅方面': 7193,\n",
       " '提示声明': 6037,\n",
       " '本文涉及的行业及个股分析来源于券商研究报告': 6623,\n",
       " '仅为分析人士对该行业及个股的个人观点': 2365,\n",
       " '不代表中证网观点': 1618,\n",
       " '不作为投资者买卖股票的依据': 1624,\n",
       " '股市有风险': 8454,\n",
       " '投资须谨慎': 5817,\n",
       " '119': 88,\n",
       " '61': 728,\n",
       " '2017年1': 333,\n",
       " '同比增长12': 3883,\n",
       " '上汽集团': 1573,\n",
       " '拓普集团': 5859,\n",
       " '风险提示': 9861,\n",
       " '天风证券': 4615,\n",
       " '袭机': 8737,\n",
       " '当地时间6月19日': 5382,\n",
       " '公告称': 2990,\n",
       " '声明称': 4487,\n",
       " '此次': 6938,\n",
       " '事件': 2198,\n",
       " '美军': 8326,\n",
       " '据报道': 5947,\n",
       " '俄罗斯': 2820,\n",
       " '美国': 8328,\n",
       " '叙利亚': 3750,\n",
       " '毫无疑问': 6986,\n",
       " '我们认为有必要尊重叙利亚的主权和领土完整': 5622,\n",
       " '编译': 8259,\n",
       " '海外网': 7147,\n",
       " '纳入msci指数': 8122,\n",
       " '买入': 2193,\n",
       " '最高': 6506,\n",
       " '46': 562,\n",
       " '76': 868,\n",
       " '55': 629,\n",
       " '左右': 5105,\n",
       " '90后': 955,\n",
       " '餐饮': 9878,\n",
       " '67': 746,\n",
       " '01元': 11,\n",
       " '维持': 8235,\n",
       " '评级': 8937,\n",
       " '89亿元': 933,\n",
       " '97': 972,\n",
       " '99': 978,\n",
       " '52亿元': 622,\n",
       " '31': 471,\n",
       " '17': 152,\n",
       " '21': 385,\n",
       " '89': 932,\n",
       " '46亿元': 563,\n",
       " '同比增长41': 3897,\n",
       " '33': 479,\n",
       " '42': 540,\n",
       " '78': 873,\n",
       " '中泰证券': 2009,\n",
       " '芯片': 8566,\n",
       " '大道至简': 4575,\n",
       " '对此': 4939,\n",
       " 'corp': 1088,\n",
       " '但是': 2666,\n",
       " '这一点': 9236,\n",
       " '周五': 3956,\n",
       " '至中午收盘': 8525,\n",
       " '16亿元': 148,\n",
       " '行业方面': 8707,\n",
       " '上涨0': 1586,\n",
       " '53': 623,\n",
       " '家电': 4895,\n",
       " '食品饮料': 9872,\n",
       " '传媒': 2612,\n",
       " '计算机': 8819,\n",
       " '概念方面': 6886,\n",
       " '83': 915,\n",
       " '特斯拉': 7406,\n",
       " '总体来看': 5485,\n",
       " '北京时间6月20日': 3435,\n",
       " '35': 485,\n",
       " '的主题': 7613,\n",
       " '来源': 6739,\n",
       " '新华网': 6218,\n",
       " '今年3月份': 2384,\n",
       " '2015年10月': 291,\n",
       " '2011': 261,\n",
       " '2012': 264,\n",
       " '脱欧': 8474,\n",
       " '英国首相特雷莎': 8598,\n",
       " '格伦费尔塔': 6846,\n",
       " '18日': 166,\n",
       " '英国': 8593,\n",
       " '每日电讯报': 6957,\n",
       " '路透社称': 9135,\n",
       " '等口号': 8042,\n",
       " '每日镜报': 6960,\n",
       " '然而': 7345,\n",
       " '独立报': 7433,\n",
       " '17日下午': 159,\n",
       " '现在': 7492,\n",
       " '星期日泰晤士报': 6376,\n",
       " '硬脱欧': 7864,\n",
       " '计划': 8812,\n",
       " '的做法': 7621,\n",
       " '中国经济周刊': 1906,\n",
       " '北京报道': 3429,\n",
       " '责编': 9024,\n",
       " '周琦': 3966,\n",
       " 'all': 1012,\n",
       " 'in': 1184,\n",
       " '如今': 4696,\n",
       " '手机': 5751,\n",
       " '汽车': 7049,\n",
       " '金融': 9557,\n",
       " '体育': 2741,\n",
       " '当日下午': 5394,\n",
       " '分析': 3230,\n",
       " '对于': 4915,\n",
       " '的问题': 7714,\n",
       " '显然': 6422,\n",
       " '43': 544,\n",
       " '引入战略投资者': 5334,\n",
       " '41亿元': 538,\n",
       " '据媒体报道': 5938,\n",
       " '71亿元': 854,\n",
       " '从那时起': 2463,\n",
       " '的消息': 7682,\n",
       " '不仅如此': 1616,\n",
       " '此前': 6929,\n",
       " '记者表示': 8880,\n",
       " '有消息称': 6556,\n",
       " '公开资料显示': 3008,\n",
       " '5万人': 653,\n",
       " '2016年5月': 314,\n",
       " '股权': 8455,\n",
       " '72亿元': 857,\n",
       " '2016年11月': 307,\n",
       " '据中国之声': 5919,\n",
       " '新闻纵横': 6257,\n",
       " '报道': 5836,\n",
       " '一事': 1367,\n",
       " '国家战略特区': 4212,\n",
       " '朝日新闻': 6583,\n",
       " '今年1月': 2376,\n",
       " '3月': 525,\n",
       " '16日': 150,\n",
       " '说到底': 8969,\n",
       " '值得一提的是': 2867,\n",
       " 'up': 1329,\n",
       " '4分': 592,\n",
       " '哈哈哈': 4001,\n",
       " 'legion': 1215,\n",
       " '2016': 304,\n",
       " '60': 725,\n",
       " 'qq': 1282,\n",
       " '据了解': 5924,\n",
       " '机器人': 6668,\n",
       " 'gps': 1154,\n",
       " '清华大学': 7227,\n",
       " '事实上': 2206,\n",
       " '因地制宜': 4115,\n",
       " '阿里巴巴': 9670,\n",
       " '访问': 8920,\n",
       " '6月14日': 784,\n",
       " '譬如': 8811,\n",
       " '接下来': 6000,\n",
       " '第一': 8006,\n",
       " '如此': 4722,\n",
       " '第二': 8019,\n",
       " '输血': 9163,\n",
       " '造血': 9410,\n",
       " '的同时': 7638,\n",
       " '毕竟': 6984,\n",
       " '为例': 2066,\n",
       " '两大第三方电商平台': 1765,\n",
       " '仍强行通过优惠券': 2418,\n",
       " '满额返现等方式进行价格补贴': 7288,\n",
       " '并且这些补贴多数成本仍强迫我们买单': 5201,\n",
       " '远远超出了我们的承受能力': 9348,\n",
       " '当下的价格不仅远远击穿了我们的成本': 5370,\n",
       " '也导致此次电商节可能成为众多黄牛的提货节': 2161,\n",
       " '大量产品由线上串货至线下': 4579,\n",
       " '严重扰乱超级电视的价格体系': 1795,\n",
       " '乐视在声明中称': 2145,\n",
       " '为保障用户利益和保障企业的长久发展': 2068,\n",
       " '我们正积极与两大电商平台沟通': 5610,\n",
       " '对于部分疑似黄牛订单进行限制发货或取消订单': 4922,\n",
       " '电商平台强行降价': 7575,\n",
       " '已经引发恶性竞争': 5122,\n",
       " '我们看到': 5617,\n",
       " '一些企业面对成本压力': 1372,\n",
       " '甚至采用低配': 7538,\n",
       " '低质的产品参加电商节': 2720,\n",
       " '损害用户利益': 5911,\n",
       " '关于第三方电商平台强行降价的声明': 3046,\n",
       " '今年618期间': 2392,\n",
       " '超4': 9090,\n",
       " '我们认为': 5621,\n",
       " '一个靠绑架企业杀价格战': 1364,\n",
       " '是竭泽而渔': 6415,\n",
       " '杀鸡取卵的短视行为': 6683,\n",
       " '看似让用户受益的背后': 7796,\n",
       " '实际上是在损害企业利益': 4860,\n",
       " '2017年6月18日': 348,\n",
       " '而且': 8391,\n",
       " '此役': 6936,\n",
       " '在这种情况下': 4379,\n",
       " 'watch': 1337,\n",
       " '苹果在线商店': 8610,\n",
       " '中国': 1834,\n",
       " '6月8日': 836,\n",
       " '38': 496,\n",
       " '当日': 5393,\n",
       " '29': 433,\n",
       " '天猫': 4610,\n",
       " '变脸': 3748,\n",
       " '2017年一季度': 357,\n",
       " '京东': 2308,\n",
       " '供应商': 2789,\n",
       " '过去': 9172,\n",
       " '6月1日': 807,\n",
       " '6月13日': 781,\n",
       " '物流': 7391,\n",
       " 'andrew': 1018,\n",
       " '众所周知': 2586,\n",
       " '值得注意的是': 2870,\n",
       " '总体而言': 5490,\n",
       " 'ihs': 1181,\n",
       " '去年3月': 3611,\n",
       " 'vr': 1333,\n",
       " '上周': 1562,\n",
       " '微信': 5436,\n",
       " '功夫不负有心人': 3357,\n",
       " '2014年9月': 284,\n",
       " '2016年': 305,\n",
       " '2017年': 332,\n",
       " '访惠聚': 8918,\n",
       " '我想': 5650,\n",
       " '现在看来': 7495,\n",
       " '暴徒': 6454,\n",
       " '标签': 6793,\n",
       " '三股势力': 1548,\n",
       " '欺骗': 6912,\n",
       " '成为': 5543,\n",
       " '青年朋友们': 9783,\n",
       " '2015年4月': 297,\n",
       " '参加': 3630,\n",
       " '近几年': 9203,\n",
       " '这正是': 9312,\n",
       " '我相信': 5659,\n",
       " '新疆': 6239,\n",
       " '我爱你': 5657,\n",
       " '要知道': 8764,\n",
       " '起步': 9088,\n",
       " 'whole': 1339,\n",
       " 'foods': 1130,\n",
       " 'amazon': 1014,\n",
       " '例如': 2781,\n",
       " 'david': 1098,\n",
       " '指出': 5883,\n",
       " '认为': 8821,\n",
       " '他说道': 2513,\n",
       " '办法': 3356,\n",
       " '明确': 6364,\n",
       " '规定': 8778,\n",
       " '道路交通安全法': 9417,\n",
       " '刚开始': 3270,\n",
       " '随后': 9730,\n",
       " '事后': 2204,\n",
       " '5月22日': 693,\n",
       " '5月23日': 694,\n",
       " '5月24日': 695,\n",
       " '此刻': 6928,\n",
       " '3万人': 506,\n",
       " '1万人': 221,\n",
       " '6万人': 756,\n",
       " '专科': 1700,\n",
       " '高职': 9934,\n",
       " '很快': 5428,\n",
       " '令人惊讶的是': 2524,\n",
       " '记者邓文辉': 8889,\n",
       " '6月18日上午': 799,\n",
       " '亿元': 2362,\n",
       " '湖南': 7275,\n",
       " '旅游': 6270,\n",
       " '的思路': 7655,\n",
       " '文化': 6149,\n",
       " '健康': 2893,\n",
       " '2008': 253,\n",
       " '三无': 1528,\n",
       " '产品': 2297,\n",
       " '6月20日下午': 811,\n",
       " '环球网综合报道': 7486,\n",
       " '环球时报': 7473,\n",
       " '破解': 7860,\n",
       " '可以看到': 3783,\n",
       " '日前': 6306,\n",
       " '制作': 3308,\n",
       " '第三': 8014,\n",
       " '中新网6月23日电': 1984,\n",
       " '魔法门之英雄无敌': 9944,\n",
       " '战争纪元': 5677,\n",
       " '同期': 3872,\n",
       " '他表示': 2509,\n",
       " '可以说': 3785,\n",
       " '一带一路': 1401,\n",
       " '正因如此': 6918,\n",
       " '主题': 2117,\n",
       " '市场': 5148,\n",
       " '去年': 3606,\n",
       " '倡议': 2861,\n",
       " '匈牙利': 3410,\n",
       " '希腊': 5176,\n",
       " '埃及': 4423,\n",
       " '走出去': 9078,\n",
       " '丝绸之路': 1752,\n",
       " '据统计': 5972,\n",
       " 'group': 1156,\n",
       " '95': 967,\n",
       " '下一步': 1597,\n",
       " '高考': 9930,\n",
       " 'app': 1021,\n",
       " '北京': 3419,\n",
       " '理科': 7516,\n",
       " '一对一': 1397,\n",
       " '比如': 6973,\n",
       " '高考派': 9932,\n",
       " '二是': 2220,\n",
       " '高校': 9925,\n",
       " '性格': 5479,\n",
       " '互联网': 2244,\n",
       " '业内认为': 1724,\n",
       " '成都': 5571,\n",
       " '18日晚': 170,\n",
       " 'you': 1351,\n",
       " 'are': 1025,\n",
       " 'one': 1258,\n",
       " '再到': 3137,\n",
       " '福布斯': 7901,\n",
       " '70': 847,\n",
       " '功能': 3359,\n",
       " '智能家居': 6445,\n",
       " '大数据': 4559,\n",
       " '会上': 2595,\n",
       " '爆款': 7363,\n",
       " '去年12月': 3609,\n",
       " '搜索': 6047,\n",
       " '他还表示': 2517,\n",
       " '北京时间6月20日消息': 3436,\n",
       " '2014年': 277,\n",
       " 'for': 1131,\n",
       " '那一年': 9426,\n",
       " '发现': 3718,\n",
       " '共享单车': 3025,\n",
       " '这些': 9260,\n",
       " '6月13日下午': 782,\n",
       " 'go': 1151,\n",
       " '她表示': 4686,\n",
       " '她称': 4685,\n",
       " '中新网6月18日电': 1979,\n",
       " '中国石化光明号': 1896,\n",
       " '幸运的是': 5231,\n",
       " '这次': 9311,\n",
       " '5月8日': 703,\n",
       " '随着': 9738,\n",
       " '近年来': 9207,\n",
       " '十多年来': 3478,\n",
       " '4亿元': 589,\n",
       " '青海': 9785,\n",
       " '宁夏': 4778,\n",
       " '西藏': 8754,\n",
       " '记者雷恺': 8897,\n",
       " '据介绍': 5926,\n",
       " '建筑': 5295,\n",
       " '2015年': 290,\n",
       " '除此之外': 9719,\n",
       " '江苏': 7031,\n",
       " '浙江': 7133,\n",
       " '安徽': 4800,\n",
       " '福建': 7902,\n",
       " '江西': 7033,\n",
       " '山东': 5052,\n",
       " '河南': 7074,\n",
       " '后勤': 3912,\n",
       " '装备': 8740,\n",
       " 'home': 1164,\n",
       " 'google': 1152,\n",
       " '新疆日报讯': 6240,\n",
       " '其实': 3101,\n",
       " '从此': 2453,\n",
       " '今后': 2369,\n",
       " 'dao': 1096,\n",
       " '万美元': 1498,\n",
       " 'fbi': 1122,\n",
       " '15': 132,\n",
       " '最强大脑': 6495,\n",
       " '昨日上午': 6384,\n",
       " '资料图': 9055,\n",
       " '经调查': 8177,\n",
       " '至此': 8529,\n",
       " '此时': 6937,\n",
       " '中国网财经6月23日讯': 1914,\n",
       " '中国保监会副主席黄洪在国务院政策例行吹风会上表示': 1842,\n",
       " '2009年': 257,\n",
       " '国发': 4181,\n",
       " '2009': 256,\n",
       " '党中央': 2931,\n",
       " '中央': 1928,\n",
       " '也就是说': 2163,\n",
       " '这几年': 9278,\n",
       " '比如说': 6974,\n",
       " '截至发稿': 5716,\n",
       " '东旭蓝天': 1737,\n",
       " '集团': 9763,\n",
       " '截至2016年底': 5694,\n",
       " '今年一季度': 2395,\n",
       " '企业': 2573,\n",
       " '具体而言': 3122,\n",
       " '融资贵问题': 8701,\n",
       " '今年以来': 2398,\n",
       " '个百分点': 1805,\n",
       " 'vivo': 1332,\n",
       " '小米': 4979,\n",
       " '目前来看': 7746,\n",
       " '00': 0,\n",
       " '23日': 408,\n",
       " '昨天下午': 6382,\n",
       " '2017': 330,\n",
       " '300': 463,\n",
       " '发布会上': 3712,\n",
       " '他指出': 2504,\n",
       " '医疗': 3459,\n",
       " '战略布局': 5682,\n",
       " '2014': 276,\n",
       " '新华社记者': 6216,\n",
       " '透明': 9377,\n",
       " '截至目前': 5722,\n",
       " '印度尼西亚': 3564,\n",
       " '缅甸': 8255,\n",
       " '印度': 3561,\n",
       " '巴黎协定': 5143,\n",
       " '稳定': 7961,\n",
       " '负责': 9010,\n",
       " '未来': 6600,\n",
       " 'national': 1243,\n",
       " 'geographic': 1147,\n",
       " 'eric': 1112,\n",
       " 'martin': 1228,\n",
       " '夜幕降临': 4533,\n",
       " '疯狂': 7598,\n",
       " 'and': 1017,\n",
       " 'nasa': 1242,\n",
       " '机制': 6666,\n",
       " 'ice': 1175,\n",
       " 'data': 1097,\n",
       " 'of': 1254,\n",
       " '去年11月': 3608,\n",
       " 'tim': 1318,\n",
       " '飞机': 9865,\n",
       " '今年1月份': 2378,\n",
       " '2015年1月': 294,\n",
       " '纽约': 8126,\n",
       " '出品': 3215,\n",
       " '51': 619,\n",
       " '的股份': 7699,\n",
       " '吉利': 3854,\n",
       " '中新网成都6月23日电': 1992,\n",
       " '生活': 7546,\n",
       " '产业升级': 2291,\n",
       " '相关数据显示': 7766,\n",
       " '2点': 460,\n",
       " '专家分析': 1691,\n",
       " '煤炭': 7350,\n",
       " '采取': 9490,\n",
       " '技能': 5798,\n",
       " '培训': 4434,\n",
       " '等方式': 8046,\n",
       " '恒基达鑫': 5502,\n",
       " '北京时间6月16日': 3433,\n",
       " '浮生': 7139,\n",
       " '最近': 6502,\n",
       " '相关报道': 7765,\n",
       " '邱越': 9452,\n",
       " '军事专家尹卓在接受央视采访时表示': 3148,\n",
       " '小型护卫舰': 4967,\n",
       " '门槛': 9635,\n",
       " '日本经济新闻': 6316,\n",
       " '报道还指出': 5844,\n",
       " '6亿美元': 767,\n",
       " '宙斯盾': 4823,\n",
       " '在此背景下': 4340,\n",
       " '尹卓表示': 5017,\n",
       " '91': 957,\n",
       " '29亿元': 435,\n",
       " '27万元': 423,\n",
       " '34万元': 482,\n",
       " '我们知道': 5618,\n",
       " '今年': 2374,\n",
       " '真的': 7808,\n",
       " '月光': 6510,\n",
       " '聊天': 8431,\n",
       " '6月15日': 787,\n",
       " '谢谢': 9003,\n",
       " '于是': 2232,\n",
       " '面子': 9797,\n",
       " '一方面': 1421,\n",
       " '6月23日': 824,\n",
       " '简称': 8066,\n",
       " '实现了': 4847,\n",
       " 'msci': 1236,\n",
       " '2016年4月': 313,\n",
       " '业内人士表示': 1722,\n",
       " '韩国': 9806,\n",
       " '43次': 550,\n",
       " '宝能系': 4835,\n",
       " '去年5月': 3614,\n",
       " '中国经济网北京6月23日讯': 1908,\n",
       " '上海': 1574,\n",
       " '广州': 5244,\n",
       " '深圳': 7208,\n",
       " '武汉': 6945,\n",
       " '到目前为止': 3306,\n",
       " '全覆盖': 2967,\n",
       " '距离': 9121,\n",
       " '观点': 8774,\n",
       " '我们': 5588,\n",
       " '库里': 5260,\n",
       " '詹姆斯': 8798,\n",
       " '兄弟': 2908,\n",
       " '毋庸置疑': 6951,\n",
       " '87': 926,\n",
       " '54': 627,\n",
       " '09': 46,\n",
       " '16': 143,\n",
       " '13': 108,\n",
       " 'qdii': 1279,\n",
       " '人民币': 2337,\n",
       " '63': 734,\n",
       " '美元': 8325,\n",
       " 'fof': 1129,\n",
       " '85': 921,\n",
       " '62': 731,\n",
       " '子女入学': 4749,\n",
       " '这是': 9287,\n",
       " '创新发展': 3284,\n",
       " '聚焦': 8444,\n",
       " '松绑': 6757,\n",
       " '培养': 4431,\n",
       " '效应': 6115,\n",
       " '有关情况': 6529,\n",
       " '黄洪表示': 9961,\n",
       " '从目前来看': 2457,\n",
       " '07元': 42,\n",
       " '轨道': 9147,\n",
       " '物业': 7388,\n",
       " '模式': 6893,\n",
       " '专车': 1702,\n",
       " '顺风车': 9835,\n",
       " '公交': 2975,\n",
       " '被誉为': 8735,\n",
       " '绿色': 8249,\n",
       " '当年': 5390,\n",
       " '掌门人': 5993,\n",
       " '中新社记者': 1972,\n",
       " '被称为': 8733,\n",
       " '2013年': 269,\n",
       " '专栏': 1699,\n",
       " '消息称': 7166,\n",
       " '去年夏天': 3620,\n",
       " '本赛季': 6650,\n",
       " '2015': 289,\n",
       " '连日来': 9352,\n",
       " '勇于担当': 3394,\n",
       " '面对': 9798,\n",
       " '卡塔尔': 3546,\n",
       " '穆罕默德': 7964,\n",
       " '巴林': 5135,\n",
       " '沙特阿拉伯': 7055,\n",
       " '并表示': 5222,\n",
       " '据法新社报道': 5962,\n",
       " '阿联酋': 9667,\n",
       " '经济日报': 8163,\n",
       " '房屋': 5731,\n",
       " '扶贫': 5784,\n",
       " '一国两制': 1390,\n",
       " '梁振英': 6857,\n",
       " '基本法': 4440,\n",
       " '落实': 8659,\n",
       " '1990年': 197,\n",
       " '回归20年来': 4095,\n",
       " '香港': 9888,\n",
       " '不变': 1632,\n",
       " '的原因': 7632,\n",
       " '一是': 1426,\n",
       " '过程中': 9182,\n",
       " '通过': 9396,\n",
       " '参与': 3626,\n",
       " '建设': 5301,\n",
       " '的地方': 7640,\n",
       " '一国': 1389,\n",
       " '两制': 1763,\n",
       " '之便': 2128,\n",
       " '的双重优势': 7633,\n",
       " '超级联系人': 9095,\n",
       " '最近几年': 6504,\n",
       " '做到': 2881,\n",
       " '国家所需': 4213,\n",
       " '香港所长': 9890,\n",
       " '英语': 8604,\n",
       " '5年来': 687,\n",
       " '根据数据': 6830,\n",
       " '金融服务': 9565,\n",
       " '珠三角': 7510,\n",
       " '当时': 5395,\n",
       " '并船出海': 5221,\n",
       " '建设中': 5302,\n",
       " '码头': 7846,\n",
       " '公路': 3018,\n",
       " '总之': 5482,\n",
       " '如果一切顺利': 4702,\n",
       " '最后一公里': 6488,\n",
       " 'id': 1177,\n",
       " '通讯员': 9393,\n",
       " '有一次': 6515,\n",
       " '做游戏': 2888,\n",
       " '02': 13,\n",
       " '彼时': 5416,\n",
       " '渐渐地': 7240,\n",
       " '老师': 8371,\n",
       " '再见': 3147,\n",
       " '就是': 4999,\n",
       " '随着时间的推移': 9742,\n",
       " '03': 21,\n",
       " '有人认为': 6525,\n",
       " '她说': 4688,\n",
       " '参考消息网': 3633,\n",
       " '华尔街日报': 3506,\n",
       " '6月19日': 802,\n",
       " '21日': 390,\n",
       " '连接世界': 9351,\n",
       " 'gateway': 1140,\n",
       " '6月20日': 809,\n",
       " '交通': 2284,\n",
       " '1亿元': 228,\n",
       " '的美誉': 7698,\n",
       " '5万吨': 658,\n",
       " '6月16日': 791,\n",
       " '组合拳': 8130,\n",
       " '活动': 7125,\n",
       " '中新网重庆6月23日电': 1999,\n",
       " '以下简称': 2529,\n",
       " '牵手': 7394,\n",
       " '大连': 4572,\n",
       " '2011年': 262,\n",
       " '双创': 3667,\n",
       " '孵化器': 4776,\n",
       " '辽宁': 9168,\n",
       " '6月': 775,\n",
       " '老爸': 8377,\n",
       " '否则': 3932,\n",
       " '老大难': 8370,\n",
       " '曾几何时': 6477,\n",
       " '清晨': 7229,\n",
       " '截图': 5683,\n",
       " '好吧': 4693,\n",
       " '或者': 5673,\n",
       " '6月17日': 796,\n",
       " '德国': 5451,\n",
       " '这就意味着': 9281,\n",
       " '孤城': 4763,\n",
       " '成长': 5581,\n",
       " '我们拭目以待': 5607,\n",
       " '发动机': 3697,\n",
       " '运动': 9186,\n",
       " '40': 531,\n",
       " '环球网报道': 7484,\n",
       " '实习记者': 4839,\n",
       " 'road': 1284,\n",
       " '造成多人受伤': 9408,\n",
       " '伦敦医疗救护部门称他们已经向现场派出大批人员进行救援': 2620,\n",
       " '跨界歌王': 9127,\n",
       " '王珞丹': 7453,\n",
       " '最终': 6498,\n",
       " '歌剧魅影': 6913,\n",
       " '陈赫': 9685,\n",
       " '6月24日': 826,\n",
       " '来吧兄弟团': 6735,\n",
       " '大哥': 4547,\n",
       " '作为': 2756,\n",
       " '家长': 4898,\n",
       " '挑衅': 5904,\n",
       " '形象': 5406,\n",
       " '18日报道称': 169,\n",
       " '截至记者发稿时': 5723,\n",
       " '有分析认为': 6531,\n",
       " '从2014年起': 2423,\n",
       " '法国': 7085,\n",
       " '在此基础上': 4337,\n",
       " '实习编译': 4837,\n",
       " '审稿': 4873,\n",
       " '赵怡蓁': 9084,\n",
       " '旅途的花样': 6273,\n",
       " '花样团': 8570,\n",
       " '吃货': 3835,\n",
       " '担当': 5850,\n",
       " '亮相': 2320,\n",
       " '黑飞': 9981,\n",
       " '问题': 9641,\n",
       " '5月16日': 690,\n",
       " '下称': 1604,\n",
       " '何为': 2745,\n",
       " '的规定': 7705,\n",
       " '公开数据显示': 3007,\n",
       " '从2013年开始': 2422,\n",
       " '生产和销售': 7541,\n",
       " '100': 54,\n",
       " '2017年以来': 359,\n",
       " '草案': 8612,\n",
       " '紧箍咒': 8099,\n",
       " '高效': 9919,\n",
       " '5月': 688,\n",
       " '一刀切': 1380,\n",
       " '监管': 7727,\n",
       " '6月18日': 798,\n",
       " '中邪': 2043,\n",
       " '电影': 7584,\n",
       " '凤凰体育讯': 3198,\n",
       " '赛后': 9073,\n",
       " '上半场': 1560,\n",
       " '是的': 6414,\n",
       " '本场比赛': 6615,\n",
       " '多年来': 4524,\n",
       " 'colleen': 1083,\n",
       " '新零售': 6260,\n",
       " '唯品会': 4024,\n",
       " '甚至': 7534,\n",
       " '紧接着': 8097,\n",
       " '二选一': 2231,\n",
       " '多年以来': 4523,\n",
       " '从去年开始': 2441,\n",
       " '但即便如此': 2645,\n",
       " '无人机': 6283,\n",
       " '之前': 2129,\n",
       " '的关系': 7623,\n",
       " '星期五': 6375,\n",
       " '举行': 2121,\n",
       " 'mike': 1231,\n",
       " '全新': 2960,\n",
       " '导演': 4950,\n",
       " '近年': 9206,\n",
       " '经验丰富': 8185,\n",
       " '为此': 2085,\n",
       " '000': 1,\n",
       " '演员': 7294,\n",
       " '新技术': 6229,\n",
       " ...}"
      ]
     },
     "execution_count": 75,
     "metadata": {},
     "output_type": "execute_result"
    }
   ],
   "source": [
    "vectorized.vocabulary_"
   ]
  },
  {
   "cell_type": "code",
   "execution_count": 76,
   "metadata": {
    "collapsed": true
   },
   "outputs": [],
   "source": [
    "import random "
   ]
  },
  {
   "cell_type": "code",
   "execution_count": 77,
   "metadata": {
    "collapsed": true
   },
   "outputs": [],
   "source": [
    "document_id_1, document_id_2 = random.randint(0, 1000), random.randint(0, 1000)"
   ]
  },
  {
   "cell_type": "code",
   "execution_count": 78,
   "metadata": {},
   "outputs": [
    {
     "data": {
      "text/plain": [
       "370"
      ]
     },
     "execution_count": 78,
     "metadata": {},
     "output_type": "execute_result"
    }
   ],
   "source": [
    "document_id_1"
   ]
  },
  {
   "cell_type": "code",
   "execution_count": 79,
   "metadata": {},
   "outputs": [
    {
     "data": {
      "text/plain": [
       "144"
      ]
     },
     "execution_count": 79,
     "metadata": {},
     "output_type": "execute_result"
    }
   ],
   "source": [
    "document_id_2"
   ]
  },
  {
   "cell_type": "code",
   "execution_count": 80,
   "metadata": {},
   "outputs": [
    {
     "data": {
      "text/plain": [
       "'有人在朋友圈晒图表示“来公司加班一脸懵逼，据说全是凌晨抢不到准备来公司抢的”。\\r\\n照片中，一群女孩正在美图公司排队，从大厅一直拍到了门外，相当有人气。\\r\\n不过这帮女孩子的着装也引起网友的好奇：穿cos服要加钱吗？穿成这样属性有加成吗？\\r\\n据悉，美图M8美少女战士限量版是美图手机首次基于知名动漫IP美少女战士定制，不仅在产品包装、手机后盖、配件等外部融入美少女战士元素进行专属外观设计，更拥有专属UI主题和定制的配件组合。\\r\\n'"
      ]
     },
     "execution_count": 80,
     "metadata": {},
     "output_type": "execute_result"
    }
   ],
   "source": [
    "news_content[document_id_1]"
   ]
  },
  {
   "cell_type": "code",
   "execution_count": 81,
   "metadata": {},
   "outputs": [
    {
     "data": {
      "text/plain": [
       "'卡佩罗空降中超，这让饱受足协新规摧残的中国足坛再次热闹起来，关于这名71岁的老人时隔2年后再出山，中国足坛分隔成了两大派，一派就是支持者，这名冠军收割机教练，苏宁给他时间定能看到冠军，一派是反对者，执教末期赚最后的一笔大合同。\\r\\n对于卡佩罗来说，这个时候来到江苏苏宁显然不是最好的时机，因为新规的出炉让他几乎无法享受他以往在尤文、皇马时期的金元投入，而且他也没有带过苏宁这样的保级球队，目前手上能用的将士除了三大外援，苏宁的本土球员就是矮子里挑将军凑合着用，这对于卡佩罗来说是极大的挑战。\\r\\n在卡佩罗上任的新闻发布会上，卡佩罗直言首要任务就是带领江苏苏宁从降级区里走出来，然后再考虑其他的事情，纵使见过大风大浪的卡佩罗也是明显感受到如今的艰难，这个保级任务非常艰巨。因为卡佩罗口中的保级目标，将面对太多内忧外患的东西，比如接下来的比赛里，江苏苏宁将迎来一波魔鬼赛程。\\r\\n本周末联赛江苏苏宁将在主场迎战长春亚泰，本场比赛后下周将是一周双赛，周中足协杯对阵河南建业，随后中超联赛上半程最后两场比赛是对阵国安和上港，对于江苏苏宁来说，是极具考验的两场比赛，能否跨过对手直接决定着球队的保级命运！\\r\\n当然，过了上港这场比赛后，联赛下半程第一场比赛是对阵新赛季首秀给了苏宁一场耻辱4：0的上海申花，就此苏宁也将结束魔鬼赛程。一周双赛、国安、上港、申花这样的魔鬼赛程，对于江苏苏宁来说极具考验，好在球队只有一个客场之战，其他比赛里都是主场。但是让人担忧的是苏宁在自己的主场6场比赛除了拿下鲁能，其他5场比赛没有一场胜利。\\r\\n除了这波魔鬼赛程之外，球队还有一个内在因素需要卡佩罗团队去提升的，那就是球队的防守问题，如今联赛12轮过后江苏苏宁已经丢掉了22个球了，联赛丢球榜上排名倒数第二，仅仅比辽宁开新的23球少1球，但是排位跟对手差了太多。好在卡佩罗的球队从来都是防守坚韧的球队，江苏苏宁会成为下一支吗？\\r\\n曾经的金牌教头卡佩罗执掌江苏苏宁，他本周末中超处子秀势必会引来极大关注，而且此战还是卡佩罗的生日，到底是换帅如换刀还是烂泥扶不上墙了？我们拭目以待，而江苏苏宁要保级，也是一条漫长的道路，魔鬼赛程、豆腐渣防守，这都考验着卡佩罗。\\r\\n'"
      ]
     },
     "execution_count": 81,
     "metadata": {},
     "output_type": "execute_result"
    }
   ],
   "source": [
    "news_content[document_id_2]"
   ]
  },
  {
   "cell_type": "code",
   "execution_count": 82,
   "metadata": {
    "collapsed": true
   },
   "outputs": [],
   "source": [
    "vector_of_d_1 = X[document_id_1].toarray()[0]"
   ]
  },
  {
   "cell_type": "code",
   "execution_count": 83,
   "metadata": {},
   "outputs": [
    {
     "data": {
      "text/plain": [
       "array([ 0.,  0.,  0., ...,  0.,  0.,  0.])"
      ]
     },
     "execution_count": 83,
     "metadata": {},
     "output_type": "execute_result"
    }
   ],
   "source": [
    "vector_of_d_1"
   ]
  },
  {
   "cell_type": "code",
   "execution_count": 84,
   "metadata": {},
   "outputs": [
    {
     "data": {
      "text/plain": [
       "(array([5945, 7352], dtype=int64),)"
      ]
     },
     "execution_count": 84,
     "metadata": {},
     "output_type": "execute_result"
    }
   ],
   "source": [
    "np.where(vector_of_d_1)"
   ]
  },
  {
   "cell_type": "code",
   "execution_count": 85,
   "metadata": {},
   "outputs": [
    {
     "data": {
      "text/plain": [
       "'\\u3000\\u3000王瑞连指出，省委决定开展大研讨大行动活动，着力推动党员干部思想大解放，进一步革除影响海南发展的思想障碍、体制机制性障碍，推动海南新一轮改革、开放和发展，彰显了省委领导班子贯彻落实习近平总书记系列重要讲话精神和治国理政新理念新思想新战略的政治自觉和行动自觉，也体现了省委落实中央关于海南国际旅游岛建设发展战略的坚定决心。\\r\\n\\u3000\\u3000王瑞连强调，全省组织系统和广大组工干部要认真学习习近平总书记2013年视察海南时的重要讲话，把握精神实质，进一步解放思想、担当作为；要以习近平总书记系列重要讲话精神为引领，将活动十个方面的重点内容，与推进“两学一做”学习教育常态化制度化、贯彻落实省第七次党代会精神、刘赐贵书记关于组织工作十个方面要求紧密结合起来，不断提高组织工作科学化水平。省委组织部要紧扣活动第九、第十条内容，由部领导分别带领四个调研组开展调查研究，认真查找组织工作方面存在的影响海南发展的思想、体制、机制等深层次的突出问题，明确改进工作的方向。机关党委要制定周密的活动方案，引导部机关干部人人参与，进一步解放思想，大胆提出创新性意见建议。要通过这次活动，形成一批相对成熟的研讨成果，推出一批重大改革发展的新举措，为推进海南新一轮大改革、大开放、大发展，加快建设美好新海南，提供坚强的组织和人才保障。\\r\\n'"
      ]
     },
     "execution_count": 85,
     "metadata": {},
     "output_type": "execute_result"
    }
   ],
   "source": [
    "news_content[7691]"
   ]
  },
  {
   "cell_type": "code",
   "execution_count": null,
   "metadata": {
    "collapsed": true
   },
   "outputs": [],
   "source": []
  },
  {
   "cell_type": "code",
   "execution_count": null,
   "metadata": {
    "collapsed": true
   },
   "outputs": [],
   "source": []
  },
  {
   "cell_type": "code",
   "execution_count": 87,
   "metadata": {
    "collapsed": true
   },
   "outputs": [],
   "source": [
    "vector_of_d_2 = X[document_id_2].toarray()[0]"
   ]
  },
  {
   "cell_type": "code",
   "execution_count": 88,
   "metadata": {
    "collapsed": true
   },
   "outputs": [],
   "source": [
    "random_choose = random.randint(0, 1000)"
   ]
  },
  {
   "cell_type": "code",
   "execution_count": 89,
   "metadata": {},
   "outputs": [
    {
     "data": {
      "text/plain": [
       "480"
      ]
     },
     "execution_count": 89,
     "metadata": {},
     "output_type": "execute_result"
    }
   ],
   "source": [
    "random_choose"
   ]
  },
  {
   "cell_type": "code",
   "execution_count": 91,
   "metadata": {},
   "outputs": [
    {
     "data": {
      "text/plain": [
       "'文视频/ 林国振\\r\\n客户输入提货码打开配送机器人的货仓，取走了自己的包裹。\\r\\n有人当心无人车会不会碰到行人呢？不用担心，机器人宝宝配送过程中，无人车顶的激光感应系统会自动检测前方行人车辆，靠近三米左右会自动停车。遇到障碍物会自动避障，可攀登25度的上坡。而且无人车有基本的防水功能，不用担心下雨，也不用担心没电，低电量时，车子会自动返回。\\r\\n配送机器人所具备的高负荷、全天候工作、智能等优点，将为物流行业的“最后一公里”带去全新的解决方案。无人配送车充一次电可以行驶80公里，一天可在园区内配送50趟，相当于一位配送员的工作量。目前无人配送车的车速最快可达20公里/小时，但考虑到路面复杂程度一般设定在5公里时速。\\r\\n据现场人员了解，除了中国人民大学之外，首批京东配送机器人已经投入到清华大学、浙江大学、长安大学等著名高校内执行配送任务。目前，京东在全国设有1300个配送站点京东派，未来这些京东派的站点可能会陆续成为京东配送机器人的基地，让更多的高校师生享受到京东机器人提供的配送服务。\\r\\n京东无人车的体验到底如何呢，有了它快递员要失业了？送快递真的方便吗，快戳视频看看吧～～\\r\\n'"
      ]
     },
     "execution_count": 91,
     "metadata": {},
     "output_type": "execute_result"
    }
   ],
   "source": [
    "news_content[random_choose]"
   ]
  },
  {
   "cell_type": "code",
   "execution_count": 92,
   "metadata": {
    "collapsed": true
   },
   "outputs": [],
   "source": [
    "from scipy.spatial.distance import cosine"
   ]
  },
  {
   "cell_type": "code",
   "execution_count": 93,
   "metadata": {
    "collapsed": true
   },
   "outputs": [],
   "source": [
    "def distance(v1, v2): return cosine(v1, v2)"
   ]
  },
  {
   "cell_type": "code",
   "execution_count": 94,
   "metadata": {},
   "outputs": [
    {
     "data": {
      "text/plain": [
       "2.2204460492503131e-16"
      ]
     },
     "execution_count": 94,
     "metadata": {},
     "output_type": "execute_result"
    }
   ],
   "source": [
    "distance([1, 1], [2, 2])"
   ]
  },
  {
   "cell_type": "code",
   "execution_count": 95,
   "metadata": {},
   "outputs": [
    {
     "data": {
      "text/plain": [
       "1.0"
      ]
     },
     "execution_count": 95,
     "metadata": {},
     "output_type": "execute_result"
    }
   ],
   "source": [
    "distance(X[random_choose].toarray()[0], X[document_id_1].toarray()[0])"
   ]
  },
  {
   "cell_type": "code",
   "execution_count": 96,
   "metadata": {},
   "outputs": [
    {
     "data": {
      "text/plain": [
       "1.0"
      ]
     },
     "execution_count": 96,
     "metadata": {},
     "output_type": "execute_result"
    }
   ],
   "source": [
    "distance(X[random_choose].toarray()[0], X[document_id_2].toarray()[0])"
   ]
  },
  {
   "cell_type": "code",
   "execution_count": 97,
   "metadata": {},
   "outputs": [
    {
     "data": {
      "text/plain": [
       "'中国经济网香港6月23日讯(记者\\u3000赵晗)22日，记者跟随“香江二十年\\u3000粤港共辉煌”香港回归20周年网络媒体采访团，到访广深港高速铁路(香港段)及港珠澳大桥香港接线施工现场。据记者了解到的两项工程最新进展，广深港高铁香港段主体工程目前已完成93%，港珠澳大桥香港接线旅检大楼屋顶主要部分已吊装成功。粤港铁路、公路交通体系积厚成势，距离两岸通途的目标更近一步。\\r\\n点击图片进入下一页\\r\\n正在建设中的广深港高铁柯士甸车站\\u3000中国经济网记者赵晗/摄\\r\\n铁路：广深港形成一小时生活圈\\r\\n香港路政署铁路拓展处处长陈派明告诉中国经济网记者，广深港高铁香港段长约26公里，预计将在2018年第三季度完工并投入服务。届时，来往深圳至香港的铁路用时将由现在最快45分钟缩短至14分钟，来往广州至香港也仅需48分钟。此外，在深圳北站可以接驳杭福深客运专线，在另一个枢纽站广州南站可以接驳武广高铁。广深港高铁的建成，将进一步促进香港和内地融合。\\r\\n点击图片进入下一页\\r\\n港珠澳大桥香港口岸旅检大楼建造工程\\u3000中国经济网记者赵晗/摄\\r\\n公路：“立体切换”小细节体现大智慧\\r\\n在港珠澳大桥香港口岸人工岛填海工程现场，工程管理处处长李伟彬向中国经济网记者提到了一个设计小细节：考虑到香港和内地的行车习惯不同，车辆从港珠澳大桥香港口岸进入后，“右向左路的模式将通过立体交换设计，自动转换成左向右路”。他介绍，港珠澳大桥香港口岸人工岛填海造地约150公顷，工程基本已大致完成。旅检大楼作为香港口岸上最大型的建筑物，屋顶长310米，宽192米，“面积差不多有9个足球场那么大”，目前主要部分已吊装成功。\\r\\n'"
      ]
     },
     "execution_count": 97,
     "metadata": {},
     "output_type": "execute_result"
    }
   ],
   "source": [
    "news_content[386]"
   ]
  },
  {
   "cell_type": "code",
   "execution_count": 98,
   "metadata": {},
   "outputs": [
    {
     "data": {
      "text/plain": [
       "'中新网成都6月23日电 (记者 段正阳)23日，四川省总工会、四川省邮政公司、邮储银行四川省分行工会普惠性服务工作合作框架协议签约仪式在成都举行。\\r\\n四川省总工会党组成员、副主席任远明，四川省邮政公司党组成员、副总经理万立，四川邮储银行省分行副行长邹青春分别代表省总工会、省邮政公司、邮储银行省分行签订合作框架协议。\\r\\n点击图片进入下一页\\r\\n签约仪式现场。\\u3000段正阳 摄\\r\\n据了解，此次三方合作具体内容包括以下几个方面：\\r\\n\\u3000\\u3000发放工会会员服务卡\\r\\n工会会员服务卡是工会实施实名制会籍管理和普惠性服务的重要载体，具有会员身份识别、工会自身服务及金融、生活、社会等服务功能。\\r\\n'"
      ]
     },
     "execution_count": 98,
     "metadata": {},
     "output_type": "execute_result"
    }
   ],
   "source": [
    "news_content[99]"
   ]
  },
  {
   "cell_type": "code",
   "execution_count": 99,
   "metadata": {},
   "outputs": [
    {
     "data": {
      "text/plain": [
       "'\\u3000\\u30006月21日，A股纳入MSCI指数尘埃落定，但当天被寄予厚望的券商股并未扛起反弹大旗。22日，在222只纳入MSCI指数的A股股票中，银行股全线飘红，其中招商银行领涨，涨幅达6.66%。保险股和券商股的表现也可圈可点。在这222只股票中，金融板块的股票数量和总市值占比均位居首位。分析人士指出，银行股股息率高、估值低、收益稳定，对于资金量较大、投资期限较长的资金存在相当大的吸引力。从国际经验来看，纳入MSCI指数后，相关股市的投资者风格将更加稳健，更加偏好业绩稳定、流动性好、风险低的优质蓝筹股。\\r\\n\\u3000\\u3000银行股具估值优势\\r\\n\\u3000\\u30006月22日，A股金融股表现强势，板块涨幅达1.19%。据平安证券统计，在222只纳入MSCI指数的A股股票中，金融板块市值占比达41.32%，其中银行、证券和保险子板块的市值占比分别为27.30%、7.75%和6.24%。\\r\\n\\u3000\\u3000多家券商研究报告认为，银行等金融股受到纳入MSCI指数的提振，未来更多境外资金将进入金融股。\\r\\n\\u3000\\u3000华泰证券表示，在纳入MSCI指数之后，A股将迎来约850亿元人民币的增量资金。其中，考虑到222只股票中，金融股市值占比约42%，并且金融股体量大、流动性强、估值低，符合境外资金偏好，有望迎来超过权重的资金比例。预计金融股有望吸引增量资金约350亿元人民币。\\r\\n\\u3000\\u3000新富资本证券投资中心研究总监廖云龙认为，银行股脱颖而出的主要原因是低估值。市场预期银行股基本面改善，同时市场整体风格偏保守，偏爱低估值。22日银行股的大涨是市场风格的延续，是投资者对龙头股和对低估值的防御性选择。\\r\\n\\u3000\\u3000东方财富choice统计的一季度末QFII重仓股数据显示，银行股是QFII关注的重点之一。在前五十大重仓股中，北京银行、南京银行、宁波银行、上海银行榜上有名。\\r\\n'"
      ]
     },
     "execution_count": 99,
     "metadata": {},
     "output_type": "execute_result"
    }
   ],
   "source": [
    "news_content[9]"
   ]
  },
  {
   "cell_type": "code",
   "execution_count": 100,
   "metadata": {},
   "outputs": [
    {
     "data": {
      "text/plain": [
       "'此外，自本周（6月12日）起，除小米手机6等15款机型外，其余机型已暂停更新发布（含开发版/体验版内测，稳定版暂不受影响），以确保工程师可以集中全部精力进行系统优化工作。有人猜测这也是将精力主要用到MIUI 9的研发之中。\\r\\nMIUI 8去年5月发布，距今已有一年有余，也是时候更新换代了。\\r\\n当然，关于MIUI 9的确切信息，我们还是等待官方消息。\\r\\n'"
      ]
     },
     "execution_count": 100,
     "metadata": {},
     "output_type": "execute_result"
    }
   ],
   "source": [
    "news_content[0]"
   ]
  },
  {
   "cell_type": "code",
   "execution_count": 101,
   "metadata": {},
   "outputs": [
    {
     "name": "stderr",
     "output_type": "stream",
     "text": [
      "D:\\tobeabetterman\\tools\\anaconda3\\lib\\site-packages\\scipy\\spatial\\distance.py:505: RuntimeWarning: invalid value encountered in double_scalars\n",
      "  dist = 1.0 - np.dot(u, v) / (norm(u) * norm(v))\n"
     ]
    },
    {
     "data": {
      "text/plain": [
       "[232,\n",
       " 34,\n",
       " 85,\n",
       " 0,\n",
       " 1,\n",
       " 2,\n",
       " 3,\n",
       " 26,\n",
       " 4,\n",
       " 8,\n",
       " 5,\n",
       " 6,\n",
       " 7,\n",
       " 9,\n",
       " 10,\n",
       " 11,\n",
       " 12,\n",
       " 13,\n",
       " 14,\n",
       " 15,\n",
       " 16,\n",
       " 17,\n",
       " 18,\n",
       " 19,\n",
       " 20,\n",
       " 21,\n",
       " 22,\n",
       " 23,\n",
       " 24,\n",
       " 25,\n",
       " 27,\n",
       " 28,\n",
       " 29,\n",
       " 30,\n",
       " 31,\n",
       " 32,\n",
       " 33,\n",
       " 35,\n",
       " 36,\n",
       " 37,\n",
       " 38,\n",
       " 39,\n",
       " 56,\n",
       " 61,\n",
       " 55,\n",
       " 65,\n",
       " 40,\n",
       " 41,\n",
       " 42,\n",
       " 43,\n",
       " 44,\n",
       " 45,\n",
       " 46,\n",
       " 47,\n",
       " 48,\n",
       " 49,\n",
       " 50,\n",
       " 51,\n",
       " 71,\n",
       " 52,\n",
       " 53,\n",
       " 54,\n",
       " 57,\n",
       " 58,\n",
       " 59,\n",
       " 60,\n",
       " 62,\n",
       " 63,\n",
       " 64,\n",
       " 66,\n",
       " 67,\n",
       " 68,\n",
       " 69,\n",
       " 70,\n",
       " 72,\n",
       " 73,\n",
       " 74,\n",
       " 75,\n",
       " 114,\n",
       " 76,\n",
       " 77,\n",
       " 78,\n",
       " 79,\n",
       " 80,\n",
       " 81,\n",
       " 82,\n",
       " 83,\n",
       " 84,\n",
       " 86,\n",
       " 87,\n",
       " 94,\n",
       " 88,\n",
       " 89,\n",
       " 90,\n",
       " 91,\n",
       " 92,\n",
       " 93,\n",
       " 95,\n",
       " 96,\n",
       " 97,\n",
       " 98,\n",
       " 99,\n",
       " 100,\n",
       " 101,\n",
       " 102,\n",
       " 103,\n",
       " 244,\n",
       " 129,\n",
       " 267,\n",
       " 183,\n",
       " 150,\n",
       " 157,\n",
       " 167,\n",
       " 191,\n",
       " 189,\n",
       " 168,\n",
       " 127,\n",
       " 104,\n",
       " 105,\n",
       " 106,\n",
       " 107,\n",
       " 108,\n",
       " 109,\n",
       " 110,\n",
       " 111,\n",
       " 112,\n",
       " 113,\n",
       " 115,\n",
       " 116,\n",
       " 117,\n",
       " 118,\n",
       " 119,\n",
       " 120,\n",
       " 121,\n",
       " 122,\n",
       " 123,\n",
       " 124,\n",
       " 125,\n",
       " 126,\n",
       " 128,\n",
       " 130,\n",
       " 131,\n",
       " 132,\n",
       " 133,\n",
       " 134,\n",
       " 135,\n",
       " 136,\n",
       " 137,\n",
       " 138,\n",
       " 139,\n",
       " 140,\n",
       " 141,\n",
       " 142,\n",
       " 143,\n",
       " 144,\n",
       " 145,\n",
       " 146,\n",
       " 147,\n",
       " 148,\n",
       " 149,\n",
       " 151,\n",
       " 152,\n",
       " 153,\n",
       " 154,\n",
       " 155,\n",
       " 156,\n",
       " 158,\n",
       " 159,\n",
       " 160,\n",
       " 161,\n",
       " 162,\n",
       " 163,\n",
       " 164,\n",
       " 165,\n",
       " 166,\n",
       " 169,\n",
       " 170,\n",
       " 171,\n",
       " 172,\n",
       " 173,\n",
       " 174,\n",
       " 175,\n",
       " 176,\n",
       " 177,\n",
       " 178,\n",
       " 179,\n",
       " 180,\n",
       " 181,\n",
       " 182,\n",
       " 184,\n",
       " 185,\n",
       " 186,\n",
       " 187,\n",
       " 188,\n",
       " 190,\n",
       " 192,\n",
       " 193,\n",
       " 209,\n",
       " 233,\n",
       " 205,\n",
       " 236,\n",
       " 194,\n",
       " 195,\n",
       " 196,\n",
       " 197,\n",
       " 198,\n",
       " 199,\n",
       " 200,\n",
       " 201,\n",
       " 202,\n",
       " 203,\n",
       " 204,\n",
       " 206,\n",
       " 207,\n",
       " 208,\n",
       " 210,\n",
       " 211,\n",
       " 212,\n",
       " 213,\n",
       " 214,\n",
       " 215,\n",
       " 216,\n",
       " 217,\n",
       " 218,\n",
       " 219,\n",
       " 220,\n",
       " 221,\n",
       " 222,\n",
       " 223,\n",
       " 224,\n",
       " 225,\n",
       " 226,\n",
       " 227,\n",
       " 228,\n",
       " 229,\n",
       " 230,\n",
       " 231,\n",
       " 234,\n",
       " 235,\n",
       " 237,\n",
       " 238,\n",
       " 239,\n",
       " 240,\n",
       " 241,\n",
       " 242,\n",
       " 243,\n",
       " 245,\n",
       " 246,\n",
       " 247,\n",
       " 248,\n",
       " 249,\n",
       " 250,\n",
       " 251,\n",
       " 252,\n",
       " 253,\n",
       " 254,\n",
       " 255,\n",
       " 256,\n",
       " 257,\n",
       " 258,\n",
       " 259,\n",
       " 260,\n",
       " 261,\n",
       " 262,\n",
       " 263,\n",
       " 264,\n",
       " 265,\n",
       " 266,\n",
       " 268,\n",
       " 269,\n",
       " 270,\n",
       " 271,\n",
       " 272,\n",
       " 273,\n",
       " 274,\n",
       " 275,\n",
       " 276,\n",
       " 277,\n",
       " 278,\n",
       " 279,\n",
       " 379,\n",
       " 334,\n",
       " 391,\n",
       " 381,\n",
       " 332,\n",
       " 320,\n",
       " 382,\n",
       " 343,\n",
       " 321,\n",
       " 322,\n",
       " 323,\n",
       " 324,\n",
       " 325,\n",
       " 326,\n",
       " 327,\n",
       " 328,\n",
       " 329,\n",
       " 330,\n",
       " 331,\n",
       " 333,\n",
       " 335,\n",
       " 336,\n",
       " 337,\n",
       " 338,\n",
       " 339,\n",
       " 340,\n",
       " 341,\n",
       " 342,\n",
       " 344,\n",
       " 345,\n",
       " 346,\n",
       " 347,\n",
       " 348,\n",
       " 349,\n",
       " 350,\n",
       " 351,\n",
       " 352,\n",
       " 353,\n",
       " 354,\n",
       " 355,\n",
       " 356,\n",
       " 357,\n",
       " 358,\n",
       " 359,\n",
       " 360,\n",
       " 361,\n",
       " 362,\n",
       " 363,\n",
       " 364,\n",
       " 365,\n",
       " 366,\n",
       " 367,\n",
       " 368,\n",
       " 369,\n",
       " 370,\n",
       " 371,\n",
       " 372,\n",
       " 373,\n",
       " 461,\n",
       " 425,\n",
       " 309,\n",
       " 476,\n",
       " 405,\n",
       " 300,\n",
       " 457,\n",
       " 460,\n",
       " 318,\n",
       " 442,\n",
       " 477,\n",
       " 414,\n",
       " 456,\n",
       " 464,\n",
       " 444,\n",
       " 479,\n",
       " 436,\n",
       " 303,\n",
       " 415,\n",
       " 280,\n",
       " 281,\n",
       " 282,\n",
       " 283,\n",
       " 284,\n",
       " 285,\n",
       " 286,\n",
       " 287,\n",
       " 288,\n",
       " 289,\n",
       " 290,\n",
       " 291,\n",
       " 292,\n",
       " 293,\n",
       " 294,\n",
       " 295,\n",
       " 296,\n",
       " 297,\n",
       " 298,\n",
       " 299,\n",
       " 301,\n",
       " 302,\n",
       " 304,\n",
       " 305,\n",
       " 306,\n",
       " 307,\n",
       " 308,\n",
       " 310,\n",
       " 311,\n",
       " 312,\n",
       " 313,\n",
       " 314,\n",
       " 315,\n",
       " 316,\n",
       " 317,\n",
       " 319,\n",
       " 374,\n",
       " 375,\n",
       " 376,\n",
       " 377,\n",
       " 378,\n",
       " 380,\n",
       " 383,\n",
       " 384,\n",
       " 385,\n",
       " 386,\n",
       " 387,\n",
       " 388,\n",
       " 389,\n",
       " 390,\n",
       " 392,\n",
       " 393,\n",
       " 394,\n",
       " 395,\n",
       " 396,\n",
       " 397,\n",
       " 398,\n",
       " 399,\n",
       " 400,\n",
       " 401,\n",
       " 402,\n",
       " 403,\n",
       " 404,\n",
       " 406,\n",
       " 407,\n",
       " 408,\n",
       " 409,\n",
       " 410,\n",
       " 411,\n",
       " 412,\n",
       " 413,\n",
       " 416,\n",
       " 417,\n",
       " 418,\n",
       " 419,\n",
       " 420,\n",
       " 421,\n",
       " 422,\n",
       " 423,\n",
       " 424,\n",
       " 426,\n",
       " 427,\n",
       " 428,\n",
       " 429,\n",
       " 430,\n",
       " 431,\n",
       " 432,\n",
       " 433,\n",
       " 434,\n",
       " 435,\n",
       " 437,\n",
       " 438,\n",
       " 439,\n",
       " 440,\n",
       " 441,\n",
       " 443,\n",
       " 445,\n",
       " 446,\n",
       " 447,\n",
       " 448,\n",
       " 449,\n",
       " 450,\n",
       " 451,\n",
       " 452,\n",
       " 453,\n",
       " 454,\n",
       " 455,\n",
       " 458,\n",
       " 459,\n",
       " 462,\n",
       " 463,\n",
       " 465,\n",
       " 466,\n",
       " 467,\n",
       " 468,\n",
       " 469,\n",
       " 470,\n",
       " 471,\n",
       " 472,\n",
       " 473,\n",
       " 474,\n",
       " 475,\n",
       " 478,\n",
       " 480,\n",
       " 482,\n",
       " 493,\n",
       " 569,\n",
       " 507,\n",
       " 505,\n",
       " 481,\n",
       " 483,\n",
       " 484,\n",
       " 485,\n",
       " 486,\n",
       " 487,\n",
       " 488,\n",
       " 489,\n",
       " 490,\n",
       " 491,\n",
       " 492,\n",
       " 494,\n",
       " 495,\n",
       " 496,\n",
       " 497,\n",
       " 498,\n",
       " 499,\n",
       " 500,\n",
       " 501,\n",
       " 502,\n",
       " 503,\n",
       " 504,\n",
       " 506,\n",
       " 508,\n",
       " 509,\n",
       " 510,\n",
       " 511,\n",
       " 512,\n",
       " 513,\n",
       " 514,\n",
       " 515,\n",
       " 516,\n",
       " 517,\n",
       " 518,\n",
       " 519,\n",
       " 520,\n",
       " 521,\n",
       " 556,\n",
       " 543,\n",
       " 579,\n",
       " 555,\n",
       " 586,\n",
       " 571,\n",
       " 593,\n",
       " 582,\n",
       " 636,\n",
       " 620,\n",
       " 578,\n",
       " 522,\n",
       " 523,\n",
       " 524,\n",
       " 525,\n",
       " 526,\n",
       " 527,\n",
       " 528,\n",
       " 529,\n",
       " 530,\n",
       " 531,\n",
       " 532,\n",
       " 533,\n",
       " 534,\n",
       " 535,\n",
       " 536,\n",
       " 537,\n",
       " 538,\n",
       " 539,\n",
       " 540,\n",
       " 541,\n",
       " 542,\n",
       " 544,\n",
       " 545,\n",
       " 546,\n",
       " 547,\n",
       " 548,\n",
       " 549,\n",
       " 550,\n",
       " 551,\n",
       " 552,\n",
       " 553,\n",
       " 554,\n",
       " 557,\n",
       " 558,\n",
       " 559,\n",
       " 560,\n",
       " 561,\n",
       " 562,\n",
       " 563,\n",
       " 564,\n",
       " 565,\n",
       " 566,\n",
       " 567,\n",
       " 568,\n",
       " 570,\n",
       " 572,\n",
       " 573,\n",
       " 574,\n",
       " 575,\n",
       " 576,\n",
       " 577,\n",
       " 580,\n",
       " 581,\n",
       " 583,\n",
       " 584,\n",
       " 585,\n",
       " 587,\n",
       " 588,\n",
       " 589,\n",
       " 590,\n",
       " 591,\n",
       " 592,\n",
       " 594,\n",
       " 595,\n",
       " 596,\n",
       " 597,\n",
       " 598,\n",
       " 599,\n",
       " 600,\n",
       " 601,\n",
       " 602,\n",
       " 603,\n",
       " 604,\n",
       " 605,\n",
       " 606,\n",
       " 607,\n",
       " 608,\n",
       " 609,\n",
       " 610,\n",
       " 611,\n",
       " 612,\n",
       " 613,\n",
       " 614,\n",
       " 615,\n",
       " 616,\n",
       " 617,\n",
       " 618,\n",
       " 619,\n",
       " 621,\n",
       " 622,\n",
       " 623,\n",
       " 624,\n",
       " 625,\n",
       " 626,\n",
       " 627,\n",
       " 628,\n",
       " 629,\n",
       " 630,\n",
       " 631,\n",
       " 632,\n",
       " 633,\n",
       " 634,\n",
       " 635,\n",
       " 637,\n",
       " 638,\n",
       " 639,\n",
       " 1154,\n",
       " 760,\n",
       " 670,\n",
       " 656,\n",
       " 663,\n",
       " 929,\n",
       " 652,\n",
       " 640,\n",
       " 641,\n",
       " 642,\n",
       " 643,\n",
       " 644,\n",
       " 645,\n",
       " 646,\n",
       " 647,\n",
       " 648,\n",
       " 649,\n",
       " 650,\n",
       " 651,\n",
       " 653,\n",
       " 654,\n",
       " 655,\n",
       " 657,\n",
       " 658,\n",
       " 659,\n",
       " 660,\n",
       " 661,\n",
       " 662,\n",
       " 664,\n",
       " 665,\n",
       " 666,\n",
       " 667,\n",
       " 668,\n",
       " 669,\n",
       " 671,\n",
       " 672,\n",
       " 673,\n",
       " 674,\n",
       " 675,\n",
       " 676,\n",
       " 677,\n",
       " 678,\n",
       " 679,\n",
       " 680,\n",
       " 1132,\n",
       " 1051,\n",
       " 759,\n",
       " 701,\n",
       " 1102,\n",
       " 1026,\n",
       " 683,\n",
       " 747,\n",
       " 682,\n",
       " 850,\n",
       " 1045,\n",
       " 746,\n",
       " 859,\n",
       " 819,\n",
       " 729,\n",
       " 1333,\n",
       " 699,\n",
       " 744,\n",
       " 1036,\n",
       " 725,\n",
       " 1037,\n",
       " 1027,\n",
       " 860,\n",
       " 1019,\n",
       " 849,\n",
       " 1049,\n",
       " 1139,\n",
       " 1067,\n",
       " 1129,\n",
       " 1107,\n",
       " 843,\n",
       " 694,\n",
       " 681,\n",
       " 684,\n",
       " 685,\n",
       " 686,\n",
       " 687,\n",
       " 688,\n",
       " 689,\n",
       " 690,\n",
       " 691,\n",
       " 692,\n",
       " 693,\n",
       " 695,\n",
       " 696,\n",
       " 697,\n",
       " 698,\n",
       " 700,\n",
       " 702,\n",
       " 703,\n",
       " 704,\n",
       " 705,\n",
       " 706,\n",
       " 707,\n",
       " 708,\n",
       " 709,\n",
       " 710,\n",
       " 711,\n",
       " 712,\n",
       " 713,\n",
       " 714,\n",
       " 715,\n",
       " 716,\n",
       " 717,\n",
       " 718,\n",
       " 719,\n",
       " 720,\n",
       " 721,\n",
       " 722,\n",
       " 723,\n",
       " 724,\n",
       " 726,\n",
       " 727,\n",
       " 728,\n",
       " 730,\n",
       " 731,\n",
       " 732,\n",
       " 733,\n",
       " 734,\n",
       " 735,\n",
       " 736,\n",
       " 737,\n",
       " 738,\n",
       " 739,\n",
       " 740,\n",
       " 741,\n",
       " 742,\n",
       " 743,\n",
       " 745,\n",
       " 748,\n",
       " 749,\n",
       " 750,\n",
       " 751,\n",
       " 752,\n",
       " 753,\n",
       " 754,\n",
       " 755,\n",
       " 756,\n",
       " 757,\n",
       " 758,\n",
       " 761,\n",
       " 762,\n",
       " 763,\n",
       " 764,\n",
       " 765,\n",
       " 766,\n",
       " 767,\n",
       " 768,\n",
       " 769,\n",
       " 770,\n",
       " 771,\n",
       " 772,\n",
       " 773,\n",
       " 774,\n",
       " 775,\n",
       " 776,\n",
       " 777,\n",
       " 778,\n",
       " 779,\n",
       " 780,\n",
       " 781,\n",
       " 782,\n",
       " 783,\n",
       " 784,\n",
       " 785,\n",
       " 786,\n",
       " 787,\n",
       " 788,\n",
       " 789,\n",
       " 790,\n",
       " 791,\n",
       " 792,\n",
       " 793,\n",
       " 794,\n",
       " 795,\n",
       " 796,\n",
       " 797,\n",
       " 798,\n",
       " 799,\n",
       " 800,\n",
       " 801,\n",
       " 802,\n",
       " 803,\n",
       " 804,\n",
       " 805,\n",
       " 806,\n",
       " 807,\n",
       " 808,\n",
       " 809,\n",
       " 810,\n",
       " 811,\n",
       " 812,\n",
       " 813,\n",
       " 814,\n",
       " 815,\n",
       " 816,\n",
       " 817,\n",
       " 818,\n",
       " 820,\n",
       " 821,\n",
       " 822,\n",
       " 823,\n",
       " 824,\n",
       " 825,\n",
       " 826,\n",
       " 827,\n",
       " 828,\n",
       " 829,\n",
       " 830,\n",
       " 831,\n",
       " 832,\n",
       " 833,\n",
       " 834,\n",
       " 835,\n",
       " 836,\n",
       " 837,\n",
       " 838,\n",
       " 839,\n",
       " 840,\n",
       " 841,\n",
       " 842,\n",
       " 844,\n",
       " 845,\n",
       " 846,\n",
       " 847,\n",
       " 848,\n",
       " 851,\n",
       " 852,\n",
       " 853,\n",
       " 854,\n",
       " 855,\n",
       " 856,\n",
       " 857,\n",
       " 858,\n",
       " 861,\n",
       " 862,\n",
       " 863,\n",
       " 864,\n",
       " 865,\n",
       " 866,\n",
       " 867,\n",
       " 868,\n",
       " 869,\n",
       " 870,\n",
       " 871,\n",
       " 872,\n",
       " 873,\n",
       " 874,\n",
       " 875,\n",
       " 876,\n",
       " 877,\n",
       " 878,\n",
       " 879,\n",
       " 880,\n",
       " 881,\n",
       " 882,\n",
       " 883,\n",
       " 884,\n",
       " 885,\n",
       " 886,\n",
       " 887,\n",
       " 888,\n",
       " 889,\n",
       " 890,\n",
       " 891,\n",
       " 892,\n",
       " 893,\n",
       " 894,\n",
       " 895,\n",
       " 896,\n",
       " 897,\n",
       " 898,\n",
       " 899,\n",
       " 900,\n",
       " 901,\n",
       " 902,\n",
       " 903,\n",
       " 904,\n",
       " 905,\n",
       " 906,\n",
       " 907,\n",
       " 908,\n",
       " 909,\n",
       " 910,\n",
       " 911,\n",
       " 912,\n",
       " 913,\n",
       " 914,\n",
       " 915,\n",
       " 916,\n",
       " 917,\n",
       " 918,\n",
       " 919,\n",
       " 920,\n",
       " 921,\n",
       " 922,\n",
       " 923,\n",
       " 924,\n",
       " 925,\n",
       " 926,\n",
       " 927,\n",
       " 993,\n",
       " 941,\n",
       " 948,\n",
       " 961,\n",
       " 949,\n",
       " 928,\n",
       " 930,\n",
       " 931,\n",
       " 932,\n",
       " 933,\n",
       " 934,\n",
       " 935,\n",
       " 936,\n",
       " 1006,\n",
       " 937,\n",
       " 938,\n",
       " 939,\n",
       " 940,\n",
       " 942,\n",
       " 943,\n",
       " 944,\n",
       " 945,\n",
       " 946,\n",
       " 947,\n",
       " 950,\n",
       " 951,\n",
       " 952,\n",
       " 953,\n",
       " 954,\n",
       " 955,\n",
       " 956,\n",
       " 957,\n",
       " 958,\n",
       " 959,\n",
       " 960,\n",
       " 962,\n",
       " 963,\n",
       " 964,\n",
       " 965,\n",
       " 966,\n",
       " 967,\n",
       " 968,\n",
       " 969,\n",
       " 970,\n",
       " 971,\n",
       " 972,\n",
       " 973,\n",
       " 974,\n",
       " 975,\n",
       " 976,\n",
       " 977,\n",
       " 978,\n",
       " 979,\n",
       " 980,\n",
       " 981,\n",
       " ...]"
      ]
     },
     "execution_count": 101,
     "metadata": {},
     "output_type": "execute_result"
    }
   ],
   "source": [
    "sorted(list(range(10000)), key=lambda i: distance(X[random_choose].toarray()[0], \n",
    "                                      X[i].toarray()[0]))"
   ]
  },
  {
   "cell_type": "code",
   "execution_count": 102,
   "metadata": {},
   "outputs": [
    {
     "data": {
      "text/plain": [
       "'0b100000'"
      ]
     },
     "execution_count": 102,
     "metadata": {},
     "output_type": "execute_result"
    }
   ],
   "source": [
    "bin(49 & 38)"
   ]
  },
  {
   "cell_type": "markdown",
   "metadata": {},
   "source": []
  },
  {
   "cell_type": "markdown",
   "metadata": {},
   "source": [
    "###Build Search Engine "
   ]
  },
  {
   "cell_type": "code",
   "execution_count": 103,
   "metadata": {
    "collapsed": true
   },
   "outputs": [],
   "source": [
    "def naive_search(keywords):\n",
    "    news_ids = [i for i, n in enumerate(news_content) if all(w in n for w in keywords)]\n",
    "    # O(D * w) "
   ]
  },
  {
   "cell_type": "code",
   "execution_count": 104,
   "metadata": {},
   "outputs": [
    {
     "name": "stdout",
     "output_type": "stream",
     "text": [
      "61 ms ± 1.6 ms per loop (mean ± std. dev. of 7 runs, 10 loops each)\n"
     ]
    }
   ],
   "source": [
    "%%timeit\n",
    "naive_search('美军 司令 航母'.split())"
   ]
  },
  {
   "cell_type": "code",
   "execution_count": 105,
   "metadata": {},
   "outputs": [
    {
     "data": {
      "text/plain": [
       "89611"
      ]
     },
     "execution_count": 105,
     "metadata": {},
     "output_type": "execute_result"
    }
   ],
   "source": [
    "len(news_content)"
   ]
  },
  {
   "cell_type": "markdown",
   "metadata": {},
   "source": []
  },
  {
   "cell_type": "code",
   "execution_count": 106,
   "metadata": {},
   "outputs": [
    {
     "data": {
      "text/plain": [
       "(10000, 10000)"
      ]
     },
     "execution_count": 106,
     "metadata": {},
     "output_type": "execute_result"
    }
   ],
   "source": [
    "X.shape"
   ]
  },
  {
   "cell_type": "code",
   "execution_count": 107,
   "metadata": {},
   "outputs": [],
   "source": [
    "transposed_x = X.transpose().toarray()"
   ]
  },
  {
   "cell_type": "code",
   "execution_count": 108,
   "metadata": {
    "collapsed": true
   },
   "outputs": [],
   "source": [
    "word_2_id = vectorized.vocabulary_"
   ]
  },
  {
   "cell_type": "code",
   "execution_count": 109,
   "metadata": {},
   "outputs": [
    {
     "data": {
      "text/plain": [
       "2370"
      ]
     },
     "execution_count": 109,
     "metadata": {},
     "output_type": "execute_result"
    }
   ],
   "source": [
    "word_2_id['今天']"
   ]
  },
  {
   "cell_type": "code",
   "execution_count": 111,
   "metadata": {
    "collapsed": true
   },
   "outputs": [],
   "source": [
    "id_2_word = {d: w for w, d in word_2_id.items()}"
   ]
  },
  {
   "cell_type": "code",
   "execution_count": 112,
   "metadata": {},
   "outputs": [
    {
     "data": {
      "text/plain": [
       "'新兴市场股票指数机构的关注'"
      ]
     },
     "execution_count": 112,
     "metadata": {},
     "output_type": "execute_result"
    }
   ],
   "source": [
    "id_2_word[6195]"
   ]
  },
  {
   "cell_type": "code",
   "execution_count": 113,
   "metadata": {},
   "outputs": [
    {
     "data": {
      "text/plain": [
       "{4024, 4331, 5380, 5564, 5587, 6723, 6746}"
      ]
     },
     "execution_count": 113,
     "metadata": {},
     "output_type": "execute_result"
    }
   ],
   "source": [
    "set(np.where(transposed_x[6195])[0])"
   ]
  },
  {
   "cell_type": "code",
   "execution_count": 114,
   "metadata": {},
   "outputs": [
    {
     "data": {
      "text/plain": [
       "'美军'"
      ]
     },
     "execution_count": 114,
     "metadata": {},
     "output_type": "execute_result"
    }
   ],
   "source": [
    "'美军'"
   ]
  },
  {
   "cell_type": "code",
   "execution_count": 115,
   "metadata": {},
   "outputs": [
    {
     "data": {
      "text/plain": [
       "8326"
      ]
     },
     "execution_count": 115,
     "metadata": {},
     "output_type": "execute_result"
    }
   ],
   "source": [
    "word_2_id['美军']"
   ]
  },
  {
   "cell_type": "code",
   "execution_count": 116,
   "metadata": {},
   "outputs": [
    {
     "ename": "KeyError",
     "evalue": "'司令'",
     "output_type": "error",
     "traceback": [
      "\u001b[1;31m---------------------------------------------------------------------------\u001b[0m",
      "\u001b[1;31mKeyError\u001b[0m                                  Traceback (most recent call last)",
      "\u001b[1;32m<ipython-input-116-5356d52b3800>\u001b[0m in \u001b[0;36m<module>\u001b[1;34m()\u001b[0m\n\u001b[1;32m----> 1\u001b[1;33m \u001b[0mword_2_id\u001b[0m\u001b[1;33m[\u001b[0m\u001b[1;34m'司令'\u001b[0m\u001b[1;33m]\u001b[0m\u001b[1;33m\u001b[0m\u001b[0m\n\u001b[0m",
      "\u001b[1;31mKeyError\u001b[0m: '司令'"
     ]
    }
   ],
   "source": [
    "word_2_id['司令']"
   ]
  },
  {
   "cell_type": "code",
   "execution_count": 117,
   "metadata": {
    "collapsed": true
   },
   "outputs": [],
   "source": [
    "usa_force = set(np.where(transposed_x[7922])[0])"
   ]
  },
  {
   "cell_type": "code",
   "execution_count": 118,
   "metadata": {
    "collapsed": true
   },
   "outputs": [],
   "source": [
    "commander = set(np.where(transposed_x[2769])[0])"
   ]
  },
  {
   "cell_type": "code",
   "execution_count": 119,
   "metadata": {},
   "outputs": [
    {
     "data": {
      "text/plain": [
       "set()"
      ]
     },
     "execution_count": 119,
     "metadata": {},
     "output_type": "execute_result"
    }
   ],
   "source": [
    "usa_force & commander"
   ]
  },
  {
   "cell_type": "code",
   "execution_count": 120,
   "metadata": {
    "collapsed": true
   },
   "outputs": [],
   "source": [
    "from functools import reduce"
   ]
  },
  {
   "cell_type": "code",
   "execution_count": 121,
   "metadata": {
    "collapsed": true
   },
   "outputs": [],
   "source": [
    "d1, d2, d3 = {1, 2, 3}, {4, 5, 6, 3, 2}, {1, 3, 4}"
   ]
  },
  {
   "cell_type": "code",
   "execution_count": 122,
   "metadata": {
    "collapsed": true
   },
   "outputs": [],
   "source": [
    "from operator import and_"
   ]
  },
  {
   "cell_type": "code",
   "execution_count": 123,
   "metadata": {},
   "outputs": [
    {
     "data": {
      "text/plain": [
       "{3}"
      ]
     },
     "execution_count": 123,
     "metadata": {},
     "output_type": "execute_result"
    }
   ],
   "source": [
    "reduce(and_, [d1, d2, d3])"
   ]
  },
  {
   "cell_type": "code",
   "execution_count": 124,
   "metadata": {
    "collapsed": true
   },
   "outputs": [],
   "source": [
    "def search_engine(query):\n",
    "    \"\"\"\n",
    "    @query is the searched words, splited by space\n",
    "    @return is the related documents which ranked by tfidf similarity\n",
    "    \"\"\"\n",
    "    words = query.split()\n",
    "    \n",
    "    query_vec = vectorized.transform([' '.join(words)]).toarray()[0]\n",
    "\n",
    "    candidates_ids = [word_2_id[w] for w in words]\n",
    "    \n",
    "    documents_ids = [\n",
    "         set(np.where(transposed_x[_id])[0]) for _id in candidates_ids\n",
    "    ]\n",
    "    \n",
    "    merged_documents = reduce(and_, documents_ids)\n",
    "    # we could know the documents which contain these words\n",
    "    sorted_docuemtns_id = sorted(merged_documents, key=lambda i: distance(query_vec, X[i].toarray()))\n",
    "\n",
    "    return sorted_docuemtns_id"
   ]
  },
  {
   "cell_type": "code",
   "execution_count": 125,
   "metadata": {},
   "outputs": [
    {
     "data": {
      "text/plain": [
       "(array([8357], dtype=int64),)"
      ]
     },
     "execution_count": 125,
     "metadata": {},
     "output_type": "execute_result"
    }
   ],
   "source": [
    "np.where(vectorized.transform(['美联储 加息 次数']).toarray()[0])"
   ]
  },
  {
   "cell_type": "code",
   "execution_count": 126,
   "metadata": {
    "collapsed": true
   },
   "outputs": [],
   "source": [
    "text = \"\"\"新华社洛杉矶４月８日电（记者黄恒）美国第三舰队８日发布声明说，该舰队下属的“卡尔·文森”航母战斗群当天离开新加坡，改变原定驶往澳大利亚的任务计划，转而北上，前往西太平洋朝鲜半岛附近水域展开行动。\\n　　该舰队网站主页发布的消息说，美军太平洋司令部司令哈里·哈里斯指示“卡尔·文森”航母战斗群向北航行。这一战斗群包括“卡尔·文森”号航空母舰、海军第二航空队、两艘“阿利·伯克”级导弹驱逐舰和一艘“泰孔德罗加”级导弹巡洋舰。\\n　　“卡尔·文森”号航母的母港位于美国加利福尼亚州的圣迭戈，今年１月初前往西太平洋地区执行任务，并参与了日本及韩国的军事演习。\\n　　美国有线电视新闻网援引美国军方官员的话说，“‘卡尔·文森’号此次行动是为了对近期朝鲜的挑衅行为作出回应”。（完）\"\"\""
   ]
  },
  {
   "cell_type": "code",
   "execution_count": 127,
   "metadata": {},
   "outputs": [
    {
     "name": "stdout",
     "output_type": "stream",
     "text": [
      "新华社洛杉矶４月８日电（记者黄恒）美国第三舰队８日发布声明说，该舰队下属的“卡尔·文森”航母战斗群当天离开新加坡，改变原定驶往澳大利亚的任务计划，转而北上，前往西太平洋朝鲜半岛附近水域展开行动。\n",
      "　　该舰队网站主页发布的消息说，美军太平洋司令部司令哈里·哈里斯指示“卡尔·文森”航母战斗群向北航行。这一战斗群包括“卡尔·文森”号航空母舰、海军第二航空队、两艘“阿利·伯克”级导弹驱逐舰和一艘“泰孔德罗加”级导弹巡洋舰。\n",
      "　　“卡尔·文森”号航母的母港位于美国加利福尼亚州的圣迭戈，今年１月初前往西太平洋地区执行任务，并参与了日本及韩国的军事演习。\n",
      "　　美国有线电视新闻网援引美国军方官员的话说，“‘卡尔·文森’号此次行动是为了对近期朝鲜的挑衅行为作出回应”。（完）\n"
     ]
    }
   ],
   "source": [
    "print(text)"
   ]
  },
  {
   "cell_type": "code",
   "execution_count": 128,
   "metadata": {
    "collapsed": true
   },
   "outputs": [],
   "source": [
    "import re"
   ]
  },
  {
   "cell_type": "code",
   "execution_count": 129,
   "metadata": {
    "collapsed": true
   },
   "outputs": [],
   "source": [
    "text = \"\"\"美国有线电视新闻网援引美国军方官员的话说\"\"\""
   ]
  },
  {
   "cell_type": "code",
   "execution_count": 130,
   "metadata": {
    "collapsed": true
   },
   "outputs": [],
   "source": [
    "pat = r'(新闻|官员)'"
   ]
  },
  {
   "cell_type": "code",
   "execution_count": 131,
   "metadata": {},
   "outputs": [
    {
     "data": {
      "text/plain": [
       "'美国有线电视**新闻**网援引美国军方**官员**的话说'"
      ]
     },
     "execution_count": 131,
     "metadata": {},
     "output_type": "execute_result"
    }
   ],
   "source": [
    "re.compile(pat).sub(repl=\"**\\g<1>**\", string=text)"
   ]
  },
  {
   "cell_type": "code",
   "execution_count": 132,
   "metadata": {
    "collapsed": true
   },
   "outputs": [],
   "source": [
    "def get_query_pat(query):\n",
    "    return re.compile('({})'.format('|'.join(query.split())))"
   ]
  },
  {
   "cell_type": "code",
   "execution_count": 133,
   "metadata": {},
   "outputs": [
    {
     "data": {
      "text/plain": [
       "re.compile(r'(美军|司令|航母)', re.UNICODE)"
      ]
     },
     "execution_count": 133,
     "metadata": {},
     "output_type": "execute_result"
    }
   ],
   "source": [
    "get_query_pat('美军 司令 航母')"
   ]
  },
  {
   "cell_type": "code",
   "execution_count": 134,
   "metadata": {
    "collapsed": true
   },
   "outputs": [],
   "source": [
    "def highlight_keywords(pat, document):\n",
    "    return pat.sub(repl=\"**\\g<1>**\", string=document) "
   ]
  },
  {
   "cell_type": "code",
   "execution_count": 135,
   "metadata": {},
   "outputs": [
    {
     "data": {
      "text/plain": [
       "'\\u3000\\u3000新华社北京４月１０日电新闻分析：“卡尔·文森”号**航母**缘何成西太平洋军情新主角\\\\n\\u3000\\u3000新华社记者刘莉莉\\\\n\\u3000\\u3000美国海军第三舰队下属的“卡尔·文森”号**航母**打击群即将抵达西太平洋朝鲜半岛附近水域。分析人士认为，美方此次急调**航母**打击群北上，向朝鲜施压意图明显，很可能会加剧朝鲜半岛紧张局势。\\\\n\\u3000\\u3000（小标题）侧重对地攻击\\\\n\\u3000\\u3000据第三舰队网站主页发布的消息，**美军**太平洋**司令**部**司令**哈里·哈里斯指示“卡尔·文森”号**航母**打击群从新加坡向北航行。这一打击群还包括海军第二航空队、两艘“阿利·伯克”级导弹驱逐舰和一艘“泰孔德罗加”级导弹巡洋舰。\\\\n\\u3000\\u3000“卡尔·文森”号是“尼米兹”级核动力**航母**，母港位于美国加利福尼亚州的圣迭戈，今年１月初，“卡尔·文森”号曾前往西太平洋地区执行任务，并参与美日韩三国军事演习。“尼米兹”级**航母**是核动力多用途**航母**，也是美国海军远洋作战群的核心力量。\\\\n\\u3000\\u3000“卡尔·文森”**航母**打击群中，“阿利·伯克”级导弹驱逐舰和“泰孔德罗加”级导弹巡洋舰也不可小视。“阿利·伯克”级导弹驱逐舰是世界上最先配备四面相控阵雷达的驱逐舰，舰队防空是其主要作战任务。“泰孔德罗加”级导弹巡洋舰的武器配备也比较全面，涵盖了反潜、反舰、防空和对地４个种类。\\\\n\\u3000\\u3000据军事专业人士介绍，**航母**打击群与**航母**战斗群其实是两个概念，战斗群侧重于夺取制海权，例如海战；而**航母**打击群更侧重于对地攻击作战。一般而言，打击群的舰艇数量要远少于战斗群。\\\\n\\u3000\\u3000（小标题）配角跻身主角\\\\n\\u3000\\u3000第三舰队是美国海军太平洋舰队两大舰队之一，拥有４个**航母**打击群，分别是以“卡尔·文森”号为核心的第一**航母**打击群、以“约翰·斯坦尼斯”号为核心的第三**航母**打击群、以“西奥多·罗斯福”号为核心的第九**航母**打击群和以“尼米兹”号为核心的第十一**航母**打击群。\\u3000\\\\n\\u3000\\u3000资深军事评论员石宏说，在美国海军力量中，第三舰队原本地位一般，因为其所管辖的国际日期变更线以东的东太平洋比较安稳，所以更多扮演战略预备队的配角角色。只有在负责执行前沿部署和应急反应任务的第七舰队有需要时，第三舰队才会奉令前去换班或增援。但自２０１５年下半年以来，太平洋舰队打破了延续数十年的惯例，大幅提升第三舰队的活跃度，令其开始更多涉足西太平洋地区。\\\\n\\u3000\\u3000“实际上，这是**美军**根据新的‘全球一体化’军事战略而做的调整，目的是优化资源、改变本土与前沿的兵力平衡，缓解目前美国海军兵力不足与战线过长、资源下滑与保持战备之间的尖锐矛盾，”石宏说。\\\\n\\u3000\\u3000正因如此，“卡尔·文森”号**航母**开始忙碌起来。自从今年１月离开母港后，“卡尔·文森”号边走边练，特别是在夏威夷和关岛水域与当地驻扎部队进行了多轮演训。２月１８日，“卡尔·文森”号**航母**进入南海水域进行所谓“巡航”；３月１５日，“卡尔·文森”号抵达韩国釜山，随后在２０日参加了美韩“关键决断”联合军演。４月４日，“卡尔·文森”号抵达新加坡，原本计划南下前往澳大利亚，但随后接到再度北上命令，赶往朝鲜半岛附近海域。\\\\n\\u3000\\u3000（小标题）或在火上浇油\\\\n\\u3000\\u3000一名不愿公开姓名的五角大楼官员告诉美国有线电视新闻网，“卡尔·文森”号**航母**打击群驶向西太平洋的朝鲜半岛水域，“旨在对近期朝鲜的挑衅行为作出回应”。\\\\n\\u3000\\u3000包括“卡尔·文森”号在内的美国海军新近动向引起各方关注。不少人担心，这一行动将给半岛紧张局势火上浇油。俄罗斯议会上院防务和安全委员会主席维克托·奥泽罗夫警告说，美国动作可能会刺激朝鲜方面作出急躁反应。\\\\n\\u3000\\u3000石宏认为，美国急调“卡尔·文森”号**航母**打击群赶赴半岛附近水域，是想通过军事施压，迫使朝鲜放弃进行新一轮核试验的打算。但从以往经验看，美国用不断加码的军事威慑不仅不会让半岛局势降温，反而会刺激朝鲜越发强硬。（完）\\u3000'"
      ]
     },
     "execution_count": 135,
     "metadata": {},
     "output_type": "execute_result"
    }
   ],
   "source": [
    "highlight_keywords(get_query_pat('美军 司令 航母'), content['content'][22987])"
   ]
  },
  {
   "cell_type": "code",
   "execution_count": 136,
   "metadata": {
    "collapsed": true
   },
   "outputs": [],
   "source": [
    "from IPython.display import display, Markdown"
   ]
  },
  {
   "cell_type": "code",
   "execution_count": 137,
   "metadata": {
    "collapsed": true
   },
   "outputs": [],
   "source": [
    "def search_engine_with_pretty_print(query):\n",
    "    candidates_ids = search_engine(query)\n",
    "    for i, _id in enumerate(candidates_ids):\n",
    "        title = '## Search Result {}'.format(i)\n",
    "        c = content['content'][_id]\n",
    "        c = highlight_keywords(get_query_pat(query), c)    \n",
    "        \n",
    "        display(Markdown(title + '\\n' + c))"
   ]
  },
  {
   "cell_type": "code",
   "execution_count": null,
   "metadata": {
    "collapsed": true
   },
   "outputs": [],
   "source": []
  },
  {
   "cell_type": "code",
   "execution_count": 148,
   "metadata": {},
   "outputs": [],
   "source": [
    "search_engine_with_pretty_print('华为 手机')"
   ]
  },
  {
   "cell_type": "code",
   "execution_count": null,
   "metadata": {},
   "outputs": [],
   "source": []
  },
  {
   "cell_type": "code",
   "execution_count": null,
   "metadata": {},
   "outputs": [],
   "source": []
  },
  {
   "cell_type": "code",
   "execution_count": 149,
   "metadata": {},
   "outputs": [
    {
     "data": {
      "text/plain": [
       "[2686, 2293, 3046, 949, 1019]"
      ]
     },
     "execution_count": 149,
     "metadata": {},
     "output_type": "execute_result"
    }
   ],
   "source": [
    "#%%timeit\n",
    "search_engine('美联储')"
   ]
  },
  {
   "cell_type": "code",
   "execution_count": 150,
   "metadata": {
    "scrolled": true
   },
   "outputs": [
    {
     "data": {
      "text/plain": [
       "'\\u3000\\u30006月15日凌晨，是美联储公布利率决议的时刻，截至发稿，联邦基金利率期货蕴含的加息概率为100%。\\r\\n\\u3000\\u3000但多位分析人士告诉中国证券报记者，目前而言，单纯从加息的角度看，市场已经充分定价，此次会议透露出来的美联储对下半年加息和缩表的态度将成为接下来市场关注焦点。此外，大宗商品近期走势与美元相关性走弱，未来也将更多受国内基本面主导，并趋向震荡偏弱。\\r\\n\\u3000\\u3000市场聚焦美联储\\r\\n\\u3000\\u3000在美联储利率决议公布前夕的紧张气氛中，黄金屏息以待，本周来持续窄幅震荡，截至昨日，COMEX黄金期货主力报收1269.7美元/盎司。与此同时，原油期货震荡区间也明显收窄。而在此前，黄金、原油期货均出现明显跌幅。\\r\\n\\u3000\\u3000南华宏观章睿哲表示，目前美联储加息已被市场充分预期，周四重点关注美联储对下半年几次议息会议的态度，如果态度不够鹰派，那么美元可能还会下行，黄金短期内还会上涨。\\r\\n\\u3000\\u3000如何看待美联储货币政策后续走势？\\r\\n\\u3000\\u3000“当前市场的核心焦点在美联储对下半年加息和缩表的态度。”浙商期货研究中心首席宏观分析师洪清源表示，6月美联储加息基本被市场充分预期，议息会议前市场预期的加息概率就已高达99%。加息本身对市场的冲击并不大。“从当前美国经济基本面看，补库存周期进入尾声，薪资增长放缓，消费后继增长乏力，经济复苏面临一定压力。特朗普政策是当前美国经济最大的不确定因素，其减税和基建刺激计划有利于提振私人部门投资，但从目前推进的情况看并不是很顺畅，8月前税改能否推出则十分关键。同时，市场表现中，本次加息是市场反应最不积极的一次加息，以往每次加息前美债收益率和美元均有所上涨，而近期美债收益率不升反降、美元持续疲弱，体现出市场对美国经济持续复苏的担忧。因此来看，近期美联储难以鹰派，对下半年加息和缩表的预期也有望放缓。”\\r\\n\\u3000\\u3000值得注意的是，国金宏观边泉水团队认为，本次美联储会议将会公布新的点阵图，其对未来缩表相关细节的披露，以及点阵图蕴含的加息次数，将是影响市场的关键变量。当前市场对9月进一步加息预期不高（联邦基金利率期货蕴含的加息概率不超过50%），如果相关信息偏鹰，可能推升美国国债收益率，提振美元指数，打压黄金价格。\\r\\n'"
      ]
     },
     "execution_count": 150,
     "metadata": {},
     "output_type": "execute_result"
    }
   ],
   "source": [
    "content['content'][2189]"
   ]
  },
  {
   "cell_type": "markdown",
   "metadata": {},
   "source": []
  },
  {
   "cell_type": "markdown",
   "metadata": {},
   "source": []
  },
  {
   "cell_type": "markdown",
   "metadata": {},
   "source": []
  },
  {
   "cell_type": "code",
   "execution_count": 151,
   "metadata": {
    "collapsed": true
   },
   "outputs": [],
   "source": [
    "import networkx as nx"
   ]
  },
  {
   "cell_type": "code",
   "execution_count": 153,
   "metadata": {
    "collapsed": true
   },
   "outputs": [],
   "source": [
    "import random"
   ]
  },
  {
   "cell_type": "code",
   "execution_count": 154,
   "metadata": {
    "collapsed": true
   },
   "outputs": [],
   "source": [
    "from string import ascii_uppercase"
   ]
  },
  {
   "cell_type": "code",
   "execution_count": 155,
   "metadata": {},
   "outputs": [
    {
     "data": {
      "text/plain": [
       "'ABCDEFGHIJKLMNOPQRSTUVWXYZ'"
      ]
     },
     "execution_count": 155,
     "metadata": {},
     "output_type": "execute_result"
    }
   ],
   "source": [
    "ascii_uppercase"
   ]
  },
  {
   "cell_type": "code",
   "execution_count": 156,
   "metadata": {
    "collapsed": true
   },
   "outputs": [],
   "source": [
    "def genearte_random_website():\n",
    "    return ''.join([random.choice(ascii_uppercase) for _ in range(random.randint(3, 5))]) + '.'  + random.choice(['com', 'cn', 'net'])"
   ]
  },
  {
   "cell_type": "code",
   "execution_count": 157,
   "metadata": {},
   "outputs": [
    {
     "data": {
      "text/plain": [
       "'WIFN.cn'"
      ]
     },
     "execution_count": 157,
     "metadata": {},
     "output_type": "execute_result"
    }
   ],
   "source": [
    "genearte_random_website()"
   ]
  },
  {
   "cell_type": "code",
   "execution_count": 158,
   "metadata": {
    "collapsed": true
   },
   "outputs": [],
   "source": [
    "websites = [genearte_random_website() for _ in range(25)]"
   ]
  },
  {
   "cell_type": "code",
   "execution_count": 159,
   "metadata": {},
   "outputs": [
    {
     "data": {
      "text/plain": [
       "['ZTIJ.net',\n",
       " 'FEDRQ.cn',\n",
       " 'XHHX.cn',\n",
       " 'VYAMO.cn',\n",
       " 'EDI.net',\n",
       " 'HLREG.com',\n",
       " 'ATQ.net',\n",
       " 'ACFUB.com',\n",
       " 'NJFYP.net',\n",
       " 'EJL.net',\n",
       " 'YZNJH.net',\n",
       " 'LLD.cn',\n",
       " 'JMNQB.net',\n",
       " 'OUVWV.com',\n",
       " 'FHH.com',\n",
       " 'DGLTR.com',\n",
       " 'QPB.cn',\n",
       " 'WKCB.net',\n",
       " 'PTII.com',\n",
       " 'IDN.com',\n",
       " 'RPDN.com',\n",
       " 'WUCVV.com',\n",
       " 'CXLG.com',\n",
       " 'JXD.com',\n",
       " 'GPEUM.com']"
      ]
     },
     "execution_count": 159,
     "metadata": {},
     "output_type": "execute_result"
    }
   ],
   "source": [
    "websites"
   ]
  },
  {
   "cell_type": "code",
   "execution_count": 160,
   "metadata": {},
   "outputs": [
    {
     "data": {
      "text/plain": [
       "['NJFYP.net',\n",
       " 'LLD.cn',\n",
       " 'JMNQB.net',\n",
       " 'VYAMO.cn',\n",
       " 'OUVWV.com',\n",
       " 'ATQ.net',\n",
       " 'XHHX.cn',\n",
       " 'IDN.com',\n",
       " 'EJL.net',\n",
       " 'ACFUB.com']"
      ]
     },
     "execution_count": 160,
     "metadata": {},
     "output_type": "execute_result"
    }
   ],
   "source": [
    "random.sample(websites, 10)"
   ]
  },
  {
   "cell_type": "code",
   "execution_count": 161,
   "metadata": {
    "collapsed": true
   },
   "outputs": [],
   "source": [
    "website_connection = {\n",
    "    websites[0]: random.sample(websites, 10),\n",
    "    websites[1]: random.sample(websites, 5),\n",
    "    websites[3]: random.sample(websites, 7),\n",
    "    websites[4]: random.sample(websites, 2),\n",
    "    websites[5]: random.sample(websites, 1),\n",
    "}"
   ]
  },
  {
   "cell_type": "code",
   "execution_count": 162,
   "metadata": {
    "collapsed": true
   },
   "outputs": [],
   "source": [
    "website_network = nx.graph.Graph(website_connection)"
   ]
  },
  {
   "cell_type": "code",
   "execution_count": null,
   "metadata": {
    "collapsed": true
   },
   "outputs": [],
   "source": []
  },
  {
   "cell_type": "code",
   "execution_count": 163,
   "metadata": {},
   "outputs": [
    {
     "data": {
      "image/png": "[encoded data removed]",
      "text/plain": [
       "<matplotlib.figure.Figure at 0x26a44d4b3c8>"
      ]
     },
     "metadata": {},
     "output_type": "display_data"
    }
   ],
   "source": [
    "plt.figure(3,figsize=(12,12))\n",
    "nx.draw_networkx(website_network, font_size=10)"
   ]
  },
  {
   "cell_type": "code",
   "execution_count": 164,
   "metadata": {},
   "outputs": [
    {
     "data": {
      "text/plain": [
       "[('ZTIJ.net', 0.22414771502486244),\n",
       " ('VYAMO.cn', 0.14428919651531763),\n",
       " ('FEDRQ.cn', 0.09969641455614009),\n",
       " ('HLREG.com', 0.06739523295565325),\n",
       " ('EDI.net', 0.06188439147159106),\n",
       " ('JXD.com', 0.06062619695451288),\n",
       " ('FHH.com', 0.043677690614533735),\n",
       " ('XHHX.cn', 0.04366433682810716),\n",
       " ('EJL.net', 0.04366433682810716),\n",
       " ('YZNJH.net', 0.02791922627656393),\n",
       " ('IDN.com', 0.02634411936831027),\n",
       " ('ATQ.net', 0.02634411936831027),\n",
       " ('QPB.cn', 0.02614374687156159),\n",
       " ('RPDN.com', 0.02614374687156159),\n",
       " ('OUVWV.com', 0.02614374687156159),\n",
       " ('ACFUB.com', 0.02614374687156159),\n",
       " ('CXLG.com', 0.025772035751743846)]"
      ]
     },
     "execution_count": 164,
     "metadata": {},
     "output_type": "execute_result"
    }
   ],
   "source": [
    "sorted(nx.pagerank(website_network).items(),key=lambda x: x[1], reverse=True)"
   ]
  },
  {
   "cell_type": "code",
   "execution_count": null,
   "metadata": {
    "collapsed": true
   },
   "outputs": [],
   "source": []
  }
 ],
 "metadata": {
  "kernelspec": {
   "display_name": "Python 3",
   "language": "python",
   "name": "python3"
  },
  "language_info": {
   "codemirror_mode": {
    "name": "ipython",
    "version": 3
   },
   "file_extension": ".py",
   "mimetype": "text/x-python",
   "name": "python",
   "nbconvert_exporter": "python",
   "pygments_lexer": "ipython3",
   "version": "3.6.2"
  }
 },
 "nbformat": 4,
 "nbformat_minor": 2
}
