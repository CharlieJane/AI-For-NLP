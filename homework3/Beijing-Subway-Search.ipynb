{
 "cells": [
  {
   "cell_type": "code",
   "execution_count": 7,
   "metadata": {},
   "outputs": [
    {
     "ename": "KeyboardInterrupt",
     "evalue": "",
     "output_type": "error",
     "traceback": [
      "\u001b[1;31m---------------------------------------------------------------------------\u001b[0m",
      "\u001b[1;31mTypeError\u001b[0m                                 Traceback (most recent call last)",
      "\u001b[1;32mH:\\Anaconda3\\lib\\site-packages\\urllib3\\connectionpool.py\u001b[0m in \u001b[0;36m_make_request\u001b[1;34m(self, conn, method, url, timeout, chunked, **httplib_request_kw)\u001b[0m\n\u001b[0;32m    379\u001b[0m             \u001b[1;32mtry\u001b[0m\u001b[1;33m:\u001b[0m  \u001b[1;31m# Python 2.7, use buffering of HTTP responses\u001b[0m\u001b[1;33m\u001b[0m\u001b[0m\n\u001b[1;32m--> 380\u001b[1;33m                 \u001b[0mhttplib_response\u001b[0m \u001b[1;33m=\u001b[0m \u001b[0mconn\u001b[0m\u001b[1;33m.\u001b[0m\u001b[0mgetresponse\u001b[0m\u001b[1;33m(\u001b[0m\u001b[0mbuffering\u001b[0m\u001b[1;33m=\u001b[0m\u001b[1;32mTrue\u001b[0m\u001b[1;33m)\u001b[0m\u001b[1;33m\u001b[0m\u001b[0m\n\u001b[0m\u001b[0;32m    381\u001b[0m             \u001b[1;32mexcept\u001b[0m \u001b[0mTypeError\u001b[0m\u001b[1;33m:\u001b[0m  \u001b[1;31m# Python 2.6 and older, Python 3\u001b[0m\u001b[1;33m\u001b[0m\u001b[0m\n",
      "\u001b[1;31mTypeError\u001b[0m: getresponse() got an unexpected keyword argument 'buffering'",
      "\nDuring handling of the above exception, another exception occurred:\n",
      "\u001b[1;31mKeyboardInterrupt\u001b[0m                         Traceback (most recent call last)",
      "\u001b[1;32m<ipython-input-7-d3fd8dfbb4e7>\u001b[0m in \u001b[0;36m<module>\u001b[1;34m()\u001b[0m\n\u001b[0;32m      5\u001b[0m \u001b[0mkv\u001b[0m \u001b[1;33m=\u001b[0m \u001b[1;33m{\u001b[0m\u001b[1;34m\"User-Agent\"\u001b[0m\u001b[1;33m:\u001b[0m \u001b[1;34m\"Mozilla/5.0 (Windows NT 6.1) AppleWebKit/537.36 (KHTML, like Gecko) Chrome/63.0.3239.132 Safari/537.36\"\u001b[0m\u001b[1;33m}\u001b[0m\u001b[1;33m\u001b[0m\u001b[0m\n\u001b[0;32m      6\u001b[0m \u001b[1;33m\u001b[0m\u001b[0m\n\u001b[1;32m----> 7\u001b[1;33m \u001b[0mresponse\u001b[0m \u001b[1;33m=\u001b[0m \u001b[0mrequests\u001b[0m\u001b[1;33m.\u001b[0m\u001b[0mget\u001b[0m\u001b[1;33m(\u001b[0m\u001b[0murl\u001b[0m\u001b[1;33m,\u001b[0m\u001b[0mheaders\u001b[0m \u001b[1;33m=\u001b[0m \u001b[0mkv\u001b[0m\u001b[1;33m,\u001b[0m\u001b[0mallow_redirects\u001b[0m\u001b[1;33m=\u001b[0m\u001b[1;32mFalse\u001b[0m\u001b[1;33m)\u001b[0m\u001b[1;33m\u001b[0m\u001b[0m\n\u001b[0m\u001b[0;32m      8\u001b[0m \u001b[0mhtml\u001b[0m \u001b[1;33m=\u001b[0m \u001b[0mresponse\u001b[0m\u001b[1;33m.\u001b[0m\u001b[0mtext\u001b[0m\u001b[1;33m\u001b[0m\u001b[0m\n\u001b[0;32m      9\u001b[0m \u001b[1;33m\u001b[0m\u001b[0m\n",
      "\u001b[1;32mH:\\Anaconda3\\lib\\site-packages\\requests\\api.py\u001b[0m in \u001b[0;36mget\u001b[1;34m(url, params, **kwargs)\u001b[0m\n\u001b[0;32m     70\u001b[0m \u001b[1;33m\u001b[0m\u001b[0m\n\u001b[0;32m     71\u001b[0m     \u001b[0mkwargs\u001b[0m\u001b[1;33m.\u001b[0m\u001b[0msetdefault\u001b[0m\u001b[1;33m(\u001b[0m\u001b[1;34m'allow_redirects'\u001b[0m\u001b[1;33m,\u001b[0m \u001b[1;32mTrue\u001b[0m\u001b[1;33m)\u001b[0m\u001b[1;33m\u001b[0m\u001b[0m\n\u001b[1;32m---> 72\u001b[1;33m     \u001b[1;32mreturn\u001b[0m \u001b[0mrequest\u001b[0m\u001b[1;33m(\u001b[0m\u001b[1;34m'get'\u001b[0m\u001b[1;33m,\u001b[0m \u001b[0murl\u001b[0m\u001b[1;33m,\u001b[0m \u001b[0mparams\u001b[0m\u001b[1;33m=\u001b[0m\u001b[0mparams\u001b[0m\u001b[1;33m,\u001b[0m \u001b[1;33m**\u001b[0m\u001b[0mkwargs\u001b[0m\u001b[1;33m)\u001b[0m\u001b[1;33m\u001b[0m\u001b[0m\n\u001b[0m\u001b[0;32m     73\u001b[0m \u001b[1;33m\u001b[0m\u001b[0m\n\u001b[0;32m     74\u001b[0m \u001b[1;33m\u001b[0m\u001b[0m\n",
      "\u001b[1;32mH:\\Anaconda3\\lib\\site-packages\\requests\\api.py\u001b[0m in \u001b[0;36mrequest\u001b[1;34m(method, url, **kwargs)\u001b[0m\n\u001b[0;32m     56\u001b[0m     \u001b[1;31m# cases, and look like a memory leak in others.\u001b[0m\u001b[1;33m\u001b[0m\u001b[1;33m\u001b[0m\u001b[0m\n\u001b[0;32m     57\u001b[0m     \u001b[1;32mwith\u001b[0m \u001b[0msessions\u001b[0m\u001b[1;33m.\u001b[0m\u001b[0mSession\u001b[0m\u001b[1;33m(\u001b[0m\u001b[1;33m)\u001b[0m \u001b[1;32mas\u001b[0m \u001b[0msession\u001b[0m\u001b[1;33m:\u001b[0m\u001b[1;33m\u001b[0m\u001b[0m\n\u001b[1;32m---> 58\u001b[1;33m         \u001b[1;32mreturn\u001b[0m \u001b[0msession\u001b[0m\u001b[1;33m.\u001b[0m\u001b[0mrequest\u001b[0m\u001b[1;33m(\u001b[0m\u001b[0mmethod\u001b[0m\u001b[1;33m=\u001b[0m\u001b[0mmethod\u001b[0m\u001b[1;33m,\u001b[0m \u001b[0murl\u001b[0m\u001b[1;33m=\u001b[0m\u001b[0murl\u001b[0m\u001b[1;33m,\u001b[0m \u001b[1;33m**\u001b[0m\u001b[0mkwargs\u001b[0m\u001b[1;33m)\u001b[0m\u001b[1;33m\u001b[0m\u001b[0m\n\u001b[0m\u001b[0;32m     59\u001b[0m \u001b[1;33m\u001b[0m\u001b[0m\n\u001b[0;32m     60\u001b[0m \u001b[1;33m\u001b[0m\u001b[0m\n",
      "\u001b[1;32mH:\\Anaconda3\\lib\\site-packages\\requests\\sessions.py\u001b[0m in \u001b[0;36mrequest\u001b[1;34m(self, method, url, params, data, headers, cookies, files, auth, timeout, allow_redirects, proxies, hooks, stream, verify, cert, json)\u001b[0m\n\u001b[0;32m    506\u001b[0m         }\n\u001b[0;32m    507\u001b[0m         \u001b[0msend_kwargs\u001b[0m\u001b[1;33m.\u001b[0m\u001b[0mupdate\u001b[0m\u001b[1;33m(\u001b[0m\u001b[0msettings\u001b[0m\u001b[1;33m)\u001b[0m\u001b[1;33m\u001b[0m\u001b[0m\n\u001b[1;32m--> 508\u001b[1;33m         \u001b[0mresp\u001b[0m \u001b[1;33m=\u001b[0m \u001b[0mself\u001b[0m\u001b[1;33m.\u001b[0m\u001b[0msend\u001b[0m\u001b[1;33m(\u001b[0m\u001b[0mprep\u001b[0m\u001b[1;33m,\u001b[0m \u001b[1;33m**\u001b[0m\u001b[0msend_kwargs\u001b[0m\u001b[1;33m)\u001b[0m\u001b[1;33m\u001b[0m\u001b[0m\n\u001b[0m\u001b[0;32m    509\u001b[0m \u001b[1;33m\u001b[0m\u001b[0m\n\u001b[0;32m    510\u001b[0m         \u001b[1;32mreturn\u001b[0m \u001b[0mresp\u001b[0m\u001b[1;33m\u001b[0m\u001b[0m\n",
      "\u001b[1;32mH:\\Anaconda3\\lib\\site-packages\\requests\\sessions.py\u001b[0m in \u001b[0;36msend\u001b[1;34m(self, request, **kwargs)\u001b[0m\n\u001b[0;32m    616\u001b[0m \u001b[1;33m\u001b[0m\u001b[0m\n\u001b[0;32m    617\u001b[0m         \u001b[1;31m# Send the request\u001b[0m\u001b[1;33m\u001b[0m\u001b[1;33m\u001b[0m\u001b[0m\n\u001b[1;32m--> 618\u001b[1;33m         \u001b[0mr\u001b[0m \u001b[1;33m=\u001b[0m \u001b[0madapter\u001b[0m\u001b[1;33m.\u001b[0m\u001b[0msend\u001b[0m\u001b[1;33m(\u001b[0m\u001b[0mrequest\u001b[0m\u001b[1;33m,\u001b[0m \u001b[1;33m**\u001b[0m\u001b[0mkwargs\u001b[0m\u001b[1;33m)\u001b[0m\u001b[1;33m\u001b[0m\u001b[0m\n\u001b[0m\u001b[0;32m    619\u001b[0m \u001b[1;33m\u001b[0m\u001b[0m\n\u001b[0;32m    620\u001b[0m         \u001b[1;31m# Total elapsed time of the request (approximately)\u001b[0m\u001b[1;33m\u001b[0m\u001b[1;33m\u001b[0m\u001b[0m\n",
      "\u001b[1;32mH:\\Anaconda3\\lib\\site-packages\\requests\\adapters.py\u001b[0m in \u001b[0;36msend\u001b[1;34m(self, request, stream, timeout, verify, cert, proxies)\u001b[0m\n\u001b[0;32m    438\u001b[0m                     \u001b[0mdecode_content\u001b[0m\u001b[1;33m=\u001b[0m\u001b[1;32mFalse\u001b[0m\u001b[1;33m,\u001b[0m\u001b[1;33m\u001b[0m\u001b[0m\n\u001b[0;32m    439\u001b[0m                     \u001b[0mretries\u001b[0m\u001b[1;33m=\u001b[0m\u001b[0mself\u001b[0m\u001b[1;33m.\u001b[0m\u001b[0mmax_retries\u001b[0m\u001b[1;33m,\u001b[0m\u001b[1;33m\u001b[0m\u001b[0m\n\u001b[1;32m--> 440\u001b[1;33m                     \u001b[0mtimeout\u001b[0m\u001b[1;33m=\u001b[0m\u001b[0mtimeout\u001b[0m\u001b[1;33m\u001b[0m\u001b[0m\n\u001b[0m\u001b[0;32m    441\u001b[0m                 )\n\u001b[0;32m    442\u001b[0m \u001b[1;33m\u001b[0m\u001b[0m\n",
      "\u001b[1;32mH:\\Anaconda3\\lib\\site-packages\\urllib3\\connectionpool.py\u001b[0m in \u001b[0;36murlopen\u001b[1;34m(self, method, url, body, headers, retries, redirect, assert_same_host, timeout, pool_timeout, release_conn, chunked, body_pos, **response_kw)\u001b[0m\n\u001b[0;32m    599\u001b[0m                                                   \u001b[0mtimeout\u001b[0m\u001b[1;33m=\u001b[0m\u001b[0mtimeout_obj\u001b[0m\u001b[1;33m,\u001b[0m\u001b[1;33m\u001b[0m\u001b[0m\n\u001b[0;32m    600\u001b[0m                                                   \u001b[0mbody\u001b[0m\u001b[1;33m=\u001b[0m\u001b[0mbody\u001b[0m\u001b[1;33m,\u001b[0m \u001b[0mheaders\u001b[0m\u001b[1;33m=\u001b[0m\u001b[0mheaders\u001b[0m\u001b[1;33m,\u001b[0m\u001b[1;33m\u001b[0m\u001b[0m\n\u001b[1;32m--> 601\u001b[1;33m                                                   chunked=chunked)\n\u001b[0m\u001b[0;32m    602\u001b[0m \u001b[1;33m\u001b[0m\u001b[0m\n\u001b[0;32m    603\u001b[0m             \u001b[1;31m# If we're going to release the connection in ``finally:``, then\u001b[0m\u001b[1;33m\u001b[0m\u001b[1;33m\u001b[0m\u001b[0m\n",
      "\u001b[1;32mH:\\Anaconda3\\lib\\site-packages\\urllib3\\connectionpool.py\u001b[0m in \u001b[0;36m_make_request\u001b[1;34m(self, conn, method, url, timeout, chunked, **httplib_request_kw)\u001b[0m\n\u001b[0;32m    381\u001b[0m             \u001b[1;32mexcept\u001b[0m \u001b[0mTypeError\u001b[0m\u001b[1;33m:\u001b[0m  \u001b[1;31m# Python 2.6 and older, Python 3\u001b[0m\u001b[1;33m\u001b[0m\u001b[0m\n\u001b[0;32m    382\u001b[0m                 \u001b[1;32mtry\u001b[0m\u001b[1;33m:\u001b[0m\u001b[1;33m\u001b[0m\u001b[0m\n\u001b[1;32m--> 383\u001b[1;33m                     \u001b[0mhttplib_response\u001b[0m \u001b[1;33m=\u001b[0m \u001b[0mconn\u001b[0m\u001b[1;33m.\u001b[0m\u001b[0mgetresponse\u001b[0m\u001b[1;33m(\u001b[0m\u001b[1;33m)\u001b[0m\u001b[1;33m\u001b[0m\u001b[0m\n\u001b[0m\u001b[0;32m    384\u001b[0m                 \u001b[1;32mexcept\u001b[0m \u001b[0mException\u001b[0m \u001b[1;32mas\u001b[0m \u001b[0me\u001b[0m\u001b[1;33m:\u001b[0m\u001b[1;33m\u001b[0m\u001b[0m\n\u001b[0;32m    385\u001b[0m                     \u001b[1;31m# Remove the TypeError from the exception chain in Python 3;\u001b[0m\u001b[1;33m\u001b[0m\u001b[1;33m\u001b[0m\u001b[0m\n",
      "\u001b[1;32mH:\\Anaconda3\\lib\\http\\client.py\u001b[0m in \u001b[0;36mgetresponse\u001b[1;34m(self)\u001b[0m\n\u001b[0;32m   1329\u001b[0m         \u001b[1;32mtry\u001b[0m\u001b[1;33m:\u001b[0m\u001b[1;33m\u001b[0m\u001b[0m\n\u001b[0;32m   1330\u001b[0m             \u001b[1;32mtry\u001b[0m\u001b[1;33m:\u001b[0m\u001b[1;33m\u001b[0m\u001b[0m\n\u001b[1;32m-> 1331\u001b[1;33m                 \u001b[0mresponse\u001b[0m\u001b[1;33m.\u001b[0m\u001b[0mbegin\u001b[0m\u001b[1;33m(\u001b[0m\u001b[1;33m)\u001b[0m\u001b[1;33m\u001b[0m\u001b[0m\n\u001b[0m\u001b[0;32m   1332\u001b[0m             \u001b[1;32mexcept\u001b[0m \u001b[0mConnectionError\u001b[0m\u001b[1;33m:\u001b[0m\u001b[1;33m\u001b[0m\u001b[0m\n\u001b[0;32m   1333\u001b[0m                 \u001b[0mself\u001b[0m\u001b[1;33m.\u001b[0m\u001b[0mclose\u001b[0m\u001b[1;33m(\u001b[0m\u001b[1;33m)\u001b[0m\u001b[1;33m\u001b[0m\u001b[0m\n",
      "\u001b[1;32mH:\\Anaconda3\\lib\\http\\client.py\u001b[0m in \u001b[0;36mbegin\u001b[1;34m(self)\u001b[0m\n\u001b[0;32m    295\u001b[0m         \u001b[1;31m# read until we get a non-100 response\u001b[0m\u001b[1;33m\u001b[0m\u001b[1;33m\u001b[0m\u001b[0m\n\u001b[0;32m    296\u001b[0m         \u001b[1;32mwhile\u001b[0m \u001b[1;32mTrue\u001b[0m\u001b[1;33m:\u001b[0m\u001b[1;33m\u001b[0m\u001b[0m\n\u001b[1;32m--> 297\u001b[1;33m             \u001b[0mversion\u001b[0m\u001b[1;33m,\u001b[0m \u001b[0mstatus\u001b[0m\u001b[1;33m,\u001b[0m \u001b[0mreason\u001b[0m \u001b[1;33m=\u001b[0m \u001b[0mself\u001b[0m\u001b[1;33m.\u001b[0m\u001b[0m_read_status\u001b[0m\u001b[1;33m(\u001b[0m\u001b[1;33m)\u001b[0m\u001b[1;33m\u001b[0m\u001b[0m\n\u001b[0m\u001b[0;32m    298\u001b[0m             \u001b[1;32mif\u001b[0m \u001b[0mstatus\u001b[0m \u001b[1;33m!=\u001b[0m \u001b[0mCONTINUE\u001b[0m\u001b[1;33m:\u001b[0m\u001b[1;33m\u001b[0m\u001b[0m\n\u001b[0;32m    299\u001b[0m                 \u001b[1;32mbreak\u001b[0m\u001b[1;33m\u001b[0m\u001b[0m\n",
      "\u001b[1;32mH:\\Anaconda3\\lib\\http\\client.py\u001b[0m in \u001b[0;36m_read_status\u001b[1;34m(self)\u001b[0m\n\u001b[0;32m    256\u001b[0m \u001b[1;33m\u001b[0m\u001b[0m\n\u001b[0;32m    257\u001b[0m     \u001b[1;32mdef\u001b[0m \u001b[0m_read_status\u001b[0m\u001b[1;33m(\u001b[0m\u001b[0mself\u001b[0m\u001b[1;33m)\u001b[0m\u001b[1;33m:\u001b[0m\u001b[1;33m\u001b[0m\u001b[0m\n\u001b[1;32m--> 258\u001b[1;33m         \u001b[0mline\u001b[0m \u001b[1;33m=\u001b[0m \u001b[0mstr\u001b[0m\u001b[1;33m(\u001b[0m\u001b[0mself\u001b[0m\u001b[1;33m.\u001b[0m\u001b[0mfp\u001b[0m\u001b[1;33m.\u001b[0m\u001b[0mreadline\u001b[0m\u001b[1;33m(\u001b[0m\u001b[0m_MAXLINE\u001b[0m \u001b[1;33m+\u001b[0m \u001b[1;36m1\u001b[0m\u001b[1;33m)\u001b[0m\u001b[1;33m,\u001b[0m \u001b[1;34m\"iso-8859-1\"\u001b[0m\u001b[1;33m)\u001b[0m\u001b[1;33m\u001b[0m\u001b[0m\n\u001b[0m\u001b[0;32m    259\u001b[0m         \u001b[1;32mif\u001b[0m \u001b[0mlen\u001b[0m\u001b[1;33m(\u001b[0m\u001b[0mline\u001b[0m\u001b[1;33m)\u001b[0m \u001b[1;33m>\u001b[0m \u001b[0m_MAXLINE\u001b[0m\u001b[1;33m:\u001b[0m\u001b[1;33m\u001b[0m\u001b[0m\n\u001b[0;32m    260\u001b[0m             \u001b[1;32mraise\u001b[0m \u001b[0mLineTooLong\u001b[0m\u001b[1;33m(\u001b[0m\u001b[1;34m\"status line\"\u001b[0m\u001b[1;33m)\u001b[0m\u001b[1;33m\u001b[0m\u001b[0m\n",
      "\u001b[1;32mH:\\Anaconda3\\lib\\socket.py\u001b[0m in \u001b[0;36mreadinto\u001b[1;34m(self, b)\u001b[0m\n\u001b[0;32m    584\u001b[0m         \u001b[1;32mwhile\u001b[0m \u001b[1;32mTrue\u001b[0m\u001b[1;33m:\u001b[0m\u001b[1;33m\u001b[0m\u001b[0m\n\u001b[0;32m    585\u001b[0m             \u001b[1;32mtry\u001b[0m\u001b[1;33m:\u001b[0m\u001b[1;33m\u001b[0m\u001b[0m\n\u001b[1;32m--> 586\u001b[1;33m                 \u001b[1;32mreturn\u001b[0m \u001b[0mself\u001b[0m\u001b[1;33m.\u001b[0m\u001b[0m_sock\u001b[0m\u001b[1;33m.\u001b[0m\u001b[0mrecv_into\u001b[0m\u001b[1;33m(\u001b[0m\u001b[0mb\u001b[0m\u001b[1;33m)\u001b[0m\u001b[1;33m\u001b[0m\u001b[0m\n\u001b[0m\u001b[0;32m    587\u001b[0m             \u001b[1;32mexcept\u001b[0m \u001b[0mtimeout\u001b[0m\u001b[1;33m:\u001b[0m\u001b[1;33m\u001b[0m\u001b[0m\n\u001b[0;32m    588\u001b[0m                 \u001b[0mself\u001b[0m\u001b[1;33m.\u001b[0m\u001b[0m_timeout_occurred\u001b[0m \u001b[1;33m=\u001b[0m \u001b[1;32mTrue\u001b[0m\u001b[1;33m\u001b[0m\u001b[0m\n",
      "\u001b[1;31mKeyboardInterrupt\u001b[0m: "
     ]
    }
   ],
   "source": [
    "url = 'http://www.bjsubway.com/e/action/ListInfo/?classid=39&ph=1'\n",
    "url2='https://map.bjsubway.com/'\n",
    "import requests\n",
    "\n",
    "kv = {\"User-Agent\": \"Mozilla/5.0 (Windows NT 6.1) AppleWebKit/537.36 (KHTML, like Gecko) Chrome/63.0.3239.132 Safari/537.36\"}\n",
    "\n",
    "response = requests.get(url,headers = kv,allow_redirects=False)\n",
    "html = response.text\n",
    "\n",
    "\n",
    "html\n",
    "\n"
   ]
  },
  {
   "cell_type": "code",
   "execution_count": 2,
   "metadata": {},
   "outputs": [
    {
     "ename": "NameError",
     "evalue": "name 'html' is not defined",
     "output_type": "error",
     "traceback": [
      "\u001b[1;31m---------------------------------------------------------------------------\u001b[0m",
      "\u001b[1;31mNameError\u001b[0m                                 Traceback (most recent call last)",
      "\u001b[1;32m<ipython-input-2-b603aa56bed2>\u001b[0m in \u001b[0;36m<module>\u001b[1;34m()\u001b[0m\n\u001b[0;32m      1\u001b[0m \u001b[1;32mfrom\u001b[0m \u001b[0mbs4\u001b[0m \u001b[1;32mimport\u001b[0m \u001b[0mBeautifulSoup\u001b[0m\u001b[1;33m\u001b[0m\u001b[0m\n\u001b[1;32m----> 2\u001b[1;33m \u001b[0msoup\u001b[0m \u001b[1;33m=\u001b[0m \u001b[0mBeautifulSoup\u001b[0m\u001b[1;33m(\u001b[0m\u001b[0mhtml\u001b[0m\u001b[1;33m,\u001b[0m\u001b[1;34m'lxml'\u001b[0m\u001b[1;33m)\u001b[0m\u001b[1;33m\u001b[0m\u001b[0m\n\u001b[0m\u001b[0;32m      3\u001b[0m \u001b[0msoup\u001b[0m\u001b[1;33m.\u001b[0m\u001b[0mfind_all\u001b[0m\u001b[1;33m(\u001b[0m\u001b[1;34m'th'\u001b[0m\u001b[1;33m)\u001b[0m\u001b[1;33m\u001b[0m\u001b[0m\n",
      "\u001b[1;31mNameError\u001b[0m: name 'html' is not defined"
     ]
    }
   ],
   "source": [
    "from bs4 import BeautifulSoup\n",
    "soup = BeautifulSoup(html,'lxml')\n",
    "soup.find_all('th')"
   ]
  },
  {
   "cell_type": "code",
   "execution_count": 1,
   "metadata": {
    "collapsed": true
   },
   "outputs": [],
   "source": [
    "from bs4 import BeautifulSoup\n",
    "database = 'C:/Users/Administrator/mywork/lession3/allstations.txt'\n",
    "line1_station = open(database).read()\n",
    "ss = line1_station.replace('\\n','').replace(',','')"
   ]
  },
  {
   "cell_type": "code",
   "execution_count": 2,
   "metadata": {},
   "outputs": [
    {
     "data": {
      "text/plain": [
       "['<th>苹果园</th> <th>古城</th> <th>八角游乐园</th> <th>八宝山</th> <th>玉泉路</th> <th>五棵松</th> <th>万寿路</th> <th>公主坟</th> <th>军事博物馆</th> <th>木樨地</th> <th>南礼士路</th> <th>复兴门</th> <th>西单</th> <th>天安门西</th> <th>天安门东</th> <th>王府井</th> <th>东单</th> <th>建国门</th> <th>永安里</th> <th>国贸</th> <th>大望路</th> <th>四惠</th> <th>四惠东</th>',\n",
       " ' <th> 西直门</th> <th> 积水潭</th> <th> 鼓楼大街</th> <th> 安定门</th> <th> 雍和宫</th> <th> 东直门</th> <th> 东四十条</th> <th> 朝阳门</th> <th> 建国门</th> <th> 北京站</th> <th> 崇文门</th> <th> 前门</th> <th> 和平门</th> <th> 宣武门</th> <th> 长椿街</th> <th> 复兴门</th> <th> 阜成门</th> <th> 车公庄</th> ',\n",
       " ' <th>天宫院</th> <th>安河桥北</th> <th>生物医院基地</th> <th>北宫门</th> <th>义和庄</th> <th>西苑</th> <th>黄村火车站</th> <th>圆明园</th> <th>黄村西大街</th> <th>北京大学东门</th> <th>清源路</th> <th>中关村</th> <th>枣园</th> <th>海淀黄庄</th> <th>高米店南</th> <th>人民大学</th> <th>高米店北</th> <th>魏公村</th> <th>西红门</th> <th>国家图书馆</th> <th>新宫</th> <th>动物园</th> <th>公益西桥</th> <th>西直门</th> <th>角门西</th> <th>新街口</th> <th>马家堡</th> <th>平安里</th> <th>北京南站</th> <th>西四</th> <th>陶然亭</th> <th>灵境胡同</th> <th>菜市口</th> <th>西单</th> <th>宣武门</th>',\n",
       " ' <th> 宋家庄</th> <th> 刘家窑</th> <th> 蒲黄榆</th> <th> 天坛东门</th> <th> 磁器口</th> <th> 崇文门</th> <th> 东单</th> <th> 灯市口</th> <th> 东四</th> <th> 张自忠路</th> <th> 北新桥</th> <th> 雍和宫</th> <th> 和平里北街</th> <th> 和平西桥</th> <th> 惠新西街南口</th> <th> 惠新西街北口</th> <th> 大屯路东</th> <th> 北苑路北</th> <th> 立水桥南</th> <th> 立水桥</th> <th> 天通苑南</th> <th> 天通苑</th> <th> 天通苑北</th> ',\n",
       " ' <th> 金安桥</th> <th> 苹果园</th> <th> 杨庄</th> <th> 西黄村</th> <th> 廖公庄</th> <th> 田村</th> <th> 海淀五路居</th> <th> 慈寿寺</th> <th> 花园桥</th> <th> 白石桥南</th> <th> 车公庄西</th> <th> 车公庄</th> <th> 平安里</th> <th> 北海北</th> <th> 南锣鼓巷</th> <th> 东四</th> <th> 朝阳门</th> <th> 东大桥</th> <th> 呼家楼</th> <th> 金台路</th> <th> 十里堡</th> <th> 青年路</th> <th> 褡裢坡</th> <th> 黄渠</th> <th> 常营</th> <th> 草房</th> <th> 物资学院路</th> <th> 通州北关</th> <th> 通运门</th> <th> 北运河西</th> <th> 北运河东</th> <th> 郝家府</th> <th> 东夏园</th> <th> 潞城</th>',\n",
       " ' <th> 北京西站</th> <th> 湾子</th> <th> 达官营</th> <th> 广安门内</th> <th> 菜市口</th> <th> 虎坊桥</th> <th> 珠市口</th> <th> 桥湾</th> <th> 磁器口</th> <th> 广渠门内</th> <th> 广渠门外</th> <th> 双井</th> <th> 九龙山</th> <th> 大郊亭</th> <th> 百子湾</th> <th> 化工</th> <th> 南楼梓庄</th> <th> 欢乐谷景区</th> <th> 垡头</th> <th> 双合</th> <th> 焦化厂</th> ',\n",
       " ' <th> 朱辛庄</th> <th> 育知路</th> <th> 平西府</th> <th> 回龙观东大街</th> <th> 霍营</th> <th> 育新</th> <th> 西小口</th> <th> 永泰庄</th> <th> 林萃桥</th> <th> 森林公园南门</th> <th> 奥林匹克公园</th> <th> 奥体中心</th> <th> 北土城</th> <th> 安华桥</th> <th> 安德里北街</th> <th> 鼓楼大街</th> <th> 什刹海</th> <th> 南锣鼓巷</th> <th> 中国美术馆</th>',\n",
       " ' <th> 瀛海</th> <th> 德茂</th> <th> 五福堂</th> <th> 火箭万源</th> <th> 东高地</th> <th> 和义</th> <th> 大红门南</th> <th> 大红门</th> <th> 海户屯</th> <th> 木樨园</th> <th> 永定门外</th> <th> 天桥</th> <th> 珠市口</th>',\n",
       " ' <th> 郭公庄</th> <th> 丰台科技园</th> <th> 科怡路</th> <th> 丰台南路</th> <th> 丰台东大街</th> <th> 七里庄</th> <th> 六里桥</th> <th> 六里桥东</th> <th> 北京西站</th> <th> 军事博物馆</th> <th> 白堆子</th> <th> 白石桥南</th> <th> 国家图书馆</th> ',\n",
       " '  <th>十里河</th> <th>分钟寺</th> <th>分钟寺</th> <th>成寿寺</th> <th>成寿寺</th> <th>宋家庄</th> <th>宋家庄</th> <th>石榴庄</th> <th>石榴庄</th> <th>大红门</th> <th>大红门</th> <th>角门东</th> <th>角门东</th> <th>角门西</th> <th>角门西</th> <th>草桥</th> <th>草桥</th> <th>纪家庙</th> <th>纪家庙</th> <th>首经贸</th> <th>首经贸</th> <th>丰台站</th> <th>丰台站</th> <th>泥洼</th> <th>泥洼</th> <th>西局</th> <th>西局</th> <th>六里桥</th> <th>六里桥</th> <th>莲花桥</th> <th>莲花桥</th> <th>公主坟</th> <th>公主坟</th> <th>西钓鱼台</th> <th>西钓鱼台</th> <th>慈寿寺</th> <th>慈寿寺</th> <th>车道沟</th> <th>车道沟</th> <th>长春桥</th> <th>长春桥</th> <th>火器营</th> <th>火器营</th> <th>巴沟</th>',\n",
       " ' <th> 西直门</th> <th> 大钟寺</th> <th> 知春路</th> <th> 五道口</th> <th> 上地</th> <th> 西二旗</th> <th> 龙泽</th> <th> 回龙观</th> <th> 霍营</th> <th> 立水桥</th> <th> 北苑</th> <th> 望京西</th> <th> 芍药居</th> <th> 光熙门</th> <th> 柳芳</th> <th> 东直门</th>',\n",
       " ' <th colspan=\"2\">张郭庄</th> <th colspan=\"2\">园博园</th> <th colspan=\"2\">大瓦窑</th> <th colspan=\"2\">郭庄子</th> <th colspan=\"2\">大井</th> <th colspan=\"2\">七里庄</th> <th colspan=\"2\">西局</th> ',\n",
       " ' <th>北京南站</th> <th>永定门外</th> <th>景泰</th> <th>蒲黄榆</th> <th>方庄</th> <th>十里河</th> <th>北工大西门</th> <th>平乐园</th> <th>九龙山</th> <th>大望路</th> <th>金台路</th> <th>朝阳公园</th> <th>枣营</th> <th>东风北桥</th> <th>将台</th> <th>望京南</th> <th>阜通</th> <th>望京</th> <th>东湖渠</th> <th>来广营</th> <th>善各庄</th>',\n",
       " ' <th> 俸伯</th> <th> 顺义</th> <th> 石门</th> <th> 南法信</th> <th> 后沙峪</th> <th> 花梨坎</th> <th> 国展</th> <th> 孙河</th> <th> 马泉营</th> <th> 崔各庄</th> <th> 望京东</th> <th> 望京</th> <th> 望京西</th> <th> 关庄</th> <th> 大屯路东</th> <th> 安立路</th> <th> 奥林匹克公园</th> <th> 北沙滩</th> <th> 六道口</th> <th> 清华东路西口</th> ',\n",
       " ' <th>西苑</th> <th>农大南路</th> <th>马连洼</th> <th>西北旺</th> <th>永丰南</th> <th>永丰</th> <th>屯佃</th> <th>稻香湖路</th> <th>温阳路</th> <th>北安河</th>',\n",
       " ' <th> 四惠</th> <th> 四惠东</th> <th> 高碑店</th> <th> 传媒大学</th> <th> 双桥</th> <th> 管庄</th> <th> 八里桥</th> <th> 通州北苑</th> <th> 果园</th> <th> 九棵树</th> <th> 梨园</th> <th> 临河里</th> <th> 土桥</th>',\n",
       " ' <th> 昌平西山口</th> <th> 十三陵景区</th> <th> 昌平</th> <th> 昌平东关</th> <th> 北邵洼</th> <th> 南邵</th> <th> 沙河高教园</th> <th> 沙河</th> <th> 巩华城</th> <th> 朱辛庄</th> <th> 生命科学园</th> <th> 西二旗</th>',\n",
       " ' <th> 宋家庄</th> <th> 肖村</th> <th> 小红门</th> <th> 旧宫</th> <th> 亦庄桥</th> <th> 亦庄文化园</th> <th> 万源街</th> <th> 荣京东街</th> <th> 荣昌东街</th> <th> 同济南路</th> <th> 经海路</th> <th> 次渠南</th> <th> 次渠</th> <th> 亦庄火车站</th>',\n",
       " ' <th> 郭公庄</th> <th> 大葆台</th> <th> 稻田</th> <th> 长阳</th> <th> 篱笆房</th> <th> 广阳城</th> <th> 良乡大学城北</th> <th> 良乡大学城</th> <th> 良乡大学城西</th> <th> 良乡南关</th> <th> 苏庄</th> <th> 阎村东</th>',\n",
       " ' <th style=\"background:#DEAF90;\"> 金安桥</th> <th style=\"background:#DEAF90;\"> 四道桥</th> <th style=\"background:#DEAF90;\"> 桥户营</th> <th style=\"background:#DEAF90;\"> 上岸</th> <th style=\"background:#DEAF90;\"> 栗园庄</th> <th style=\"background:#DEAF90;\"> 小园</th> <th style=\"background:#DEAF90;\"> 石厂</th>',\n",
       " ' <th> 阎村东</th> <th> 紫草坞</th> <th> 阎村</th> <th> 星城</th> <th> 大石河东</th> <th> 马各庄</th> <th> 饶乐府</th> <th> 房山城关</th> <th> 燕山</th>']"
      ]
     },
     "execution_count": 2,
     "metadata": {},
     "output_type": "execute_result"
    }
   ],
   "source": [
    "line = ss.split('<br>')\n",
    "line"
   ]
  },
  {
   "cell_type": "code",
   "execution_count": 3,
   "metadata": {
    "collapsed": true
   },
   "outputs": [],
   "source": [
    "\n",
    "line_stations=[]\n",
    "for i,l in enumerate(line):\n",
    "    soup = BeautifulSoup(l,'lxml')\n",
    "    e = soup.get_text()\n",
    "   \n",
    "    s = [w for w in e.split(' ') if w.strip()]\n",
    "    line_stations.append(s)"
   ]
  },
  {
   "cell_type": "code",
   "execution_count": 4,
   "metadata": {
    "collapsed": true
   },
   "outputs": [],
   "source": [
    "\n",
    "from collections import defaultdict"
   ]
  },
  {
   "cell_type": "code",
   "execution_count": 5,
   "metadata": {
    "collapsed": true
   },
   "outputs": [],
   "source": [
    "stations_connection = defaultdict(list)\n",
    "for li in line_stations:\n",
    "    for i, s in enumerate(li):\n",
    "        if i==0:\n",
    "            stations_connection[s].append(li[i+1])\n",
    "        elif i==len(li)-1:\n",
    "            stations_connection[s].append(li[i-1])\n",
    "        else:\n",
    "            stations_connection[s].append(li[i-1])\n",
    "            stations_connection[s].append(li[i+1])\n",
    "    "
   ]
  },
  {
   "cell_type": "code",
   "execution_count": 6,
   "metadata": {},
   "outputs": [
    {
     "data": {
      "text/plain": [
       "['房山城关']"
      ]
     },
     "execution_count": 6,
     "metadata": {},
     "output_type": "execute_result"
    }
   ],
   "source": [
    "stations_connection['燕山']"
   ]
  },
  {
   "cell_type": "code",
   "execution_count": 7,
   "metadata": {
    "collapsed": true
   },
   "outputs": [],
   "source": [
    "import networkx as nx\n",
    "%matplotlib inline\n",
    "stations_connection_graph = nx.Graph(stations_connection)"
   ]
  },
  {
   "cell_type": "code",
   "execution_count": 8,
   "metadata": {},
   "outputs": [
    {
     "name": "stderr",
     "output_type": "stream",
     "text": [
      "H:\\Anaconda3\\lib\\site-packages\\networkx\\drawing\\nx_pylab.py:126: MatplotlibDeprecationWarning: pyplot.hold is deprecated.\n",
      "    Future behavior will be consistent with the long-time default:\n",
      "    plot commands add elements without first clearing the\n",
      "    Axes and/or Figure.\n",
      "  b = plt.ishold()\n",
      "H:\\Anaconda3\\lib\\site-packages\\networkx\\drawing\\nx_pylab.py:138: MatplotlibDeprecationWarning: pyplot.hold is deprecated.\n",
      "    Future behavior will be consistent with the long-time default:\n",
      "    plot commands add elements without first clearing the\n",
      "    Axes and/or Figure.\n",
      "  plt.hold(b)\n",
      "H:\\Anaconda3\\lib\\site-packages\\matplotlib\\__init__.py:917: UserWarning: axes.hold is deprecated. Please remove it from your matplotlibrc and/or style files.\n",
      "  warnings.warn(self.msg_depr_set % key)\n",
      "H:\\Anaconda3\\lib\\site-packages\\matplotlib\\rcsetup.py:152: UserWarning: axes.hold is deprecated, will be removed in 3.0\n",
      "  warnings.warn(\"axes.hold is deprecated, will be removed in 3.0\")\n"
     ]
    },
    {
     "data": {
      "image/png": "[encoded data removed]",
      "text/plain": [
       "<matplotlib.figure.Figure at 0x48edef0>"
      ]
     },
     "metadata": {},
     "output_type": "display_data"
    }
   ],
   "source": [
    "#找不到坐标的HTML，只有站点的分别\n",
    "nx.draw(stations_connection_graph)"
   ]
  },
  {
   "cell_type": "code",
   "execution_count": 9,
   "metadata": {
    "collapsed": true
   },
   "outputs": [],
   "source": [
    "def is_goal(desitination):\n",
    "    def _wrap(current_path):\n",
    "        return current_path[-1] == desitination\n",
    "    return _wrap"
   ]
  },
  {
   "cell_type": "code",
   "execution_count": 10,
   "metadata": {
    "collapsed": true
   },
   "outputs": [],
   "source": [
    "def search(graph, start, is_goal, search_strategy):\n",
    "    pathes = [[start] ]\n",
    "    seen = set()\n",
    "    \n",
    "    while pathes:\n",
    "        path = pathes.pop(0)\n",
    "        froniter = path[-1]\n",
    "        \n",
    "        if froniter in seen: continue\n",
    "            \n",
    "        successors = graph[froniter]\n",
    "        \n",
    "        for city in successors: \n",
    "            if city in path: continue\n",
    "            \n",
    "            new_path = path+[city]\n",
    "            \n",
    "            pathes.append(new_path)\n",
    "        \n",
    "            if is_goal(new_path): return new_path\n",
    "        seen.add(froniter)\n",
    "        pathes = search_strategy(pathes)"
   ]
  },
  {
   "cell_type": "code",
   "execution_count": 11,
   "metadata": {
    "collapsed": true
   },
   "outputs": [],
   "source": [
    "def sort_path(cmp_func, beam=-1):\n",
    "    def _sorted(pathes):\n",
    "        return sorted(pathes, key=cmp_func)[:beam]\n",
    "    return _sorted"
   ]
  },
  {
   "cell_type": "code",
   "execution_count": 12,
   "metadata": {},
   "outputs": [
    {
     "data": {
      "text/plain": [
       "['燕山',\n",
       " '房山城关',\n",
       " '饶乐府',\n",
       " '马各庄',\n",
       " '大石河东',\n",
       " '星城',\n",
       " '阎村',\n",
       " '紫草坞',\n",
       " '阎村东',\n",
       " '苏庄',\n",
       " '良乡南关',\n",
       " '良乡大学城西',\n",
       " '良乡大学城',\n",
       " '良乡大学城北',\n",
       " '广阳城',\n",
       " '篱笆房',\n",
       " '长阳',\n",
       " '稻田',\n",
       " '大葆台',\n",
       " '郭公庄',\n",
       " '丰台科技园',\n",
       " '科怡路',\n",
       " '丰台南路',\n",
       " '丰台东大街',\n",
       " '七里庄',\n",
       " '六里桥',\n",
       " '莲花桥',\n",
       " '公主坟',\n",
       " '万寿路',\n",
       " '五棵松',\n",
       " '玉泉路',\n",
       " '八宝山',\n",
       " '八角游乐园',\n",
       " '古城',\n",
       " '苹果园']"
      ]
     },
     "execution_count": 12,
     "metadata": {},
     "output_type": "execute_result"
    }
   ],
   "source": [
    "\n",
    "search(stations_connection, start='燕山', is_goal=is_goal('苹果园'), search_strategy=lambda n: n)"
   ]
  },
  {
   "cell_type": "code",
   "execution_count": 13,
   "metadata": {
    "collapsed": true
   },
   "outputs": [],
   "source": [
    "def get_total_station(path):\n",
    "    return len(path)"
   ]
  },
  {
   "cell_type": "code",
   "execution_count": 14,
   "metadata": {
    "collapsed": true
   },
   "outputs": [],
   "source": [
    "\n",
    "def get_as_much_path(path): \n",
    "    return -1 * len(path)"
   ]
  },
  {
   "cell_type": "code",
   "execution_count": 15,
   "metadata": {},
   "outputs": [
    {
     "data": {
      "text/plain": [
       "['苹果园',\n",
       " '古城',\n",
       " '八角游乐园',\n",
       " '八宝山',\n",
       " '玉泉路',\n",
       " '五棵松',\n",
       " '万寿路',\n",
       " '公主坟',\n",
       " '军事博物馆',\n",
       " '木樨地',\n",
       " '南礼士路',\n",
       " '复兴门',\n",
       " '西单',\n",
       " '天安门西',\n",
       " '天安门东',\n",
       " '王府井',\n",
       " '东单',\n",
       " '建国门',\n",
       " '永安里',\n",
       " '国贸',\n",
       " '大望路']"
      ]
     },
     "execution_count": 15,
     "metadata": {},
     "output_type": "execute_result"
    }
   ],
   "source": [
    "search(stations_connection, start='苹果园', is_goal=is_goal('大望路'), search_strategy=sort_path(get_total_station, beam=10))"
   ]
  },
  {
   "cell_type": "code",
   "execution_count": null,
   "metadata": {},
   "outputs": [],
   "source": []
  },
  {
   "cell_type": "code",
   "execution_count": 16,
   "metadata": {
    "collapsed": true
   },
   "outputs": [],
   "source": [
    "stations = search(stations_connection, start='燕山', is_goal=is_goal('东直门'), search_strategy=sort_path(get_total_station, beam=10))\n",
    "\n"
   ]
  },
  {
   "cell_type": "code",
   "execution_count": 17,
   "metadata": {},
   "outputs": [
    {
     "data": {
      "text/plain": [
       "['燕山',\n",
       " '房山城关',\n",
       " '饶乐府',\n",
       " '马各庄',\n",
       " '大石河东',\n",
       " '星城',\n",
       " '阎村',\n",
       " '紫草坞',\n",
       " '阎村东',\n",
       " '苏庄',\n",
       " '良乡南关',\n",
       " '良乡大学城西',\n",
       " '良乡大学城',\n",
       " '良乡大学城北',\n",
       " '广阳城',\n",
       " '篱笆房',\n",
       " '长阳',\n",
       " '稻田',\n",
       " '大葆台',\n",
       " '郭公庄',\n",
       " '丰台科技园',\n",
       " '科怡路',\n",
       " '丰台南路',\n",
       " '丰台东大街',\n",
       " '七里庄',\n",
       " '西局',\n",
       " '泥洼',\n",
       " '丰台站',\n",
       " '首经贸',\n",
       " '纪家庙',\n",
       " '草桥',\n",
       " '角门西',\n",
       " '西直门',\n",
       " '积水潭',\n",
       " '鼓楼大街',\n",
       " '安定门',\n",
       " '雍和宫',\n",
       " '东直门']"
      ]
     },
     "execution_count": 17,
     "metadata": {},
     "output_type": "execute_result"
    }
   ],
   "source": [
    "stations"
   ]
  },
  {
   "cell_type": "code",
   "execution_count": 18,
   "metadata": {},
   "outputs": [
    {
     "data": {
      "text/plain": [
       "38"
      ]
     },
     "execution_count": 18,
     "metadata": {},
     "output_type": "execute_result"
    }
   ],
   "source": [
    "len(stations)"
   ]
  },
  {
   "cell_type": "code",
   "execution_count": 19,
   "metadata": {},
   "outputs": [
    {
     "ename": "SyntaxError",
     "evalue": "invalid character in identifier (<ipython-input-19-f3b8c4f4893a>, line 3)",
     "output_type": "error",
     "traceback": [
      "\u001b[1;36m  File \u001b[1;32m\"<ipython-input-19-f3b8c4f4893a>\"\u001b[1;36m, line \u001b[1;32m3\u001b[0m\n\u001b[1;33m    燕房线（8站）\u001b[0m\n\u001b[1;37m          ^\u001b[0m\n\u001b[1;31mSyntaxError\u001b[0m\u001b[1;31m:\u001b[0m invalid character in identifier\n"
     ]
    }
   ],
   "source": [
    "#百度地图搜索结果：燕山 to 东直门 ，结果一致\n",
    "燕山  \n",
    "燕房线（8站）\n",
    "房山城关\n",
    "饶乐府\n",
    "马各庄\n",
    "大石河东\n",
    "星城\n",
    "阎村\n",
    "紫草坞\n",
    "阎村东约22分钟  \n",
    "房山线（11站）\n",
    "苏庄\n",
    "良乡南关\n",
    "良乡大学城西\n",
    "良乡大学城\n",
    "良乡大学城北\n",
    "广阳城\n",
    "篱笆房\n",
    "长阳\n",
    "稻田\n",
    "大葆台\n",
    "郭公庄约1小时10分钟  \n",
    "9号线（6站）\n",
    "丰台科技园\n",
    "科怡路\n",
    "丰台南路\n",
    "丰台东大街\n",
    "七里庄\n",
    "六里桥约1小时27分钟  \n",
    "10号线（2站）\n",
    "莲花桥\n",
    "公主坟约1小时34分钟  \n",
    "1号线（10站）\n",
    "军事博物馆\n",
    "木樨地\n",
    "南礼士路\n",
    "复兴门\n",
    "西单\n",
    "天安门西\n",
    "天安门东\n",
    "王府井\n",
    "东单\n",
    "建国门约2小时  \n",
    "2号线（3站）\n",
    "朝阳门\n",
    "东四十条\n",
    "东直门"
   ]
  },
  {
   "cell_type": "code",
   "execution_count": 20,
   "metadata": {
    "collapsed": true
   },
   "outputs": [],
   "source": [
    "#这个不知道为什么出不来\n",
    "search(stations_connection, start='古城', is_goal=is_goal('安河桥北'), search_strategy=sort_path(get_as_much_path, beam=10))"
   ]
  },
  {
   "cell_type": "code",
   "execution_count": null,
   "metadata": {
    "collapsed": true
   },
   "outputs": [],
   "source": []
  },
  {
   "cell_type": "code",
   "execution_count": 21,
   "metadata": {
    "collapsed": true
   },
   "outputs": [],
   "source": [
    "# search with by_way stations"
   ]
  },
  {
   "cell_type": "code",
   "execution_count": 22,
   "metadata": {
    "collapsed": true
   },
   "outputs": [],
   "source": [
    "def is_by_way_path(by_way_stations):\n",
    "    def _inner(path):\n",
    "        for p in by_way_stations.split():\n",
    "            if p not in path:\n",
    "                return False\n",
    "        return True\n",
    "    return _inner\n",
    "    "
   ]
  },
  {
   "cell_type": "code",
   "execution_count": 45,
   "metadata": {
    "collapsed": true
   },
   "outputs": [],
   "source": [
    "def search_by_way(graph, start, is_goal,is_by_way_path, search_strategy):\n",
    "    pathes = [[start] ]\n",
    "    seen = set()\n",
    "    \n",
    "    while pathes:\n",
    "        path = pathes.pop(0)\n",
    "        froniter = path[-1]\n",
    "        \n",
    "        #if froniter in seen: continue\n",
    "            \n",
    "        successors = graph[froniter]\n",
    "        for city in successors: \n",
    "            if city in path: continue\n",
    "            \n",
    "            new_path = path+[city]\n",
    "            if is_goal(new_path): \n",
    "                if is_by_way_path(new_path):return new_path\n",
    "                else:continue\n",
    "            pathes.append(new_path)\n",
    "        \n",
    "        seen.add(froniter)\n",
    "        pathes = search_strategy(pathes)"
   ]
  },
  {
   "cell_type": "code",
   "execution_count": 46,
   "metadata": {},
   "outputs": [
    {
     "data": {
      "text/plain": [
       "['公主坟', '军事博物馆', '北京西站', '湾子']"
      ]
     },
     "execution_count": 46,
     "metadata": {},
     "output_type": "execute_result"
    }
   ],
   "source": [
    "\n",
    "search(stations_connection, start='公主坟', is_goal=is_goal('湾子'), search_strategy=sort_path(get_total_station, beam=10))\n"
   ]
  },
  {
   "cell_type": "code",
   "execution_count": 47,
   "metadata": {},
   "outputs": [
    {
     "data": {
      "text/plain": [
       "['公主坟',\n",
       " '莲花桥',\n",
       " '六里桥',\n",
       " '西局',\n",
       " '泥洼',\n",
       " '丰台站',\n",
       " '首经贸',\n",
       " '纪家庙',\n",
       " '草桥',\n",
       " '角门西',\n",
       " '西直门',\n",
       " '积水潭',\n",
       " '鼓楼大街',\n",
       " '安定门',\n",
       " '雍和宫',\n",
       " '东直门',\n",
       " '东四十条',\n",
       " '朝阳门',\n",
       " '建国门',\n",
       " '东单',\n",
       " '王府井',\n",
       " '天安门东',\n",
       " '天安门西',\n",
       " '西单',\n",
       " '复兴门',\n",
       " '南礼士路',\n",
       " '木樨地',\n",
       " '军事博物馆',\n",
       " '北京西站',\n",
       " '湾子']"
      ]
     },
     "execution_count": 47,
     "metadata": {},
     "output_type": "execute_result"
    }
   ],
   "source": [
    "search_by_way(stations_connection, start='公主坟', is_goal=is_goal('湾子'),is_by_way_path = is_by_way_path('西局 复兴门') ,search_strategy=sort_path(get_total_station, beam=10))"
   ]
  },
  {
   "cell_type": "code",
   "execution_count": 48,
   "metadata": {},
   "outputs": [],
   "source": [
    "#从公主坟到湾子经过六里桥，七里庄，最优路线需要重复经过某些站点，但是由于代码里设置了一下两个防止重复的语句\n",
    "# 1、if froniter in seen: continue\n",
    "# 2、if city in path: continue\n",
    "#所以代码会找出一条没有重复站点的，并经过必经站点的路线，但是路线非常臃肿\n",
    "#这种情况下，如果所有必经站点不需要重复走某些站，那么代码是可以实现的\n",
    "#但是如果某些情况下，必须重复走某些站点才可以经过所有必经站点，那么代码无法显示结果\n",
    "#且1和2只能注释掉其中一个，两个都不注释有些情况会没有结果，连个都注释的话结果出不来\n",
    "#可能有更好的办法，但暂时想不到\n",
    "search_by_way(stations_connection, start='公主坟', is_goal=is_goal('湾子'),is_by_way_path = is_by_way_path('六里桥 七里庄') ,search_strategy=sort_path(get_total_station, beam=10))"
   ]
  },
  {
   "cell_type": "code",
   "execution_count": 32,
   "metadata": {},
   "outputs": [
    {
     "data": {
      "text/plain": [
       "['和义',\n",
       " '大红门南',\n",
       " '大红门',\n",
       " '海户屯',\n",
       " '木樨园',\n",
       " '永定门外',\n",
       " '北京南站',\n",
       " '平安里',\n",
       " '马家堡',\n",
       " '新街口',\n",
       " '角门西',\n",
       " '西直门',\n",
       " '积水潭',\n",
       " '鼓楼大街',\n",
       " '安定门',\n",
       " '雍和宫',\n",
       " '东直门',\n",
       " '东四十条',\n",
       " '朝阳门',\n",
       " '建国门',\n",
       " '东单',\n",
       " '王府井',\n",
       " '天安门东',\n",
       " '天安门西',\n",
       " '西单',\n",
       " '复兴门',\n",
       " '南礼士路',\n",
       " '木樨地',\n",
       " '军事博物馆',\n",
       " '北京西站',\n",
       " '湾子',\n",
       " '达官营',\n",
       " '广安门内',\n",
       " '菜市口',\n",
       " '虎坊桥',\n",
       " '珠市口',\n",
       " '天桥']"
      ]
     },
     "execution_count": 32,
     "metadata": {},
     "output_type": "execute_result"
    }
   ],
   "source": [
    "search_by_way(stations_connection, start='和义', is_goal=is_goal('天桥'),is_by_way_path = is_by_way_path('角门西') ,search_strategy=sort_path(get_total_station, beam=10))"
   ]
  },
  {
   "cell_type": "code",
   "execution_count": null,
   "metadata": {
    "collapsed": true
   },
   "outputs": [],
   "source": []
  }
 ],
 "metadata": {
  "kernelspec": {
   "display_name": "Python 3",
   "language": "python",
   "name": "python3"
  },
  "language_info": {
   "codemirror_mode": {
    "name": "ipython",
    "version": 3
   },
   "file_extension": ".py",
   "mimetype": "text/x-python",
   "name": "python",
   "nbconvert_exporter": "python",
   "pygments_lexer": "ipython3",
   "version": "3.6.2"
  }
 },
 "nbformat": 4,
 "nbformat_minor": 2
}
